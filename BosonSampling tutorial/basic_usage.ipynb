{
 "cells": [
  {
   "cell_type": "markdown",
   "id": "cb8a6843",
   "metadata": {},
   "source": [
    "# Basic usage\n",
    "\n",
    "This tutorial will introduce you to the definition of the building blocks for your\n",
    "boson sampling experiment. The general workflow for a simple simulation is to define\n",
    "an [`Input`](@ref) that enters into a [`Interferometer`](@ref) and ask what is the\n",
    "probability to get a defined [`OutputMeasurement`](@ref).\n",
    "\n",
    "They are linked together through an [`Event`](@ref) type, which holds all the information relating to the virtual experiment. \n"
   ]
  },
  {
   "cell_type": "markdown",
   "id": "d347ec2e",
   "metadata": {},
   "source": [
    "## Input\n",
    "\n",
    "`BosonSampling.jl` provides different types of inputs. Here we will restrict to Fock states although Gaussian inputs are also available. We sort between three distinct types of input depending on the\n",
    "distinguishability of the particles we want to make interfere: [`Bosonic`](@ref),\n",
    "[`PartDist`](@ref) and [`Distinguishable`](@ref). The type [`PartDist`](@ref) is a container for different models of partial distinguishability. Currently available models are:\n",
    "* [`OneParameterInterpolation`](@ref)\n",
    "* [`RandomGramMatrix`](@ref)\n",
    "* [`UserDefinedGramMatrix`](@ref)\n",
    "\n",
    "In order to define the input, we first need to provide a [`ModeOccupation`](@ref) that describes the repartition of the particles among the modes."
   ]
  },
  {
   "cell_type": "code",
   "execution_count": 1,
   "id": "d074f976",
   "metadata": {},
   "outputs": [],
   "source": [
    "using BosonSampling#main\n",
    "using Plots\n",
    "using Distributions"
   ]
  },
  {
   "cell_type": "code",
   "execution_count": 2,
   "id": "de7fe992",
   "metadata": {},
   "outputs": [
    {
     "data": {
      "text/plain": [
       "state = [0, 0, 1, 0, 2, 0]"
      ]
     },
     "execution_count": 2,
     "metadata": {},
     "output_type": "execute_result"
    }
   ],
   "source": [
    "n = 3; # photon number\n",
    "m = 6; # mode number\n",
    "\n",
    "my_mode_occupation = ModeOccupation(random_occupancy(n,m))"
   ]
  },
  {
   "cell_type": "markdown",
   "id": "90a80b4a",
   "metadata": {},
   "source": [
    "In the example above, `my_mode_occupation` has been created thanks to [`random_occupancy`](@ref) that randomly places `n` particles among `m` modes.\n",
    "Let's build an input made off indistinguishable photons by using the type [`Bosonic`](@ref)"
   ]
  },
  {
   "cell_type": "code",
   "execution_count": null,
   "id": "f43acb04",
   "metadata": {},
   "outputs": [],
   "source": [
    "my_input = Input{Bosonic}(my_mode_occupation)\n"
   ]
  },
  {
   "cell_type": "markdown",
   "id": "90fb76cd",
   "metadata": {},
   "source": [
    "at creation, the Input took into account the partial distinguishability (here indistinguishable) of the photons, and created fields to hold this information. You can find all fields of a Type through"
   ]
  },
  {
   "cell_type": "code",
   "execution_count": null,
   "id": "870952d4",
   "metadata": {},
   "outputs": [],
   "source": [
    "fieldnames(Input)"
   ]
  },
  {
   "cell_type": "markdown",
   "id": "92dbb8e8",
   "metadata": {},
   "source": [
    "In this case, the gram matrix G was generated:"
   ]
  },
  {
   "cell_type": "code",
   "execution_count": null,
   "id": "3d3476a2",
   "metadata": {},
   "outputs": [],
   "source": [
    "my_input.G"
   ]
  },
  {
   "cell_type": "markdown",
   "id": "202c45d2",
   "metadata": {},
   "source": [
    "more info on the behaviour of a Type or Function is available just by doing"
   ]
  },
  {
   "cell_type": "code",
   "execution_count": null,
   "id": "71894cfd",
   "metadata": {},
   "outputs": [],
   "source": [
    "?GramMatrix"
   ]
  },
  {
   "cell_type": "markdown",
   "id": "4008bad3",
   "metadata": {},
   "source": [
    "You can also access all methods (functions) acting on a type (here `Subset`) with"
   ]
  },
  {
   "cell_type": "code",
   "execution_count": null,
   "id": "05d7f366",
   "metadata": {},
   "outputs": [],
   "source": [
    "methodswith(Subset)\n",
    "# this may take a minute"
   ]
  },
  {
   "cell_type": "markdown",
   "id": "d2062a4f",
   "metadata": {},
   "source": [
    "### Exercise\n",
    "\n",
    "Build an input of distinguishable 10 photons in 20 modes, with all photon distinguishable. The input should consist of three photons in the first mode, and the rest randomly distributed."
   ]
  },
  {
   "cell_type": "code",
   "execution_count": null,
   "id": "ff5c5403",
   "metadata": {},
   "outputs": [],
   "source": []
  },
  {
   "cell_type": "markdown",
   "id": "a518acd3",
   "metadata": {},
   "source": [
    "## Interferometer\n",
    "\n",
    "The second building block of our boson sampler is the interferometer\n",
    "we want to apply on `my_input`. A common practice to study boson sampling is to\n",
    "pick up at random a Haar distributed unitary matrix that will represent the interferometer.\n",
    "This can be done as follow:"
   ]
  },
  {
   "cell_type": "code",
   "execution_count": 3,
   "id": "3afc0035",
   "metadata": {},
   "outputs": [
    {
     "data": {
      "text/plain": [
       "6×6 Matrix{ComplexF64}:\n",
       "  -0.54492+0.0756887im  -0.0927714-0.12793im   …  -0.223639-0.497694im\n",
       " -0.168567-0.160195im    -0.295389-0.214419im     -0.424557-0.081141im\n",
       "  0.364372-0.0904026im   -0.027895+0.320015im     -0.191117-0.496002im\n",
       "  0.277427+0.374341im   -0.0528706-0.192462im     -0.240666+0.0884809im\n",
       " 0.0709919+0.411134im      0.23834+0.457145im       0.11788-0.308195im\n",
       " -0.028148-0.332198im    -0.188922+0.630313im  …  -0.241386-0.00370043im"
      ]
     },
     "execution_count": 3,
     "metadata": {},
     "output_type": "execute_result"
    }
   ],
   "source": [
    "my_random_interf = RandHaar(m);\n",
    "\n",
    "my_random_interf.U"
   ]
  },
  {
   "cell_type": "markdown",
   "id": "4ec81775",
   "metadata": {},
   "source": [
    "where we have accessed to the matrix thanks to the field `.U`.\n",
    "We may also need to use a specific interferometer such as a [`Discrete Fourier Transform`](https://en.wikipedia.org/wiki/Discrete_Fourier_transform) or the [`Hadamard transform`](https://en.wikipedia.org/wiki/Hadamard_transform):"
   ]
  },
  {
   "cell_type": "code",
   "execution_count": null,
   "id": "b50b4e02",
   "metadata": {},
   "outputs": [],
   "source": [
    "my_fourier_interf = Fourier(m)"
   ]
  },
  {
   "cell_type": "code",
   "execution_count": null,
   "id": "57a9ed51",
   "metadata": {},
   "outputs": [],
   "source": [
    "my_hadamard_tf = Hadamard(2^m)"
   ]
  },
  {
   "cell_type": "markdown",
   "id": "be8a2768",
   "metadata": {},
   "source": [
    "### Exercise:\n",
    "\n",
    "Find a method (from the package) to check that a matrix is unitary. Apply it to a `RandHaar` interferometer of your choice."
   ]
  },
  {
   "cell_type": "code",
   "execution_count": null,
   "id": "14d72eb6",
   "metadata": {},
   "outputs": [],
   "source": []
  },
  {
   "cell_type": "markdown",
   "id": "7708b329",
   "metadata": {},
   "source": [
    "## OutputMeasurement\n",
    "\n",
    "Now consider what you want to observe, in this numerical experiment. For the standard BosonSampling setup, as proposed by AA, we would use an [`OutputMeasurement`](@ref) type called [`FockDetection`](@ref), each detector reading the number of photons in its mode. \n",
    "\n",
    "### Exercise \n",
    "Various other detection types are available, including mode realistic detectors (with dark counts and inefficiency). We can also bin modes together in subsets, making a partition. Do you remember how you can find more about them? Try to print all available ones."
   ]
  },
  {
   "cell_type": "code",
   "execution_count": null,
   "id": "80af9408",
   "metadata": {},
   "outputs": [],
   "source": []
  },
  {
   "cell_type": "markdown",
   "id": "ec43cc71",
   "metadata": {},
   "source": [
    "Similary to the definition of the [`Input`](@ref), it is also possible to define an output configuration from a [`ModeOccupation`](@ref)"
   ]
  },
  {
   "cell_type": "code",
   "execution_count": 4,
   "id": "44798222",
   "metadata": {},
   "outputs": [
    {
     "data": {
      "text/plain": [
       "FockDetection(state = [1, 1, 1, 0, 0, 0, 0, 0, 0])"
      ]
     },
     "execution_count": 4,
     "metadata": {},
     "output_type": "execute_result"
    }
   ],
   "source": [
    "n = 3;\n",
    "\n",
    "m=n^2;\n",
    "\n",
    "my_mode_occupation = first_modes(n,m);\n",
    "\n",
    "my_input = Input{Bosonic}(my_mode_occupation)\n",
    "\n",
    "out = FockDetection(my_mode_occupation)"
   ]
  },
  {
   "cell_type": "markdown",
   "id": "1571c4a8",
   "metadata": {},
   "source": [
    "using [`FockDetection`](@ref). \n",
    "\n",
    "## Event\n",
    "\n",
    "A numerical simulation is packed into an [`Event`](@ref) type. It stores everything about the experiment, including input, output, interferometer, probabibilities. Let's see how it works"
   ]
  },
  {
   "cell_type": "code",
   "execution_count": 5,
   "id": "64e37bc1",
   "metadata": {},
   "outputs": [
    {
     "name": "stdout",
     "output_type": "stream",
     "text": [
      "Event:\n",
      "\n",
      "input state: state = [1, 1, 1, 0, 0, 0, 0, 0, 0] (Bosonic)\n",
      "\n",
      "output measurement: FockDetection(state = [1, 1, 1, 0, 0, 0, 0, 0, 0])\n",
      "\n",
      "Interferometer :\n",
      "\n",
      "Type : Fourier\n",
      "m : 9\n",
      "U : \n",
      "ComplexF64[0.3333333333333333 + 0.0im 0.3333333333333333 + 0.0im 0.3333333333333333 + 0.0im 0.3333333333333333 + 0.0im 0.3333333333333333 + 0.0im 0.3333333333333333 + 0.0im 0.3333333333333333 + 0.0im 0.3333333333333333 + 0.0im 0.3333333333333333 + 0.0im; 0.3333333333333333 + 0.0im 0.25534814770632597 + 0.21426253656217975im 0.057882725888976805 + 0.32826925100406934im -0.16666666666666657 + 0.28867513459481287im -0.3132308735953028 + 0.11400671444188962im -0.3132308735953028 - 0.11400671444188955im -0.1666666666666668 - 0.2886751345948128im 0.05788272588897665 - 0.32826925100406934im 0.2553481477063259 - 0.21426253656217986im; 0.3333333333333333 + 0.0im 0.057882725888976805 + 0.32826925100406934im -0.3132308735953028 + 0.11400671444188962im -0.1666666666666668 - 0.2886751345948128im 0.2553481477063259 - 0.21426253656217986im 0.255348147706326 + 0.2142625365621797im -0.1666666666666664 + 0.28867513459481303im -0.3132308735953029 - 0.11400671444188933im 0.05788272588897657 - 0.32826925100406934im; 0.3333333333333333 + 0.0im -0.16666666666666657 + 0.28867513459481287im -0.1666666666666668 - 0.2886751345948128im 0.3333333333333333 - 8.164311994315688e-17im -0.1666666666666664 + 0.28867513459481303im -0.1666666666666671 - 0.2886751345948126im 0.3333333333333333 - 1.6328623988631375e-16im -0.16666666666666632 + 0.2886751345948131im -0.16666666666666718 - 0.28867513459481253im; 0.3333333333333333 + 0.0im -0.3132308735953028 + 0.11400671444188962im 0.2553481477063259 - 0.21426253656217986im -0.1666666666666664 + 0.28867513459481303im 0.05788272588897657 - 0.32826925100406934im 0.057882725888976895 + 0.32826925100406934im -0.16666666666666718 - 0.28867513459481253im 0.2553481477063263 + 0.21426253656217936im -0.3132308735953029 - 0.11400671444188917im; 0.3333333333333333 + 0.0im -0.3132308735953028 - 0.11400671444188955im 0.255348147706326 + 0.2142625365621797im -0.1666666666666666 - 0.28867513459481287im 0.057882725888976895 + 0.32826925100406934im 0.05788272588897708 - 0.3282692510040693im -0.16666666666666677 + 0.2886751345948128im 0.25534814770632597 - 0.2142625365621798im -0.31323087359530266 + 0.11400671444188978im; 0.3333333333333333 + 0.0im -0.1666666666666668 - 0.2886751345948128im -0.1666666666666664 + 0.28867513459481303im 0.3333333333333333 - 1.6328623988631375e-16im -0.16666666666666718 - 0.28867513459481253im -0.16666666666666574 + 0.2886751345948134im 0.3333333333333333 - 3.265724797726275e-16im -0.16666666666666732 - 0.2886751345948125im -0.1666666666666656 + 0.2886751345948135im; 0.3333333333333333 + 0.0im 0.05788272588897665 - 0.32826925100406934im -0.3132308735953029 - 0.11400671444188933im -0.16666666666666632 + 0.2886751345948131im 0.2553481477063263 + 0.21426253656217936im 0.25534814770632597 - 0.2142625365621798im -0.16666666666666732 - 0.2886751345948125im -0.3132308735953023 + 0.11400671444189098im 0.057882725888977804 + 0.3282692510040691im; 0.3333333333333333 + 0.0im 0.2553481477063259 - 0.21426253656217986im 0.05788272588897657 - 0.32826925100406934im -0.16666666666666718 - 0.28867513459481253im -0.3132308735953029 - 0.11400671444188917im -0.31323087359530266 + 0.11400671444188978im -0.1666666666666656 + 0.2886751345948135im 0.057882725888977804 + 0.3282692510040691im 0.2553481477063265 + 0.2142625365621791im]\n",
      "\n",
      "proba_params: EventProbability(nothing"
     ]
    },
    {
     "data": {
      "text/plain": []
     },
     "execution_count": 5,
     "metadata": {},
     "output_type": "execute_result"
    },
    {
     "name": "stdout",
     "output_type": "stream",
     "text": [
      ", nothing, nothing)\n"
     ]
    }
   ],
   "source": [
    "my_interf = Fourier(my_input.m)\n",
    "ev = Event(my_input, out, my_interf)"
   ]
  },
  {
   "cell_type": "markdown",
   "id": "9a1239fc",
   "metadata": {},
   "source": [
    "### Exercise\n",
    "\n",
    "Now, can you find the probability of `ev`? It is stored in it, do you remember how to see what available fields are?"
   ]
  },
  {
   "cell_type": "code",
   "execution_count": null,
   "id": "e1a3c208",
   "metadata": {},
   "outputs": [],
   "source": []
  },
  {
   "cell_type": "markdown",
   "id": "036ecd2c",
   "metadata": {},
   "source": [
    "You may have noticed that the probability is... empty. Indeed, as computing these probabilities is often the computational bottleneck, their evaluation is delayed. Julia allows to keep a field empty, as a `Nothing` type. Interestingly, this is efficient for the compiler. Now, we can compute the probability as"
   ]
  },
  {
   "cell_type": "code",
   "execution_count": 6,
   "id": "49b97fb9",
   "metadata": {},
   "outputs": [
    {
     "data": {
      "text/plain": [
       "0.015964548319225582"
      ]
     },
     "execution_count": 6,
     "metadata": {},
     "output_type": "execute_result"
    }
   ],
   "source": [
    "compute_probability!(ev)"
   ]
  },
  {
   "cell_type": "markdown",
   "id": "c66c8444",
   "metadata": {},
   "source": [
    "### Exercise \n",
    "\n",
    "Compute the probability that partially distinguishable photons populating the `n=3`\n",
    "first modes of `m=9` modes end up in the `n` last output modes when interfering through\n",
    "a random interferometer"
   ]
  },
  {
   "cell_type": "code",
   "execution_count": null,
   "id": "7f67a7e7",
   "metadata": {},
   "outputs": [],
   "source": []
  },
  {
   "cell_type": "markdown",
   "id": "4d6afcbc",
   "metadata": {},
   "source": [
    "## Using the BosonSampling types\n",
    "\n",
    "Julia allows to define functions that act on new types, such as [`ModeOccupation`](@ref) defined in this package, through a syntax that would otherwise be reserved for core-objects such as `Float`, `Int`.\n",
    "\n",
    "This allows to intuitively act on custom types. For instance, two [`ModeOccupation`](@ref) can see their state summed by simply using `+`\n"
   ]
  },
  {
   "cell_type": "code",
   "execution_count": null,
   "id": "d9619f99",
   "metadata": {},
   "outputs": [],
   "source": [
    "n=3\n",
    "m=4\n",
    "s1 = ModeOccupation([1,2,3,4])\n",
    "s2 = ModeOccupation([1,0,1,0])\n",
    "\n",
    "s1+s2"
   ]
  },
  {
   "cell_type": "markdown",
   "id": "07b16aff",
   "metadata": {},
   "source": [
    "Some functions of interest are [`zeros(mo::ModeOccupation)`](@ref), [`Base.cat(s1::ModeOccupation, s2::ModeOccupation)`](@ref) for instance."
   ]
  },
  {
   "cell_type": "markdown",
   "id": "3adcc274",
   "metadata": {},
   "source": [
    "# Sampling\n",
    "\n",
    "Let's now use boson samplers with a realistic detector (see properties in Documentation)"
   ]
  },
  {
   "cell_type": "code",
   "execution_count": null,
   "id": "044ea6e8",
   "metadata": {},
   "outputs": [],
   "source": [
    "n = 10\n",
    "m = 10\n",
    "\n",
    "p_dark = 0.1\n",
    "p_no_count = 0.1\n",
    "\n",
    "input_state = first_modes(n,m)\n",
    "interf = RandHaar(m)\n",
    "\n",
    "i = Input{Bosonic}(input_state)\n",
    "o = RealisticDetectorsFockSample(p_dark, p_no_count)\n",
    "ev = Event(i,o,interf)\n",
    "\n",
    "BosonSampling.sample!(ev)\n"
   ]
  },
  {
   "cell_type": "markdown",
   "id": "384a57c1",
   "metadata": {},
   "source": [
    "this works intelligently for different types of inputs, detectors with the same `sample!` function"
   ]
  },
  {
   "cell_type": "code",
   "execution_count": null,
   "id": "68c292a1",
   "metadata": {},
   "outputs": [],
   "source": [
    "i = Input{Distinguishable}(input_state)\n",
    "o = FockSample()\n",
    "ev = Event(i,o,interf)\n",
    "\n",
    "BosonSampling.sample!(ev)"
   ]
  },
  {
   "cell_type": "markdown",
   "id": "f75d68b1",
   "metadata": {},
   "source": [
    "# Circuits\n",
    "\n",
    "Let's now see how to build optical circuits from elementary optical elements such as beam splitters. We first define an empty circuit, then add elements as follows"
   ]
  },
  {
   "cell_type": "code",
   "execution_count": null,
   "id": "2297d9f2",
   "metadata": {},
   "outputs": [],
   "source": [
    "n = 3\n",
    "m = n\n",
    "\n",
    "circuit = LosslessCircuit(m)\n",
    "interf = BeamSplitter(1/sqrt(2)) # the element we add\n",
    "target_modes = ModeList([1, 2],m) # acting on the first two modes\n",
    "add_element!(circuit, interf, target_modes)\n",
    "circuit"
   ]
  },
  {
   "cell_type": "markdown",
   "id": "be298313",
   "metadata": {},
   "source": [
    "Various other elements are available, for instance, we can now add a random phase shift on the last mode"
   ]
  },
  {
   "cell_type": "code",
   "execution_count": null,
   "id": "e3fb422e",
   "metadata": {},
   "outputs": [],
   "source": [
    "d = Uniform(0, 2pi)\n",
    "\n",
    "interf = RandomPhaseShifter(d)\n",
    "target_modes = ModeList([3],m) # acting on the last mode\n",
    "add_element!(circuit, interf, target_modes)\n",
    "circuit.U"
   ]
  },
  {
   "cell_type": "markdown",
   "id": "4c1848df",
   "metadata": {},
   "source": [
    "# Loss\n",
    "\n",
    "Loss can be incorporated through [`BeamSplitter`](@ref)'s sending photons with some probability to extra environment modes. If a physical [`Interferometer`](@ref) has `m` modes, we create extra `m` modes representing lost photons. In reality, these would not be accessible, but we may still keep this information if necessary. This allows to post-select events upon a certain loss pattern, such as finding `l` (lost) photons in the environment modes.\n",
    "\n",
    "## Conversions\n",
    "\n",
    "In general, the function [`to_lossy`](@ref) converts physical `m`-mode objects into their `2m`-modes counterpart fitting the above model. For instance"
   ]
  },
  {
   "cell_type": "code",
   "execution_count": null,
   "id": "eeaa9400",
   "metadata": {},
   "outputs": [],
   "source": [
    "n=3\n",
    "m=4\n",
    "first_modes(n,m)"
   ]
  },
  {
   "cell_type": "code",
   "execution_count": null,
   "id": "f46644ed",
   "metadata": {},
   "outputs": [],
   "source": [
    "to_lossy(first_modes(n,m))"
   ]
  },
  {
   "cell_type": "code",
   "execution_count": null,
   "id": "cc54ccaf",
   "metadata": {},
   "outputs": [],
   "source": [
    "# creating a Subset:\n",
    "Subset(first_modes(n,m))"
   ]
  },
  {
   "cell_type": "code",
   "execution_count": null,
   "id": "4421a355",
   "metadata": {},
   "outputs": [],
   "source": [
    "# expanding it doesn't change the Subset\n",
    "to_lossy(Subset(first_modes(n,m)))"
   ]
  },
  {
   "cell_type": "code",
   "execution_count": null,
   "id": "453c727d",
   "metadata": {},
   "outputs": [],
   "source": [
    "# but it is now of the correct size\n",
    "to_lossy(Subset(first_modes(n,m))).m"
   ]
  },
  {
   "cell_type": "markdown",
   "id": "5413b36c",
   "metadata": {},
   "source": [
    "## Conventions\n",
    "\n",
    "Each circuit element, such as [`BeamSplitter`](@ref) and [`PhaseShift`](@ref) can bear a certain amount of loss. We write it `η_loss`. It is the transmission amplitude of the beam splitter representing the loss process. Therefore the probability that a photon is not lost is `η_loss^2`.\n",
    "\n",
    "## Lossy interferometers\n",
    "\n",
    "The inclusion of loss creates bigger [`Interferometer`](@ref)'s, but half of their modes are not accessible (environment). For this reason, we use the subtype [`LossyInterferometer`](@ref).\n",
    "\n",
    "The fields are named in such a way that all computations can be done without changes, as if we now used a `2m*2m` lossless interferometer. The physical quantities are labelled accordingly such as `m_real` and `U_physical`.\n",
    "\n",
    "## Models implemented\n",
    "\n",
    "Let us now discuss the various lossy elements available.\n",
    "* [`UniformLossInterferometer`](@ref) : This simplest model is one where photons have an identical chance of being lost.\n",
    "* [`GeneralLossInterferometer`](@ref) This is a generic model as described in ...\n",
    "* Lossy circuit elements : When constructing a [`Circuit`](@ref) from elements, each element has its own loss characteristics. We also introduce lines, representing for instance optical fibers that have no interaction but can still be lossy.\n",
    "* [`LossyCircuit`](@ref): circuits with lossy elements.\n",
    "\n",
    "## Circuits\n",
    "\n",
    "When using `circuit_elements` to construct a lossy interferometer, the loss channel associated to mode `i` will always be mode `m+i`. We now give two detailed examples, the first includes a lossy line (such as an optical fiber), the second does HOM with a lossy beam splitter."
   ]
  },
  {
   "cell_type": "code",
   "execution_count": null,
   "id": "04ac327c",
   "metadata": {},
   "outputs": [],
   "source": [
    "### one d ex ##\n",
    "\n",
    "n = 1\n",
    "m = 1\n",
    "\n",
    "function lossy_line_example(η_loss)\n",
    "\n",
    "    circuit = LossyCircuit(1)\n",
    "    interf = LossyLine(η_loss)\n",
    "    target_modes = ModeList([1],m)\n",
    "\n",
    "    add_element_lossy!(circuit, interf, target_modes)\n",
    "    circuit\n",
    "\n",
    "end\n",
    "\n",
    "lossy_line_example(0.9)\n",
    "\n",
    "transmission_amplitude_loss_array = 0:0.1:1\n",
    "output_proba = []\n",
    "\n",
    "i = Input{Bosonic}(to_lossy(first_modes(n,m)))\n",
    "o = FockDetection(to_lossy(first_modes(n,m)))\n",
    "\n",
    "for transmission in transmission_amplitude_loss_array\n",
    "\n",
    "    ev = Event(i,o, lossy_line_example(transmission))\n",
    "    compute_probability!(ev)\n",
    "    push!(output_proba, ev.proba_params.probability)\n",
    "end\n",
    "\n",
    "print(output_proba)\n",
    "\n",
    "plot(transmission_amplitude_loss_array, output_proba)\n",
    "ylabel!(\"p no lost\")\n",
    "xlabel!(\"transmission amplitude\")\n"
   ]
  },
  {
   "cell_type": "code",
   "execution_count": null,
   "id": "ac2b7210",
   "metadata": {},
   "outputs": [],
   "source": [
    "### 2d HOM with loss example ###\n",
    "\n",
    "n = 2\n",
    "m = 2\n",
    "i = Input{Bosonic}(first_modes(n,m))\n",
    "o = FockDetection(ModeOccupation([2,0])) # detecting bunching, should be 0.5 in probability if there was no loss\n",
    "transmission_amplitude_loss_array = 0:0.1:1\n",
    "output_proba = []\n",
    "\n",
    "function lossy_bs_example(η_loss)\n",
    "\n",
    "    circuit = LossyCircuit(2)\n",
    "    interf = LossyBeamSplitter(1/sqrt(2), η_loss)\n",
    "    target_modes = ModeList([1,2],m)\n",
    "\n",
    "    add_element_lossy!(circuit, interf, target_modes)\n",
    "    circuit\n",
    "\n",
    "end\n",
    "\n",
    "for transmission in transmission_amplitude_loss_array\n",
    "\n",
    "    ev = Event(i,o, lossy_bs_example(transmission))\n",
    "    compute_probability!(ev)\n",
    "    push!(output_proba, ev.proba_params.probability)\n",
    "end\n",
    "\n",
    "plot(transmission_amplitude_loss_array, output_proba)\n",
    "ylabel!(\"p bunching top mode\")\n",
    "xlabel!(\"transmission amplitude\")"
   ]
  },
  {
   "cell_type": "markdown",
   "id": "5f714a08",
   "metadata": {},
   "source": [
    "# Photon counting in partitions\n",
    "\n",
    "One of the novel algorithmic tools in this package allows to bin the output modes of a BosonSampler, and to compute the probabilities associated with finding k_1 photons in the first bin, k_2 in the second, etc.\n",
    "\n",
    "A brute force evaluation of these probabilities would be extremely costly, but our algorithm can do it efficiently. For instance:"
   ]
  },
  {
   "cell_type": "code",
   "execution_count": null,
   "id": "43a74898",
   "metadata": {},
   "outputs": [],
   "source": [
    "n = 20\n",
    "m = 400\n",
    "\n",
    "# Experiment parameters\n",
    "input_state = first_modes(n,m)\n",
    "interf = RandHaar(m)\n",
    "i = Input{Bosonic}(input_state)\n",
    "\n",
    "# Subset selection\n",
    "s = Subset(first_modes(Int(m/2),m))\n",
    "part = Partition(s)\n",
    "\n",
    "# Want to find all photon counting probabilities\n",
    "o = PartitionCountsAll(part)\n",
    "\n",
    "# Define the event and compute probabilities\n",
    "ev = Event(i,o,interf)\n",
    "compute_probability!(ev)\n"
   ]
  },
  {
   "cell_type": "code",
   "execution_count": null,
   "id": "c86fcf90",
   "metadata": {},
   "outputs": [],
   "source": []
  }
 ],
 "metadata": {
  "kernelspec": {
   "display_name": "Julia 1.7.3",
   "language": "julia",
   "name": "julia-1.7"
  },
  "language_info": {
   "file_extension": ".jl",
   "mimetype": "application/julia",
   "name": "julia",
   "version": "1.8.1"
  }
 },
 "nbformat": 4,
 "nbformat_minor": 5
}
