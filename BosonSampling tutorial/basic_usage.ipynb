{
 "cells": [
  {
   "cell_type": "markdown",
   "id": "cb8a6843",
   "metadata": {},
   "source": [
    "# Basic usage\n",
    "\n",
    "This tutorial will introduce you to the definition of the building blocks for your\n",
    "boson sampling experiment. The general workflow for a simple simulation is to define\n",
    "an [`Input`](@ref) that enters into a [`Interferometer`](@ref) and ask what is the\n",
    "probability to get a defined [`OutputMeasurement`](@ref).\n",
    "\n",
    "They are linked together through an [`Event`](@ref) type, which holds the respective probabilities. As the computation of probabilities is often the most time consuming step, you need to explicitly ask for it through [`compute_probability!`](@ref) which updates the [`EventProbability`](@ref) data.\n"
   ]
  },
  {
   "cell_type": "markdown",
   "id": "d347ec2e",
   "metadata": {},
   "source": [
    "## Input\n",
    "\n",
    "`BosonSampling.jl` provides three distinct types of input depending on the\n",
    "distinguishability of the particles we want to make interfere: [`Bosonic`](@ref),\n",
    "[`PartDist`](@ref) and [`Distinguishable`](@ref). The type [`PartDist`](@ref) is a container for different models of partial distinguishability. Currently available models are:\n",
    "* [`OneParameterInterpolation`](@ref)\n",
    "* [`RandomGramMatrix`](@ref)\n",
    "* [`UserDefinedGramMatrix`](@ref)\n",
    "* [`Undef`](@ref)\n",
    "\n",
    "In order to define the input, we first need to provide a [`ModeOccupation`](@ref) that describes the repartition of the particles among the modes."
   ]
  },
  {
   "cell_type": "code",
   "execution_count": 33,
   "id": "d074f976",
   "metadata": {},
   "outputs": [],
   "source": [
    "using BosonSampling\n",
    "using Plots"
   ]
  },
  {
   "cell_type": "code",
   "execution_count": 2,
   "id": "de7fe992",
   "metadata": {},
   "outputs": [
    {
     "data": {
      "text/plain": [
       "state = [0, 0, 0, 2, 0, 1]"
      ]
     },
     "execution_count": 2,
     "metadata": {},
     "output_type": "execute_result"
    }
   ],
   "source": [
    "n = 3; # photon number\n",
    "m = 6; # mode number\n",
    "\n",
    "my_mode_occupation = ModeOccupation(random_occupancy(n,m))"
   ]
  },
  {
   "cell_type": "markdown",
   "id": "90a80b4a",
   "metadata": {},
   "source": [
    "In the example above, `my_mode_occupation` has been created thanks to [`random_occupancy`](@ref) that randomly places `n` particles among `m` modes. Here we have one particle in the first, fourth and fifth modes.\n",
    "Let's build an input made off indistinguishable photons by using the type [`Bosonic`](@ref)"
   ]
  },
  {
   "cell_type": "code",
   "execution_count": 3,
   "id": "f43acb04",
   "metadata": {},
   "outputs": [
    {
     "data": {
      "text/plain": [
       "Input{Bosonic}(state = [0, 0, 0, 2, 0, 1], 3, 6, GramMatrix{Bosonic}(3, ComplexF64[1.0 + 0.0im 1.0 + 0.0im 1.0 + 0.0im; 1.0 + 0.0im 1.0 + 0.0im 1.0 + 0.0im; 1.0 + 0.0im 1.0 + 0.0im 1.0 + 0.0im], nothing, nothing, OrthonormalBasis(nothing)), nothing)"
      ]
     },
     "execution_count": 3,
     "metadata": {},
     "output_type": "execute_result"
    }
   ],
   "source": [
    "my_input = Input{Bosonic}(my_mode_occupation)"
   ]
  },
  {
   "cell_type": "markdown",
   "id": "90fb76cd",
   "metadata": {},
   "source": [
    "where `my_input` holds the information defined above and an additional field, the [`GramMatrix`](@ref):"
   ]
  },
  {
   "cell_type": "code",
   "execution_count": 4,
   "id": "fff03296",
   "metadata": {},
   "outputs": [
    {
     "name": "stdout",
     "output_type": "stream",
     "text": [
      "search: \u001b[0m\u001b[1mG\u001b[22m\u001b[0m\u001b[1mr\u001b[22m\u001b[0m\u001b[1ma\u001b[22m\u001b[0m\u001b[1mm\u001b[22m\u001b[0m\u001b[1mM\u001b[22m\u001b[0m\u001b[1ma\u001b[22m\u001b[0m\u001b[1mt\u001b[22m\u001b[0m\u001b[1mr\u001b[22m\u001b[0m\u001b[1mi\u001b[22m\u001b[0m\u001b[1mx\u001b[22m \u001b[0m\u001b[1mg\u001b[22m\u001b[0m\u001b[1mr\u001b[22m\u001b[0m\u001b[1ma\u001b[22m\u001b[0m\u001b[1mm\u001b[22m_\u001b[0m\u001b[1mm\u001b[22m\u001b[0m\u001b[1ma\u001b[22m\u001b[0m\u001b[1mt\u001b[22m\u001b[0m\u001b[1mr\u001b[22m\u001b[0m\u001b[1mi\u001b[22m\u001b[0m\u001b[1mx\u001b[22m_one_param Random\u001b[0m\u001b[1mG\u001b[22m\u001b[0m\u001b[1mr\u001b[22m\u001b[0m\u001b[1ma\u001b[22m\u001b[0m\u001b[1mm\u001b[22m\u001b[0m\u001b[1mM\u001b[22m\u001b[0m\u001b[1ma\u001b[22m\u001b[0m\u001b[1mt\u001b[22m\u001b[0m\u001b[1mr\u001b[22m\u001b[0m\u001b[1mi\u001b[22m\u001b[0m\u001b[1mx\u001b[22m rand_\u001b[0m\u001b[1mg\u001b[22m\u001b[0m\u001b[1mr\u001b[22m\u001b[0m\u001b[1ma\u001b[22m\u001b[0m\u001b[1mm\u001b[22m_\u001b[0m\u001b[1mm\u001b[22m\u001b[0m\u001b[1ma\u001b[22m\u001b[0m\u001b[1mt\u001b[22m\u001b[0m\u001b[1mr\u001b[22m\u001b[0m\u001b[1mi\u001b[22m\u001b[0m\u001b[1mx\u001b[22m\n",
      "\n"
     ]
    },
    {
     "data": {
      "text/latex": [
       "\\begin{verbatim}\n",
       "GramMatrix{T}(n::Int) where {T<:InputType}\n",
       "GramMatrix{T}(n::Int, distinguishability_param::Real) where {T<:InputType}\n",
       "GramMatrix{T}(n::Int, S::Matrix) where {T<:InputType}\n",
       "\\end{verbatim}\n",
       "Matrix of partial distinguishability. Will automatically generate the proper matrix related to the provided \\href{@ref}{\\texttt{InputType}}.\n",
       "\n",
       "\\begin{verbatim}\n",
       "Fields:\n",
       "    - n::Int: photons number\n",
       "    - S::Matrix: Gram matrix\n",
       "    - rank::Union{Int, Nothing}\n",
       "    - distinguishability_param::Union{Real, Nothing}\n",
       "    - generating_vectors::OrthonormalBasis\n",
       "\\end{verbatim}\n"
      ],
      "text/markdown": [
       "```\n",
       "GramMatrix{T}(n::Int) where {T<:InputType}\n",
       "GramMatrix{T}(n::Int, distinguishability_param::Real) where {T<:InputType}\n",
       "GramMatrix{T}(n::Int, S::Matrix) where {T<:InputType}\n",
       "```\n",
       "\n",
       "Matrix of partial distinguishability. Will automatically generate the proper matrix related to the provided [`InputType`](@ref).\n",
       "\n",
       "```\n",
       "Fields:\n",
       "    - n::Int: photons number\n",
       "    - S::Matrix: Gram matrix\n",
       "    - rank::Union{Int, Nothing}\n",
       "    - distinguishability_param::Union{Real, Nothing}\n",
       "    - generating_vectors::OrthonormalBasis\n",
       "```\n"
      ],
      "text/plain": [
       "\u001b[36m  GramMatrix{T}(n::Int) where {T<:InputType}\u001b[39m\n",
       "\u001b[36m  GramMatrix{T}(n::Int, distinguishability_param::Real) where {T<:InputType}\u001b[39m\n",
       "\u001b[36m  GramMatrix{T}(n::Int, S::Matrix) where {T<:InputType}\u001b[39m\n",
       "\n",
       "  Matrix of partial distinguishability. Will automatically generate the proper\n",
       "  matrix related to the provided \u001b[36mInputType\u001b[39m.\n",
       "\n",
       "\u001b[36m  Fields:\u001b[39m\n",
       "\u001b[36m      - n::Int: photons number\u001b[39m\n",
       "\u001b[36m      - S::Matrix: Gram matrix\u001b[39m\n",
       "\u001b[36m      - rank::Union{Int, Nothing}\u001b[39m\n",
       "\u001b[36m      - distinguishability_param::Union{Real, Nothing}\u001b[39m\n",
       "\u001b[36m      - generating_vectors::OrthonormalBasis\u001b[39m"
      ]
     },
     "execution_count": 4,
     "metadata": {},
     "output_type": "execute_result"
    }
   ],
   "source": [
    "?GramMatrix"
   ]
  },
  {
   "cell_type": "code",
   "execution_count": 39,
   "id": "87e94cd6",
   "metadata": {},
   "outputs": [
    {
     "data": {
      "text/plain": [
       "(:input_state, :output_measurement, :proba_params, :interferometer)"
      ]
     },
     "execution_count": 39,
     "metadata": {},
     "output_type": "execute_result"
    }
   ],
   "source": [
    "fieldnames(Event)"
   ]
  },
  {
   "cell_type": "code",
   "execution_count": 42,
   "id": "52a98a8b",
   "metadata": {},
   "outputs": [
    {
     "name": "stdout",
     "output_type": "stream",
     "text": [
      "search: \u001b[0m\u001b[1mR\u001b[22m\u001b[0m\u001b[1me\u001b[22m\u001b[0m\u001b[1ma\u001b[22m\u001b[0m\u001b[1ml\u001b[22m\u001b[0m\u001b[1mi\u001b[22m\u001b[0m\u001b[1ms\u001b[22m\u001b[0m\u001b[1mt\u001b[22m\u001b[0m\u001b[1mi\u001b[22m\u001b[0m\u001b[1mc\u001b[22m\u001b[0m\u001b[1mD\u001b[22m\u001b[0m\u001b[1me\u001b[22m\u001b[0m\u001b[1mt\u001b[22m\u001b[0m\u001b[1me\u001b[22m\u001b[0m\u001b[1mc\u001b[22m\u001b[0m\u001b[1mt\u001b[22m\u001b[0m\u001b[1mo\u001b[22m\u001b[0m\u001b[1mr\u001b[22m\u001b[0m\u001b[1ms\u001b[22m\u001b[0m\u001b[1mF\u001b[22m\u001b[0m\u001b[1mo\u001b[22m\u001b[0m\u001b[1mc\u001b[22m\u001b[0m\u001b[1mk\u001b[22m\u001b[0m\u001b[1mS\u001b[22m\u001b[0m\u001b[1ma\u001b[22m\u001b[0m\u001b[1mm\u001b[22m\u001b[0m\u001b[1mp\u001b[22m\u001b[0m\u001b[1ml\u001b[22m\u001b[0m\u001b[1me\u001b[22m\n",
      "\n"
     ]
    },
    {
     "data": {
      "text/latex": [
       "\\begin{verbatim}\n",
       "RealisticDetectorsFockSample(p_dark::Real, p_no_count::Real)\n",
       "\\end{verbatim}\n",
       "Same as \\href{@ref}{\\texttt{DarkCountFockSample}} with the added possibility that no reading is observed although there is a photon. This same probability also removes dark counts (first a dark count sample is generated then readings are discarded with probability \\texttt{p\\_no\\_count}).\n",
       "\n"
      ],
      "text/markdown": [
       "```\n",
       "RealisticDetectorsFockSample(p_dark::Real, p_no_count::Real)\n",
       "```\n",
       "\n",
       "Same as [`DarkCountFockSample`](@ref) with the added possibility that no reading is observed although there is a photon. This same probability also removes dark counts (first a dark count sample is generated then readings are discarded with probability `p_no_count`).\n"
      ],
      "text/plain": [
       "\u001b[36m  RealisticDetectorsFockSample(p_dark::Real, p_no_count::Real)\u001b[39m\n",
       "\n",
       "  Same as \u001b[36mDarkCountFockSample\u001b[39m with the added possibility that no reading is\n",
       "  observed although there is a photon. This same probability also removes dark\n",
       "  counts (first a dark count sample is generated then readings are discarded\n",
       "  with probability \u001b[36mp_no_count\u001b[39m)."
      ]
     },
     "execution_count": 42,
     "metadata": {},
     "output_type": "execute_result"
    }
   ],
   "source": [
    "?RealisticDetectorsFockSample"
   ]
  },
  {
   "cell_type": "code",
   "execution_count": 43,
   "id": "2f07da73",
   "metadata": {},
   "outputs": [
    {
     "name": "stdout",
     "output_type": "stream",
     "text": [
      "search: \u001b[0m\u001b[1mF\u001b[22m\u001b[0m\u001b[1mo\u001b[22m\u001b[0m\u001b[1mc\u001b[22m\u001b[0m\u001b[1mk\u001b[22m\u001b[0m\u001b[1mS\u001b[22m\u001b[0m\u001b[1ma\u001b[22m\u001b[0m\u001b[1mm\u001b[22m\u001b[0m\u001b[1mp\u001b[22m\u001b[0m\u001b[1ml\u001b[22m\u001b[0m\u001b[1me\u001b[22m DarkCount\u001b[0m\u001b[1mF\u001b[22m\u001b[0m\u001b[1mo\u001b[22m\u001b[0m\u001b[1mc\u001b[22m\u001b[0m\u001b[1mk\u001b[22m\u001b[0m\u001b[1mS\u001b[22m\u001b[0m\u001b[1ma\u001b[22m\u001b[0m\u001b[1mm\u001b[22m\u001b[0m\u001b[1mp\u001b[22m\u001b[0m\u001b[1ml\u001b[22m\u001b[0m\u001b[1me\u001b[22m RealisticDetectors\u001b[0m\u001b[1mF\u001b[22m\u001b[0m\u001b[1mo\u001b[22m\u001b[0m\u001b[1mc\u001b[22m\u001b[0m\u001b[1mk\u001b[22m\u001b[0m\u001b[1mS\u001b[22m\u001b[0m\u001b[1ma\u001b[22m\u001b[0m\u001b[1mm\u001b[22m\u001b[0m\u001b[1mp\u001b[22m\u001b[0m\u001b[1ml\u001b[22m\u001b[0m\u001b[1me\u001b[22m\n",
      "\n"
     ]
    },
    {
     "data": {
      "text/latex": [
       "\\begin{verbatim}\n",
       "FockSample <: OutputMeasurementType\n",
       "\\end{verbatim}\n",
       "Container holding a sample from typical boson sampler.\n",
       "\n"
      ],
      "text/markdown": [
       "```\n",
       "FockSample <: OutputMeasurementType\n",
       "```\n",
       "\n",
       "Container holding a sample from typical boson sampler.\n"
      ],
      "text/plain": [
       "\u001b[36m  FockSample <: OutputMeasurementType\u001b[39m\n",
       "\n",
       "  Container holding a sample from typical boson sampler."
      ]
     },
     "execution_count": 43,
     "metadata": {},
     "output_type": "execute_result"
    }
   ],
   "source": [
    "?FockSample"
   ]
  },
  {
   "cell_type": "markdown",
   "id": "cc42a3a1",
   "metadata": {},
   "source": [
    "which contains everything about the distinguishability of the particles within `my_input`. The matrix itself can be accessed via the field `S`:"
   ]
  },
  {
   "cell_type": "code",
   "execution_count": 5,
   "id": "53387649",
   "metadata": {},
   "outputs": [
    {
     "data": {
      "text/plain": [
       "3×3 Matrix{ComplexF64}:\n",
       " 1.0+0.0im  1.0+0.0im  1.0+0.0im\n",
       " 1.0+0.0im  1.0+0.0im  1.0+0.0im\n",
       " 1.0+0.0im  1.0+0.0im  1.0+0.0im"
      ]
     },
     "execution_count": 5,
     "metadata": {},
     "output_type": "execute_result"
    }
   ],
   "source": [
    "my_input.G.S"
   ]
  },
  {
   "cell_type": "markdown",
   "id": "929833a9",
   "metadata": {},
   "source": [
    "One can do the same for [`Distinguishable`](@ref) particles placed in the [`first_modes`](@ref)"
   ]
  },
  {
   "cell_type": "code",
   "execution_count": 6,
   "id": "74d14b1d",
   "metadata": {},
   "outputs": [
    {
     "data": {
      "text/plain": [
       "3×3 Matrix{ComplexF64}:\n",
       " 1.0+0.0im  0.0+0.0im  0.0+0.0im\n",
       " 0.0+0.0im  1.0+0.0im  0.0+0.0im\n",
       " 0.0+0.0im  0.0+0.0im  1.0+0.0im"
      ]
     },
     "execution_count": 6,
     "metadata": {},
     "output_type": "execute_result"
    }
   ],
   "source": [
    "my_mode_occupation = first_modes(n,m);\n",
    "\n",
    "my_input = Input{Distinguishable}(my_mode_occupation);\n",
    "\n",
    "my_input.G.S"
   ]
  },
  {
   "cell_type": "markdown",
   "id": "002accf7",
   "metadata": {},
   "source": [
    "We can move now to the [`PartDist`](@ref) case with a model of partially distinguishable particles defined by a [`RandomGramMatrix`](@ref)"
   ]
  },
  {
   "cell_type": "code",
   "execution_count": 7,
   "id": "065966ad",
   "metadata": {},
   "outputs": [
    {
     "data": {
      "text/plain": [
       "Input{RandomGramMatrix}(state = [1, 1, 1, 0, 0, 0], 3, 6, GramMatrix{RandomGramMatrix}(3, ComplexF64[1.0 + 0.0im 0.7066727302676918 - 0.30292597145145506im 0.7340077025690823 + 0.11013786956836874im; 0.7066727302676918 + 0.30292597145145506im 0.9999999999999999 + 0.0im 0.7218278542441346 + 0.4916620248708677im; 0.7340077025690823 - 0.11013786956836874im 0.7218278542441346 - 0.4916620248708677im 1.0 + 0.0im], nothing, nothing, OrthonormalBasis(nothing)), nothing)"
      ]
     },
     "execution_count": 7,
     "metadata": {},
     "output_type": "execute_result"
    }
   ],
   "source": [
    "my_input = Input{RandomGramMatrix}(first_modes(n,m))"
   ]
  },
  {
   "cell_type": "markdown",
   "id": "b1294f58",
   "metadata": {},
   "source": [
    "where `my_input.G.S` is a randomly generated Gram matrix."
   ]
  },
  {
   "cell_type": "markdown",
   "id": "6207898b",
   "metadata": {},
   "source": [
    "Finally, one can resort to a [`OneParameterInterpolation`](@ref) model taking a linear distinguishability\n",
    "parameter as an additional argument in the definition of `my_input`:"
   ]
  },
  {
   "cell_type": "code",
   "execution_count": 8,
   "id": "21d3b58b",
   "metadata": {},
   "outputs": [
    {
     "data": {
      "text/plain": [
       "Input{OneParameterInterpolation}(state = [0, 0, 0, 2, 0, 1], 3, 6, GramMatrix{OneParameterInterpolation}(3, [1.0 0.7 0.7; 0.7 1.0 0.7; 0.7 0.7 1.0], nothing, 0.7, OrthonormalBasis(nothing)), 0.7)"
      ]
     },
     "execution_count": 8,
     "metadata": {},
     "output_type": "execute_result"
    }
   ],
   "source": [
    "my_mode_occupation = ModeOccupation(random_occupancy(n,m));\n",
    "\n",
    "my_distinguishability_param = 0.7;\n",
    "\n",
    "my_input = Input{OneParameterInterpolation}(my_mode_occupation, my_distinguishability_param)"
   ]
  },
  {
   "cell_type": "markdown",
   "id": "42752ed8",
   "metadata": {},
   "source": [
    "Notice that the [`Bosonic`](@ref) Gram matrix is recovered for `my_distinguishability_param = 1`\n",
    "while we find the [`Distinguishable`](@ref) case for `my_distinguishability_param = 0`.  "
   ]
  },
  {
   "cell_type": "markdown",
   "id": "a518acd3",
   "metadata": {},
   "source": [
    "## Interferometer\n",
    "\n",
    "The second building block of our boson sampler is the interferometer\n",
    "we want to apply on `my_input`. A common practice to study boson sampling is to\n",
    "pick up at random a Haar distributed unitary matrix that will represent the interferometer.\n",
    "This can be done as follow:"
   ]
  },
  {
   "cell_type": "code",
   "execution_count": 9,
   "id": "3afc0035",
   "metadata": {},
   "outputs": [
    {
     "data": {
      "text/plain": [
       "6×6 Matrix{ComplexF64}:\n",
       " -0.261717-0.32965im   -0.344292-0.0404349im  …   0.398573+0.331492im\n",
       " -0.208785-0.448637im  -0.392232+0.190346im       0.200925-0.163829im\n",
       "  0.457423-0.141612im  -0.229379+0.0708311im      0.154988-0.176772im\n",
       "  0.189825+0.102093im  -0.585728+0.214754im      -0.550915-0.126376im\n",
       "  0.480885-0.145053im   0.259174+0.386741im       0.161418-0.25216im\n",
       " -0.196152-0.107032im  -0.152068-0.0552985im  …  -0.446507-0.0168888im"
      ]
     },
     "execution_count": 9,
     "metadata": {},
     "output_type": "execute_result"
    }
   ],
   "source": [
    "my_random_interf = RandHaar(m);\n",
    "\n",
    "my_random_interf.U"
   ]
  },
  {
   "cell_type": "markdown",
   "id": "4ec81775",
   "metadata": {},
   "source": [
    "where we have accessed to the matrix thanks to the field `.U`.\n",
    "We may also need to use a specific interferometer such as a [`Discrete Fourier Transform`](https://en.wikipedia.org/wiki/Discrete_Fourier_transform) or the [`Hadamard transform`](https://en.wikipedia.org/wiki/Hadamard_transform):"
   ]
  },
  {
   "cell_type": "code",
   "execution_count": 10,
   "id": "b50b4e02",
   "metadata": {},
   "outputs": [
    {
     "data": {
      "text/plain": [
       "true"
      ]
     },
     "execution_count": 10,
     "metadata": {},
     "output_type": "execute_result"
    }
   ],
   "source": [
    "my_fourier_interf = Fourier(m);\n",
    "\n",
    "is_unitary(my_fourier_interf.U)"
   ]
  },
  {
   "cell_type": "code",
   "execution_count": 11,
   "id": "57a9ed51",
   "metadata": {},
   "outputs": [
    {
     "data": {
      "text/plain": [
       "true"
      ]
     },
     "execution_count": 11,
     "metadata": {},
     "output_type": "execute_result"
    }
   ],
   "source": [
    "my_hadamard_tf = Hadamard(2^m);\n",
    "\n",
    "is_unitary(my_hadamard_tf.U)"
   ]
  },
  {
   "cell_type": "markdown",
   "id": "be8a2768",
   "metadata": {},
   "source": [
    "where we have checked the unitarity thanks to `is_unitary`."
   ]
  },
  {
   "cell_type": "markdown",
   "id": "24bc61f9",
   "metadata": {},
   "source": [
    "The implemented interferometers are listed in [`Interferometer`](@ref) but it is still\n",
    "possible to define our own unitary by resorting to the type [`UserDefinedInterferometer`](@ref):"
   ]
  },
  {
   "cell_type": "code",
   "execution_count": 12,
   "id": "66e371fa",
   "metadata": {},
   "outputs": [
    {
     "data": {
      "text/plain": [
       "Interferometer :\n",
       "\n",
       "Type : UserDefinedInterferometer\n",
       "m : 2\n",
       "Unitary : \n",
       "┌────────┬────────┐\n",
       "│\u001b[1m Col. 1 \u001b[0m│\u001b[1m Col. 2 \u001b[0m│\n",
       "├────────┼────────┤\n",
       "│  0+0im │  0-1im │\n",
       "│  0+1im │  0+0im │\n",
       "└────────┴────────┘\n"
      ]
     },
     "execution_count": 12,
     "metadata": {},
     "output_type": "execute_result"
    }
   ],
   "source": [
    "sigma_y = [0 -1im; 1im 0];\n",
    "\n",
    "my_interf = UserDefinedInterferometer(sigma_y)"
   ]
  },
  {
   "cell_type": "markdown",
   "id": "7708b329",
   "metadata": {},
   "source": [
    "## OutputMeasurement\n",
    "\n",
    "Now consider what you want to observe, in this numerical experiment. If looking at the case of a single output, we would use an [`OutputMeasurement`](@ref) type called [`FockDetection`](@ref). Other types are currently defined such as [`PartitionCount`](@ref), which would evaluate the probability of finding a photon count in a partition of the output modes.\n",
    "\n",
    "Similary to the definition of the [`Input`](@ref), it is also possible to define an output configuration from a [`ModeOccupation`](@ref)"
   ]
  },
  {
   "cell_type": "code",
   "execution_count": 13,
   "id": "44798222",
   "metadata": {},
   "outputs": [
    {
     "data": {
      "text/plain": [
       "FockDetection(state = [1, 1, 1, 0, 0, 0, 0, 0, 0])"
      ]
     },
     "execution_count": 13,
     "metadata": {},
     "output_type": "execute_result"
    }
   ],
   "source": [
    "n = 3;\n",
    "\n",
    "m=n^2;\n",
    "\n",
    "my_mode_occupation = first_modes(n,m);\n",
    "\n",
    "my_input = Input{Bosonic}(my_mode_occupation)\n",
    "\n",
    "out = FockDetection(my_mode_occupation)"
   ]
  },
  {
   "cell_type": "markdown",
   "id": "1571c4a8",
   "metadata": {},
   "source": [
    "using [`FockDetection`](@ref). Additionally, we can define an [`Event`](@ref) that stores our input-interferometer-output content"
   ]
  },
  {
   "cell_type": "code",
   "execution_count": 14,
   "id": "64e37bc1",
   "metadata": {},
   "outputs": [
    {
     "data": {
      "text/plain": [
       "Event{Bosonic, FockDetection}(Input{Bosonic}(state = [1, 1, 1, 0, 0, 0, 0, 0, 0], 3, 9, GramMatrix{Bosonic}(3, ComplexF64[1.0 + 0.0im 1.0 + 0.0im 1.0 + 0.0im; 1.0 + 0.0im 1.0 + 0.0im 1.0 + 0.0im; 1.0 + 0.0im 1.0 + 0.0im 1.0 + 0.0im], nothing, nothing, OrthonormalBasis(nothing)), nothing), FockDetection(state = [1, 1, 1, 0, 0, 0, 0, 0, 0]), EventProbability(nothing, nothing, nothing), Interferometer :\n",
       "\n",
       "Type : Fourier\n",
       "m : 9\n",
       "U : \n",
       "ComplexF64[0.3333333333333333 + 0.0im 0.3333333333333333 + 0.0im … 0.3333333333333333 + 0.0im 0.3333333333333333 + 0.0im; 0.3333333333333333 + 0.0im 0.25534814770632597 + 0.21426253656217975im … 0.05788272588897665 - 0.32826925100406934im 0.2553481477063259 - 0.21426253656217986im; … ; 0.3333333333333333 + 0.0im 0.05788272588897665 - 0.32826925100406934im … -0.3132308735953023 + 0.11400671444189098im 0.057882725888977804 + 0.3282692510040691im; 0.3333333333333333 + 0.0im 0.2553481477063259 - 0.21426253656217986im … 0.057882725888977804 + 0.3282692510040691im 0.2553481477063265 + 0.2142625365621791im])"
      ]
     },
     "execution_count": 14,
     "metadata": {},
     "output_type": "execute_result"
    }
   ],
   "source": [
    "my_interf = Fourier(my_input.m)\n",
    "ev = Event(my_input, out, my_interf)"
   ]
  },
  {
   "cell_type": "markdown",
   "id": "9a1239fc",
   "metadata": {},
   "source": [
    "and then one can compute the probability that this event occurs"
   ]
  },
  {
   "cell_type": "code",
   "execution_count": 15,
   "id": "49b97fb9",
   "metadata": {},
   "outputs": [
    {
     "data": {
      "text/plain": [
       "0.015964548319225575"
      ]
     },
     "execution_count": 15,
     "metadata": {},
     "output_type": "execute_result"
    }
   ],
   "source": [
    "compute_probability!(ev)"
   ]
  },
  {
   "cell_type": "markdown",
   "id": "c66c8444",
   "metadata": {},
   "source": [
    "Those steps can be repeated for different types of input. Let's say we want to\n",
    "compute the probability that partially distinguishable photons populating the `n=3`\n",
    "first modes of `m=9` modes end up in the `n` last output modes when interfering through\n",
    "a random interferometer:"
   ]
  },
  {
   "cell_type": "code",
   "execution_count": 16,
   "id": "7f67a7e7",
   "metadata": {},
   "outputs": [
    {
     "data": {
      "text/plain": [
       "0.0001713859412777654"
      ]
     },
     "execution_count": 16,
     "metadata": {},
     "output_type": "execute_result"
    }
   ],
   "source": [
    "my_input = Input{RandomGramMatrix}(first_modes(n,m)); # input from a randomly generated Gram matrix\n",
    "\n",
    "out = FockDetection(ModeOccupation([0,0,0,0,0,0,1,1,1]));\n",
    "\n",
    "my_interf = RandHaar(m);\n",
    "\n",
    "ev = Event(my_input, out, my_interf);\n",
    "\n",
    "compute_probability!(ev)"
   ]
  },
  {
   "cell_type": "markdown",
   "id": "4d6afcbc",
   "metadata": {},
   "source": [
    "## Using the BosonSampling types\n",
    "\n",
    "Julia allows to define functions that act on new types, such as [`ModeOccupation`](@ref) defined in this package, through a syntax that would otherwise be reserved for core-objects such as `Float`, `Int`.\n",
    "\n",
    "This allows to intuitively act on custom types. For instance, two [`ModeOccupation`](@ref) can see their state summed by simply using `+`\n"
   ]
  },
  {
   "cell_type": "code",
   "execution_count": 17,
   "id": "d9619f99",
   "metadata": {},
   "outputs": [
    {
     "data": {
      "text/plain": [
       "state = [2, 2, 4, 4]"
      ]
     },
     "execution_count": 17,
     "metadata": {},
     "output_type": "execute_result"
    }
   ],
   "source": [
    "n=3\n",
    "m=4\n",
    "s1 = ModeOccupation([1,2,3,4])\n",
    "s2 = ModeOccupation([1,0,1,0])\n",
    "\n",
    "s1+s2"
   ]
  },
  {
   "cell_type": "markdown",
   "id": "07b16aff",
   "metadata": {},
   "source": [
    "Some functions of interest are [`zeros(mo::ModeOccupation)`](@ref), [`Base.cat(s1::ModeOccupation, s2::ModeOccupation)`](@ref) for instance."
   ]
  },
  {
   "cell_type": "markdown",
   "id": "3adcc274",
   "metadata": {},
   "source": [
    "# Sampling\n",
    "\n",
    "Let's now use boson samplers with a realistic detector (see properties in Documentation)"
   ]
  },
  {
   "cell_type": "code",
   "execution_count": 18,
   "id": "044ea6e8",
   "metadata": {},
   "outputs": [
    {
     "data": {
      "text/plain": [
       "state = [0, 0, 0, 3, 2, 2, 0, 1, 3, 0]"
      ]
     },
     "execution_count": 18,
     "metadata": {},
     "output_type": "execute_result"
    }
   ],
   "source": [
    "n = 10\n",
    "m = 10\n",
    "\n",
    "p_dark = 0.1\n",
    "p_no_count = 0.1\n",
    "\n",
    "input_state = first_modes(n,m)\n",
    "interf = RandHaar(m)\n",
    "\n",
    "i = Input{Bosonic}(input_state)\n",
    "o = RealisticDetectorsFockSample(p_dark, p_no_count)\n",
    "ev = Event(i,o,interf)\n",
    "\n",
    "sample!(ev)\n"
   ]
  },
  {
   "cell_type": "markdown",
   "id": "384a57c1",
   "metadata": {},
   "source": [
    "this works intelligently for different types of inputs, detectors with the same `sample!` function"
   ]
  },
  {
   "cell_type": "code",
   "execution_count": 20,
   "id": "68c292a1",
   "metadata": {},
   "outputs": [
    {
     "data": {
      "text/plain": [
       "state = [1, 1, 0, 1, 0, 0, 0, 1, 1, 5]"
      ]
     },
     "execution_count": 20,
     "metadata": {},
     "output_type": "execute_result"
    }
   ],
   "source": [
    "i = Input{Distinguishable}(input_state)\n",
    "o = FockSample()\n",
    "ev = Event(i,o,interf)\n",
    "\n",
    "sample!(ev)"
   ]
  },
  {
   "cell_type": "markdown",
   "id": "f75d68b1",
   "metadata": {},
   "source": [
    "# Circuits\n",
    "\n",
    "Let's now see how to build optical circuits from elementary optical elements such as beam splitters. We first define an empty circuit, then add elements as follows"
   ]
  },
  {
   "cell_type": "code",
   "execution_count": 22,
   "id": "2297d9f2",
   "metadata": {},
   "outputs": [
    {
     "name": "stdout",
     "output_type": "stream",
     "text": [
      "┌───────────┬───────────┬───────────┐\n",
      "│\u001b[1m    Col. 1 \u001b[0m│\u001b[1m    Col. 2 \u001b[0m│\u001b[1m    Col. 3 \u001b[0m│\n",
      "├───────────┼───────────┼───────────┤\n",
      "│ 1.0+0.0im │ 0.0+0.0im │ 0.0+0.0im │\n",
      "│ 0.0+0.0im │ 1.0+0.0im │ 0.0+0.0im │\n",
      "│ 0.0+0.0im │ 0.0+0.0im │ 1.0+0.0im │\n",
      "└───────────┴───────────┴───────────┘\n",
      "pretty_table(circuit.U) = nothing\n",
      "┌────────────────┬─────────────────┬───────────┐\n",
      "│\u001b[1m         Col. 1 \u001b[0m│\u001b[1m          Col. 2 \u001b[0m│\u001b[1m    Col. 3 \u001b[0m│\n",
      "├────────────────┼─────────────────┼───────────┤\n",
      "│ 0.707107+0.0im │ -0.707107+0.0im │ 0.0+0.0im │\n",
      "│ 0.707107+0.0im │  0.707107+0.0im │ 0.0+0.0im │\n",
      "│      0.0+0.0im │       0.0+0.0im │ 1.0+0.0im │\n",
      "└────────────────┴─────────────────┴───────────┘\n",
      "pretty_table(u) = nothing\n",
      "┌────────────────┬─────────────────┬───────────┐\n",
      "│\u001b[1m         Col. 1 \u001b[0m│\u001b[1m          Col. 2 \u001b[0m│\u001b[1m    Col. 3 \u001b[0m│\n",
      "├────────────────┼─────────────────┼───────────┤\n",
      "│ 0.707107+0.0im │ -0.707107+0.0im │ 0.0+0.0im │\n",
      "│ 0.707107+0.0im │  0.707107+0.0im │ 0.0+0.0im │\n",
      "│      0.0+0.0im │       0.0+0.0im │ 1.0+0.0im │\n",
      "└────────────────┴─────────────────┴───────────┘\n",
      "pretty_table(circuit.U) = nothing\n"
     ]
    }
   ],
   "source": [
    "n = 3\n",
    "m = n\n",
    "\n",
    "circuit = LosslessCircuit(m)\n",
    "interf = BeamSplitter(1/sqrt(2)) # the element we add\n",
    "target_modes = [1, 2] # acting on the first two modes\n",
    "add_element!(circuit, interf, target_modes = target_modes)"
   ]
  },
  {
   "cell_type": "markdown",
   "id": "4c1848df",
   "metadata": {},
   "source": [
    "# Loss\n",
    "\n",
    "Loss can be incorporated through [`BeamSplitter`](@ref)'s sending photons with some probability to extra environment modes. If a physical [`Interferometer`](@ref) has `m` modes, we create extra `m` modes representing lost photons. In reality, these would not be accessible, but we may still keep this information if necessary. This allows to post-select events upon a certain loss pattern, such as finding `l` (lost) photons in the environment modes.\n",
    "\n",
    "## Conversions\n",
    "\n",
    "In general, the function [`to_lossy`](@ref) converts physical `m`-mode objects into their `2m`-modes counterpart fitting the above model. For instance"
   ]
  },
  {
   "cell_type": "code",
   "execution_count": 25,
   "id": "eeaa9400",
   "metadata": {},
   "outputs": [
    {
     "data": {
      "text/plain": [
       "state = [1, 1, 1, 0]"
      ]
     },
     "execution_count": 25,
     "metadata": {},
     "output_type": "execute_result"
    }
   ],
   "source": [
    "n=3\n",
    "m=4\n",
    "first_modes(n,m)"
   ]
  },
  {
   "cell_type": "code",
   "execution_count": 26,
   "id": "f46644ed",
   "metadata": {},
   "outputs": [
    {
     "data": {
      "text/plain": [
       "state = [1, 1, 1, 0, 0, 0, 0, 0]"
      ]
     },
     "execution_count": 26,
     "metadata": {},
     "output_type": "execute_result"
    }
   ],
   "source": [
    "to_lossy(first_modes(n,m))"
   ]
  },
  {
   "cell_type": "code",
   "execution_count": 30,
   "id": "cc54ccaf",
   "metadata": {},
   "outputs": [
    {
     "data": {
      "text/plain": [
       "subset = [1, 2, 3]"
      ]
     },
     "execution_count": 30,
     "metadata": {},
     "output_type": "execute_result"
    }
   ],
   "source": [
    "# creating a Subset:\n",
    "Subset(first_modes(n,m))"
   ]
  },
  {
   "cell_type": "code",
   "execution_count": 29,
   "id": "4421a355",
   "metadata": {},
   "outputs": [
    {
     "data": {
      "text/plain": [
       "subset = [1, 2, 3]"
      ]
     },
     "execution_count": 29,
     "metadata": {},
     "output_type": "execute_result"
    }
   ],
   "source": [
    "# expanding it doesn't change the Subset\n",
    "to_lossy(Subset(first_modes(n,m)))"
   ]
  },
  {
   "cell_type": "code",
   "execution_count": 31,
   "id": "453c727d",
   "metadata": {},
   "outputs": [
    {
     "data": {
      "text/plain": [
       "8"
      ]
     },
     "execution_count": 31,
     "metadata": {},
     "output_type": "execute_result"
    }
   ],
   "source": [
    "# but it is now of the correct size\n",
    "to_lossy(Subset(first_modes(n,m))).m"
   ]
  },
  {
   "cell_type": "markdown",
   "id": "5413b36c",
   "metadata": {},
   "source": [
    "## Conventions\n",
    "\n",
    "Each circuit element, such as [`BeamSplitter`](@ref) and [`PhaseShift`](@ref) can bear a certain amount of loss. We write it `η_loss`. It is the transmission amplitude of the beam splitter representing the loss process. Therefore the probability that a photon is not lost is `η_loss^2`.\n",
    "\n",
    "## Lossy interferometers\n",
    "\n",
    "The inclusion of loss creates bigger [`Interferometer`](@ref)'s, but half of their modes are not physical. For this reason, we use the subtype [`LossyInterferometer`](@ref).\n",
    "\n",
    "The fields are named in such a way that all computations can be done without changes, as if we now used a `2m*2m` lossless interferometer. The physical quantities are labelled accordingly such as `m_real` and `U_physical`.\n",
    "\n",
    "## Models implemented\n",
    "\n",
    "Let us now discuss the various lossy elements available.\n",
    "* [`UniformLossInterferometer`](@ref) : This simplest model is one where photons have an identical chance of being lost.\n",
    "* [`GeneralLossInterferometer`](@ref) This is a generic model as described in ...\n",
    "* Lossy circuit elements : When constructing a [`Circuit`](@ref) from elements, each element has its own loss characteristics. We also introduce lines, representing for instance optical fibers that have no interaction but can still be lossy.\n",
    "\n",
    "## Circuits\n",
    "\n",
    "When using `circuit_elements` to construct a lossy interferometer, the loss channel associated to mode `i` will always be mode `m+i`."
   ]
  },
  {
   "cell_type": "code",
   "execution_count": 36,
   "id": "04ac327c",
   "metadata": {},
   "outputs": [
    {
     "data": {
      "image/svg+xml": [
       "<?xml version=\"1.0\" encoding=\"utf-8\"?>\n",
       "<svg xmlns=\"http://www.w3.org/2000/svg\" xmlns:xlink=\"http://www.w3.org/1999/xlink\" width=\"600\" height=\"400\" viewBox=\"0 0 2400 1600\">\n",
       "<defs>\n",
       "  <clipPath id=\"clip900\">\n",
       "    <rect x=\"0\" y=\"0\" width=\"2400\" height=\"1600\"/>\n",
       "  </clipPath>\n",
       "</defs>\n",
       "<path clip-path=\"url(#clip900)\" d=\"\n",
       "M0 1600 L2400 1600 L2400 0 L0 0  Z\n",
       "  \" fill=\"#ffffff\" fill-rule=\"evenodd\" fill-opacity=\"1\"/>\n",
       "<defs>\n",
       "  <clipPath id=\"clip901\">\n",
       "    <rect x=\"480\" y=\"0\" width=\"1681\" height=\"1600\"/>\n",
       "  </clipPath>\n",
       "</defs>\n",
       "<path clip-path=\"url(#clip900)\" d=\"\n",
       "M249.542 1423.18 L2352.76 1423.18 L2352.76 47.2441 L249.542 47.2441  Z\n",
       "  \" fill=\"#ffffff\" fill-rule=\"evenodd\" fill-opacity=\"1\"/>\n",
       "<defs>\n",
       "  <clipPath id=\"clip902\">\n",
       "    <rect x=\"249\" y=\"47\" width=\"2104\" height=\"1377\"/>\n",
       "  </clipPath>\n",
       "</defs>\n",
       "<polyline clip-path=\"url(#clip902)\" style=\"stroke:#000000; stroke-linecap:round; stroke-linejoin:round; stroke-width:2; stroke-opacity:0.1; fill:none\" points=\"\n",
       "  309.067,1423.18 309.067,47.2441 \n",
       "  \"/>\n",
       "<polyline clip-path=\"url(#clip902)\" style=\"stroke:#000000; stroke-linecap:round; stroke-linejoin:round; stroke-width:2; stroke-opacity:0.1; fill:none\" points=\"\n",
       "  805.108,1423.18 805.108,47.2441 \n",
       "  \"/>\n",
       "<polyline clip-path=\"url(#clip902)\" style=\"stroke:#000000; stroke-linecap:round; stroke-linejoin:round; stroke-width:2; stroke-opacity:0.1; fill:none\" points=\"\n",
       "  1301.15,1423.18 1301.15,47.2441 \n",
       "  \"/>\n",
       "<polyline clip-path=\"url(#clip902)\" style=\"stroke:#000000; stroke-linecap:round; stroke-linejoin:round; stroke-width:2; stroke-opacity:0.1; fill:none\" points=\"\n",
       "  1797.19,1423.18 1797.19,47.2441 \n",
       "  \"/>\n",
       "<polyline clip-path=\"url(#clip902)\" style=\"stroke:#000000; stroke-linecap:round; stroke-linejoin:round; stroke-width:2; stroke-opacity:0.1; fill:none\" points=\"\n",
       "  2293.23,1423.18 2293.23,47.2441 \n",
       "  \"/>\n",
       "<polyline clip-path=\"url(#clip900)\" style=\"stroke:#000000; stroke-linecap:round; stroke-linejoin:round; stroke-width:4; stroke-opacity:1; fill:none\" points=\"\n",
       "  249.542,1423.18 2352.76,1423.18 \n",
       "  \"/>\n",
       "<polyline clip-path=\"url(#clip900)\" style=\"stroke:#000000; stroke-linecap:round; stroke-linejoin:round; stroke-width:4; stroke-opacity:1; fill:none\" points=\"\n",
       "  309.067,1423.18 309.067,1404.28 \n",
       "  \"/>\n",
       "<polyline clip-path=\"url(#clip900)\" style=\"stroke:#000000; stroke-linecap:round; stroke-linejoin:round; stroke-width:4; stroke-opacity:1; fill:none\" points=\"\n",
       "  805.108,1423.18 805.108,1404.28 \n",
       "  \"/>\n",
       "<polyline clip-path=\"url(#clip900)\" style=\"stroke:#000000; stroke-linecap:round; stroke-linejoin:round; stroke-width:4; stroke-opacity:1; fill:none\" points=\"\n",
       "  1301.15,1423.18 1301.15,1404.28 \n",
       "  \"/>\n",
       "<polyline clip-path=\"url(#clip900)\" style=\"stroke:#000000; stroke-linecap:round; stroke-linejoin:round; stroke-width:4; stroke-opacity:1; fill:none\" points=\"\n",
       "  1797.19,1423.18 1797.19,1404.28 \n",
       "  \"/>\n",
       "<polyline clip-path=\"url(#clip900)\" style=\"stroke:#000000; stroke-linecap:round; stroke-linejoin:round; stroke-width:4; stroke-opacity:1; fill:none\" points=\"\n",
       "  2293.23,1423.18 2293.23,1404.28 \n",
       "  \"/>\n",
       "<path clip-path=\"url(#clip900)\" d=\"M271.37 1454.1 Q267.759 1454.1 265.931 1457.66 Q264.125 1461.2 264.125 1468.33 Q264.125 1475.44 265.931 1479.01 Q267.759 1482.55 271.37 1482.55 Q275.005 1482.55 276.81 1479.01 Q278.639 1475.44 278.639 1468.33 Q278.639 1461.2 276.81 1457.66 Q275.005 1454.1 271.37 1454.1 M271.37 1450.39 Q277.181 1450.39 280.236 1455 Q283.315 1459.58 283.315 1468.33 Q283.315 1477.06 280.236 1481.67 Q277.181 1486.25 271.37 1486.25 Q265.56 1486.25 262.482 1481.67 Q259.426 1477.06 259.426 1468.33 Q259.426 1459.58 262.482 1455 Q265.56 1450.39 271.37 1450.39 Z\" fill=\"#000000\" fill-rule=\"evenodd\" fill-opacity=\"1\" /><path clip-path=\"url(#clip900)\" d=\"M291.532 1479.7 L296.417 1479.7 L296.417 1485.58 L291.532 1485.58 L291.532 1479.7 Z\" fill=\"#000000\" fill-rule=\"evenodd\" fill-opacity=\"1\" /><path clip-path=\"url(#clip900)\" d=\"M316.602 1454.1 Q312.991 1454.1 311.162 1457.66 Q309.356 1461.2 309.356 1468.33 Q309.356 1475.44 311.162 1479.01 Q312.991 1482.55 316.602 1482.55 Q320.236 1482.55 322.041 1479.01 Q323.87 1475.44 323.87 1468.33 Q323.87 1461.2 322.041 1457.66 Q320.236 1454.1 316.602 1454.1 M316.602 1450.39 Q322.412 1450.39 325.467 1455 Q328.546 1459.58 328.546 1468.33 Q328.546 1477.06 325.467 1481.67 Q322.412 1486.25 316.602 1486.25 Q310.791 1486.25 307.713 1481.67 Q304.657 1477.06 304.657 1468.33 Q304.657 1459.58 307.713 1455 Q310.791 1450.39 316.602 1450.39 Z\" fill=\"#000000\" fill-rule=\"evenodd\" fill-opacity=\"1\" /><path clip-path=\"url(#clip900)\" d=\"M346.764 1454.1 Q343.152 1454.1 341.324 1457.66 Q339.518 1461.2 339.518 1468.33 Q339.518 1475.44 341.324 1479.01 Q343.152 1482.55 346.764 1482.55 Q350.398 1482.55 352.203 1479.01 Q354.032 1475.44 354.032 1468.33 Q354.032 1461.2 352.203 1457.66 Q350.398 1454.1 346.764 1454.1 M346.764 1450.39 Q352.574 1450.39 355.629 1455 Q358.708 1459.58 358.708 1468.33 Q358.708 1477.06 355.629 1481.67 Q352.574 1486.25 346.764 1486.25 Q340.953 1486.25 337.875 1481.67 Q334.819 1477.06 334.819 1468.33 Q334.819 1459.58 337.875 1455 Q340.953 1450.39 346.764 1450.39 Z\" fill=\"#000000\" fill-rule=\"evenodd\" fill-opacity=\"1\" /><path clip-path=\"url(#clip900)\" d=\"M767.909 1454.1 Q764.298 1454.1 762.469 1457.66 Q760.664 1461.2 760.664 1468.33 Q760.664 1475.44 762.469 1479.01 Q764.298 1482.55 767.909 1482.55 Q771.543 1482.55 773.349 1479.01 Q775.178 1475.44 775.178 1468.33 Q775.178 1461.2 773.349 1457.66 Q771.543 1454.1 767.909 1454.1 M767.909 1450.39 Q773.719 1450.39 776.775 1455 Q779.853 1459.58 779.853 1468.33 Q779.853 1477.06 776.775 1481.67 Q773.719 1486.25 767.909 1486.25 Q762.099 1486.25 759.02 1481.67 Q755.965 1477.06 755.965 1468.33 Q755.965 1459.58 759.02 1455 Q762.099 1450.39 767.909 1450.39 Z\" fill=\"#000000\" fill-rule=\"evenodd\" fill-opacity=\"1\" /><path clip-path=\"url(#clip900)\" d=\"M788.071 1479.7 L792.955 1479.7 L792.955 1485.58 L788.071 1485.58 L788.071 1479.7 Z\" fill=\"#000000\" fill-rule=\"evenodd\" fill-opacity=\"1\" /><path clip-path=\"url(#clip900)\" d=\"M807.168 1481.64 L823.487 1481.64 L823.487 1485.58 L801.543 1485.58 L801.543 1481.64 Q804.205 1478.89 808.788 1474.26 Q813.395 1469.61 814.576 1468.27 Q816.821 1465.74 817.7 1464.01 Q818.603 1462.25 818.603 1460.56 Q818.603 1457.8 816.659 1456.07 Q814.738 1454.33 811.636 1454.33 Q809.437 1454.33 806.983 1455.09 Q804.552 1455.86 801.775 1457.41 L801.775 1452.69 Q804.599 1451.55 807.052 1450.97 Q809.506 1450.39 811.543 1450.39 Q816.913 1450.39 820.108 1453.08 Q823.302 1455.77 823.302 1460.26 Q823.302 1462.39 822.492 1464.31 Q821.705 1466.2 819.599 1468.8 Q819.02 1469.47 815.918 1472.69 Q812.816 1475.88 807.168 1481.64 Z\" fill=\"#000000\" fill-rule=\"evenodd\" fill-opacity=\"1\" /><path clip-path=\"url(#clip900)\" d=\"M833.349 1451.02 L851.705 1451.02 L851.705 1454.96 L837.631 1454.96 L837.631 1463.43 Q838.649 1463.08 839.668 1462.92 Q840.686 1462.73 841.705 1462.73 Q847.492 1462.73 850.872 1465.9 Q854.251 1469.08 854.251 1474.49 Q854.251 1480.07 850.779 1483.17 Q847.307 1486.25 840.987 1486.25 Q838.811 1486.25 836.543 1485.88 Q834.298 1485.51 831.89 1484.77 L831.89 1480.07 Q833.974 1481.2 836.196 1481.76 Q838.418 1482.32 840.895 1482.32 Q844.899 1482.32 847.237 1480.21 Q849.575 1478.1 849.575 1474.49 Q849.575 1470.88 847.237 1468.77 Q844.899 1466.67 840.895 1466.67 Q839.02 1466.67 837.145 1467.08 Q835.293 1467.5 833.349 1468.38 L833.349 1451.02 Z\" fill=\"#000000\" fill-rule=\"evenodd\" fill-opacity=\"1\" /><path clip-path=\"url(#clip900)\" d=\"M1263.45 1454.1 Q1259.84 1454.1 1258.01 1457.66 Q1256.21 1461.2 1256.21 1468.33 Q1256.21 1475.44 1258.01 1479.01 Q1259.84 1482.55 1263.45 1482.55 Q1267.09 1482.55 1268.89 1479.01 Q1270.72 1475.44 1270.72 1468.33 Q1270.72 1461.2 1268.89 1457.66 Q1267.09 1454.1 1263.45 1454.1 M1263.45 1450.39 Q1269.26 1450.39 1272.32 1455 Q1275.4 1459.58 1275.4 1468.33 Q1275.4 1477.06 1272.32 1481.67 Q1269.26 1486.25 1263.45 1486.25 Q1257.64 1486.25 1254.56 1481.67 Q1251.51 1477.06 1251.51 1468.33 Q1251.51 1459.58 1254.56 1455 Q1257.64 1450.39 1263.45 1450.39 Z\" fill=\"#000000\" fill-rule=\"evenodd\" fill-opacity=\"1\" /><path clip-path=\"url(#clip900)\" d=\"M1283.61 1479.7 L1288.5 1479.7 L1288.5 1485.58 L1283.61 1485.58 L1283.61 1479.7 Z\" fill=\"#000000\" fill-rule=\"evenodd\" fill-opacity=\"1\" /><path clip-path=\"url(#clip900)\" d=\"M1298.73 1451.02 L1317.09 1451.02 L1317.09 1454.96 L1303.01 1454.96 L1303.01 1463.43 Q1304.03 1463.08 1305.05 1462.92 Q1306.07 1462.73 1307.09 1462.73 Q1312.87 1462.73 1316.25 1465.9 Q1319.63 1469.08 1319.63 1474.49 Q1319.63 1480.07 1316.16 1483.17 Q1312.69 1486.25 1306.37 1486.25 Q1304.19 1486.25 1301.92 1485.88 Q1299.68 1485.51 1297.27 1484.77 L1297.27 1480.07 Q1299.35 1481.2 1301.58 1481.76 Q1303.8 1482.32 1306.28 1482.32 Q1310.28 1482.32 1312.62 1480.21 Q1314.96 1478.1 1314.96 1474.49 Q1314.96 1470.88 1312.62 1468.77 Q1310.28 1466.67 1306.28 1466.67 Q1304.4 1466.67 1302.53 1467.08 Q1300.67 1467.5 1298.73 1468.38 L1298.73 1451.02 Z\" fill=\"#000000\" fill-rule=\"evenodd\" fill-opacity=\"1\" /><path clip-path=\"url(#clip900)\" d=\"M1338.85 1454.1 Q1335.23 1454.1 1333.41 1457.66 Q1331.6 1461.2 1331.6 1468.33 Q1331.6 1475.44 1333.41 1479.01 Q1335.23 1482.55 1338.85 1482.55 Q1342.48 1482.55 1344.29 1479.01 Q1346.11 1475.44 1346.11 1468.33 Q1346.11 1461.2 1344.29 1457.66 Q1342.48 1454.1 1338.85 1454.1 M1338.85 1450.39 Q1344.66 1450.39 1347.71 1455 Q1350.79 1459.58 1350.79 1468.33 Q1350.79 1477.06 1347.71 1481.67 Q1344.66 1486.25 1338.85 1486.25 Q1333.04 1486.25 1329.96 1481.67 Q1326.9 1477.06 1326.9 1468.33 Q1326.9 1459.58 1329.96 1455 Q1333.04 1450.39 1338.85 1450.39 Z\" fill=\"#000000\" fill-rule=\"evenodd\" fill-opacity=\"1\" /><path clip-path=\"url(#clip900)\" d=\"M1759.99 1454.1 Q1756.38 1454.1 1754.55 1457.66 Q1752.75 1461.2 1752.75 1468.33 Q1752.75 1475.44 1754.55 1479.01 Q1756.38 1482.55 1759.99 1482.55 Q1763.63 1482.55 1765.43 1479.01 Q1767.26 1475.44 1767.26 1468.33 Q1767.26 1461.2 1765.43 1457.66 Q1763.63 1454.1 1759.99 1454.1 M1759.99 1450.39 Q1765.8 1450.39 1768.86 1455 Q1771.94 1459.58 1771.94 1468.33 Q1771.94 1477.06 1768.86 1481.67 Q1765.8 1486.25 1759.99 1486.25 Q1754.18 1486.25 1751.1 1481.67 Q1748.05 1477.06 1748.05 1468.33 Q1748.05 1459.58 1751.1 1455 Q1754.18 1450.39 1759.99 1450.39 Z\" fill=\"#000000\" fill-rule=\"evenodd\" fill-opacity=\"1\" /><path clip-path=\"url(#clip900)\" d=\"M1780.15 1479.7 L1785.04 1479.7 L1785.04 1485.58 L1780.15 1485.58 L1780.15 1479.7 Z\" fill=\"#000000\" fill-rule=\"evenodd\" fill-opacity=\"1\" /><path clip-path=\"url(#clip900)\" d=\"M1794.04 1451.02 L1816.26 1451.02 L1816.26 1453.01 L1803.72 1485.58 L1798.83 1485.58 L1810.64 1454.96 L1794.04 1454.96 L1794.04 1451.02 Z\" fill=\"#000000\" fill-rule=\"evenodd\" fill-opacity=\"1\" /><path clip-path=\"url(#clip900)\" d=\"M1825.43 1451.02 L1843.79 1451.02 L1843.79 1454.96 L1829.71 1454.96 L1829.71 1463.43 Q1830.73 1463.08 1831.75 1462.92 Q1832.77 1462.73 1833.79 1462.73 Q1839.57 1462.73 1842.95 1465.9 Q1846.33 1469.08 1846.33 1474.49 Q1846.33 1480.07 1842.86 1483.17 Q1839.39 1486.25 1833.07 1486.25 Q1830.89 1486.25 1828.62 1485.88 Q1826.38 1485.51 1823.97 1484.77 L1823.97 1480.07 Q1826.06 1481.2 1828.28 1481.76 Q1830.5 1482.32 1832.98 1482.32 Q1836.98 1482.32 1839.32 1480.21 Q1841.66 1478.1 1841.66 1474.49 Q1841.66 1470.88 1839.32 1468.77 Q1836.98 1466.67 1832.98 1466.67 Q1831.1 1466.67 1829.23 1467.08 Q1827.38 1467.5 1825.43 1468.38 L1825.43 1451.02 Z\" fill=\"#000000\" fill-rule=\"evenodd\" fill-opacity=\"1\" /><path clip-path=\"url(#clip900)\" d=\"M2245.3 1481.64 L2252.94 1481.64 L2252.94 1455.28 L2244.63 1456.95 L2244.63 1452.69 L2252.9 1451.02 L2257.57 1451.02 L2257.57 1481.64 L2265.21 1481.64 L2265.21 1485.58 L2245.3 1485.58 L2245.3 1481.64 Z\" fill=\"#000000\" fill-rule=\"evenodd\" fill-opacity=\"1\" /><path clip-path=\"url(#clip900)\" d=\"M2274.65 1479.7 L2279.54 1479.7 L2279.54 1485.58 L2274.65 1485.58 L2274.65 1479.7 Z\" fill=\"#000000\" fill-rule=\"evenodd\" fill-opacity=\"1\" /><path clip-path=\"url(#clip900)\" d=\"M2299.72 1454.1 Q2296.11 1454.1 2294.28 1457.66 Q2292.48 1461.2 2292.48 1468.33 Q2292.48 1475.44 2294.28 1479.01 Q2296.11 1482.55 2299.72 1482.55 Q2303.36 1482.55 2305.16 1479.01 Q2306.99 1475.44 2306.99 1468.33 Q2306.99 1461.2 2305.16 1457.66 Q2303.36 1454.1 2299.72 1454.1 M2299.72 1450.39 Q2305.53 1450.39 2308.59 1455 Q2311.67 1459.58 2311.67 1468.33 Q2311.67 1477.06 2308.59 1481.67 Q2305.53 1486.25 2299.72 1486.25 Q2293.91 1486.25 2290.84 1481.67 Q2287.78 1477.06 2287.78 1468.33 Q2287.78 1459.58 2290.84 1455 Q2293.91 1450.39 2299.72 1450.39 Z\" fill=\"#000000\" fill-rule=\"evenodd\" fill-opacity=\"1\" /><path clip-path=\"url(#clip900)\" d=\"M2329.89 1454.1 Q2326.27 1454.1 2324.45 1457.66 Q2322.64 1461.2 2322.64 1468.33 Q2322.64 1475.44 2324.45 1479.01 Q2326.27 1482.55 2329.89 1482.55 Q2333.52 1482.55 2335.33 1479.01 Q2337.15 1475.44 2337.15 1468.33 Q2337.15 1461.2 2335.33 1457.66 Q2333.52 1454.1 2329.89 1454.1 M2329.89 1450.39 Q2335.7 1450.39 2338.75 1455 Q2341.83 1459.58 2341.83 1468.33 Q2341.83 1477.06 2338.75 1481.67 Q2335.7 1486.25 2329.89 1486.25 Q2324.08 1486.25 2321 1481.67 Q2317.94 1477.06 2317.94 1468.33 Q2317.94 1459.58 2321 1455 Q2324.08 1450.39 2329.89 1450.39 Z\" fill=\"#000000\" fill-rule=\"evenodd\" fill-opacity=\"1\" /><path clip-path=\"url(#clip900)\" d=\"M930.681 1522.27 L930.681 1532.4 L942.744 1532.4 L942.744 1536.95 L930.681 1536.95 L930.681 1556.3 Q930.681 1560.66 931.858 1561.9 Q933.068 1563.14 936.728 1563.14 L942.744 1563.14 L942.744 1568.04 L936.728 1568.04 Q929.949 1568.04 927.371 1565.53 Q924.792 1562.98 924.792 1556.3 L924.792 1536.95 L920.496 1536.95 L920.496 1532.4 L924.792 1532.4 L924.792 1522.27 L930.681 1522.27 Z\" fill=\"#000000\" fill-rule=\"evenodd\" fill-opacity=\"1\" /><path clip-path=\"url(#clip900)\" d=\"M971.103 1537.87 Q970.116 1537.3 968.939 1537.04 Q967.793 1536.76 966.392 1536.76 Q961.427 1536.76 958.754 1540 Q956.112 1543.22 956.112 1549.27 L956.112 1568.04 L950.223 1568.04 L950.223 1532.4 L956.112 1532.4 L956.112 1537.93 Q957.958 1534.69 960.918 1533.13 Q963.878 1531.54 968.111 1531.54 Q968.716 1531.54 969.448 1531.63 Q970.18 1531.7 971.071 1531.85 L971.103 1537.87 Z\" fill=\"#000000\" fill-rule=\"evenodd\" fill-opacity=\"1\" /><path clip-path=\"url(#clip900)\" d=\"M993.447 1550.12 Q986.349 1550.12 983.612 1551.75 Q980.874 1553.37 980.874 1557.29 Q980.874 1560.4 982.911 1562.25 Q984.98 1564.07 988.513 1564.07 Q993.383 1564.07 996.311 1560.63 Q999.271 1557.16 999.271 1551.43 L999.271 1550.12 L993.447 1550.12 M1005.13 1547.71 L1005.13 1568.04 L999.271 1568.04 L999.271 1562.63 Q997.266 1565.88 994.274 1567.44 Q991.282 1568.97 986.954 1568.97 Q981.479 1568.97 978.233 1565.91 Q975.018 1562.82 975.018 1557.67 Q975.018 1551.65 979.028 1548.6 Q983.071 1545.54 991.059 1545.54 L999.271 1545.54 L999.271 1544.97 Q999.271 1540.93 996.598 1538.73 Q993.956 1536.5 989.15 1536.5 Q986.094 1536.5 983.198 1537.23 Q980.301 1537.97 977.628 1539.43 L977.628 1534.02 Q980.843 1532.78 983.866 1532.17 Q986.89 1531.54 989.755 1531.54 Q997.489 1531.54 1001.31 1535.55 Q1005.13 1539.56 1005.13 1547.71 Z\" fill=\"#000000\" fill-rule=\"evenodd\" fill-opacity=\"1\" /><path clip-path=\"url(#clip900)\" d=\"M1046.82 1546.53 L1046.82 1568.04 L1040.97 1568.04 L1040.97 1546.72 Q1040.97 1541.66 1038.99 1539.14 Q1037.02 1536.63 1033.07 1536.63 Q1028.33 1536.63 1025.59 1539.65 Q1022.86 1542.68 1022.86 1547.9 L1022.86 1568.04 L1016.97 1568.04 L1016.97 1532.4 L1022.86 1532.4 L1022.86 1537.93 Q1024.96 1534.72 1027.79 1533.13 Q1030.65 1531.54 1034.38 1531.54 Q1040.52 1531.54 1043.67 1535.36 Q1046.82 1539.14 1046.82 1546.53 Z\" fill=\"#000000\" fill-rule=\"evenodd\" fill-opacity=\"1\" /><path clip-path=\"url(#clip900)\" d=\"M1081.23 1533.45 L1081.23 1538.98 Q1078.75 1537.71 1076.07 1537.07 Q1073.4 1536.44 1070.54 1536.44 Q1066.17 1536.44 1063.98 1537.77 Q1061.81 1539.11 1061.81 1541.79 Q1061.81 1543.82 1063.37 1545 Q1064.93 1546.15 1069.64 1547.2 L1071.65 1547.64 Q1077.89 1548.98 1080.5 1551.43 Q1083.14 1553.85 1083.14 1558.21 Q1083.14 1563.17 1079.19 1566.07 Q1075.28 1568.97 1068.4 1568.97 Q1065.54 1568.97 1062.42 1568.39 Q1059.33 1567.85 1055.89 1566.74 L1055.89 1560.69 Q1059.14 1562.38 1062.29 1563.24 Q1065.44 1564.07 1068.53 1564.07 Q1072.67 1564.07 1074.9 1562.66 Q1077.12 1561.23 1077.12 1558.65 Q1077.12 1556.27 1075.5 1554.99 Q1073.91 1553.72 1068.47 1552.54 L1066.43 1552.07 Q1060.99 1550.92 1058.57 1548.56 Q1056.15 1546.18 1056.15 1542.04 Q1056.15 1537.01 1059.71 1534.27 Q1063.28 1531.54 1069.84 1531.54 Q1073.08 1531.54 1075.95 1532.01 Q1078.81 1532.49 1081.23 1533.45 Z\" fill=\"#000000\" fill-rule=\"evenodd\" fill-opacity=\"1\" /><path clip-path=\"url(#clip900)\" d=\"M1120.22 1539.24 Q1122.42 1535.29 1125.47 1533.41 Q1128.53 1531.54 1132.66 1531.54 Q1138.23 1531.54 1141.26 1535.45 Q1144.28 1539.33 1144.28 1546.53 L1144.28 1568.04 L1138.39 1568.04 L1138.39 1546.72 Q1138.39 1541.59 1136.58 1539.11 Q1134.77 1536.63 1131.04 1536.63 Q1126.49 1536.63 1123.85 1539.65 Q1121.21 1542.68 1121.21 1547.9 L1121.21 1568.04 L1115.32 1568.04 L1115.32 1546.72 Q1115.32 1541.56 1113.5 1539.11 Q1111.69 1536.63 1107.9 1536.63 Q1103.41 1536.63 1100.77 1539.68 Q1098.13 1542.71 1098.13 1547.9 L1098.13 1568.04 L1092.24 1568.04 L1092.24 1532.4 L1098.13 1532.4 L1098.13 1537.93 Q1100.14 1534.66 1102.94 1533.1 Q1105.74 1531.54 1109.59 1531.54 Q1113.47 1531.54 1116.18 1533.51 Q1118.91 1535.48 1120.22 1539.24 Z\" fill=\"#000000\" fill-rule=\"evenodd\" fill-opacity=\"1\" /><path clip-path=\"url(#clip900)\" d=\"M1155.96 1532.4 L1161.82 1532.4 L1161.82 1568.04 L1155.96 1568.04 L1155.96 1532.4 M1155.96 1518.52 L1161.82 1518.52 L1161.82 1525.93 L1155.96 1525.93 L1155.96 1518.52 Z\" fill=\"#000000\" fill-rule=\"evenodd\" fill-opacity=\"1\" /><path clip-path=\"url(#clip900)\" d=\"M1196.8 1533.45 L1196.8 1538.98 Q1194.32 1537.71 1191.64 1537.07 Q1188.97 1536.44 1186.1 1536.44 Q1181.74 1536.44 1179.55 1537.77 Q1177.38 1539.11 1177.38 1541.79 Q1177.38 1543.82 1178.94 1545 Q1180.5 1546.15 1185.21 1547.2 L1187.22 1547.64 Q1193.46 1548.98 1196.07 1551.43 Q1198.71 1553.85 1198.71 1558.21 Q1198.71 1563.17 1194.76 1566.07 Q1190.85 1568.97 1183.97 1568.97 Q1181.11 1568.97 1177.99 1568.39 Q1174.9 1567.85 1171.46 1566.74 L1171.46 1560.69 Q1174.71 1562.38 1177.86 1563.24 Q1181.01 1564.07 1184.1 1564.07 Q1188.24 1564.07 1190.47 1562.66 Q1192.69 1561.23 1192.69 1558.65 Q1192.69 1556.27 1191.07 1554.99 Q1189.48 1553.72 1184.04 1552.54 L1182 1552.07 Q1176.56 1550.92 1174.14 1548.56 Q1171.72 1546.18 1171.72 1542.04 Q1171.72 1537.01 1175.28 1534.27 Q1178.85 1531.54 1185.4 1531.54 Q1188.65 1531.54 1191.52 1532.01 Q1194.38 1532.49 1196.8 1533.45 Z\" fill=\"#000000\" fill-rule=\"evenodd\" fill-opacity=\"1\" /><path clip-path=\"url(#clip900)\" d=\"M1230.76 1533.45 L1230.76 1538.98 Q1228.28 1537.71 1225.6 1537.07 Q1222.93 1536.44 1220.07 1536.44 Q1215.71 1536.44 1213.51 1537.77 Q1211.34 1539.11 1211.34 1541.79 Q1211.34 1543.82 1212.9 1545 Q1214.46 1546.15 1219.17 1547.2 L1221.18 1547.64 Q1227.42 1548.98 1230.03 1551.43 Q1232.67 1553.85 1232.67 1558.21 Q1232.67 1563.17 1228.72 1566.07 Q1224.81 1568.97 1217.93 1568.97 Q1215.07 1568.97 1211.95 1568.39 Q1208.86 1567.85 1205.42 1566.74 L1205.42 1560.69 Q1208.67 1562.38 1211.82 1563.24 Q1214.97 1564.07 1218.06 1564.07 Q1222.2 1564.07 1224.43 1562.66 Q1226.65 1561.23 1226.65 1558.65 Q1226.65 1556.27 1225.03 1554.99 Q1223.44 1553.72 1218 1552.54 L1215.96 1552.07 Q1210.52 1550.92 1208.1 1548.56 Q1205.68 1546.18 1205.68 1542.04 Q1205.68 1537.01 1209.24 1534.27 Q1212.81 1531.54 1219.37 1531.54 Q1222.61 1531.54 1225.48 1532.01 Q1228.34 1532.49 1230.76 1533.45 Z\" fill=\"#000000\" fill-rule=\"evenodd\" fill-opacity=\"1\" /><path clip-path=\"url(#clip900)\" d=\"M1242 1532.4 L1247.85 1532.4 L1247.85 1568.04 L1242 1568.04 L1242 1532.4 M1242 1518.52 L1247.85 1518.52 L1247.85 1525.93 L1242 1525.93 L1242 1518.52 Z\" fill=\"#000000\" fill-rule=\"evenodd\" fill-opacity=\"1\" /><path clip-path=\"url(#clip900)\" d=\"M1273.92 1536.5 Q1269.21 1536.5 1266.47 1540.19 Q1263.73 1543.85 1263.73 1550.25 Q1263.73 1556.65 1266.44 1560.34 Q1269.18 1564 1273.92 1564 Q1278.6 1564 1281.34 1560.31 Q1284.07 1556.62 1284.07 1550.25 Q1284.07 1543.92 1281.34 1540.23 Q1278.6 1536.5 1273.92 1536.5 M1273.92 1531.54 Q1281.56 1531.54 1285.92 1536.5 Q1290.28 1541.47 1290.28 1550.25 Q1290.28 1559 1285.92 1564 Q1281.56 1568.97 1273.92 1568.97 Q1266.25 1568.97 1261.89 1564 Q1257.56 1559 1257.56 1550.25 Q1257.56 1541.47 1261.89 1536.5 Q1266.25 1531.54 1273.92 1531.54 Z\" fill=\"#000000\" fill-rule=\"evenodd\" fill-opacity=\"1\" /><path clip-path=\"url(#clip900)\" d=\"M1329.62 1546.53 L1329.62 1568.04 L1323.76 1568.04 L1323.76 1546.72 Q1323.76 1541.66 1321.79 1539.14 Q1319.82 1536.63 1315.87 1536.63 Q1311.13 1536.63 1308.39 1539.65 Q1305.65 1542.68 1305.65 1547.9 L1305.65 1568.04 L1299.76 1568.04 L1299.76 1532.4 L1305.65 1532.4 L1305.65 1537.93 Q1307.75 1534.72 1310.59 1533.13 Q1313.45 1531.54 1317.17 1531.54 Q1323.32 1531.54 1326.47 1535.36 Q1329.62 1539.14 1329.62 1546.53 Z\" fill=\"#000000\" fill-rule=\"evenodd\" fill-opacity=\"1\" /><path clip-path=\"url(#clip900)\" d=\"M1378.22 1550.12 Q1371.12 1550.12 1368.39 1551.75 Q1365.65 1553.37 1365.65 1557.29 Q1365.65 1560.4 1367.69 1562.25 Q1369.76 1564.07 1373.29 1564.07 Q1378.16 1564.07 1381.09 1560.63 Q1384.05 1557.16 1384.05 1551.43 L1384.05 1550.12 L1378.22 1550.12 M1389.9 1547.71 L1389.9 1568.04 L1384.05 1568.04 L1384.05 1562.63 Q1382.04 1565.88 1379.05 1567.44 Q1376.06 1568.97 1371.73 1568.97 Q1366.25 1568.97 1363.01 1565.91 Q1359.79 1562.82 1359.79 1557.67 Q1359.79 1551.65 1363.8 1548.6 Q1367.85 1545.54 1375.83 1545.54 L1384.05 1545.54 L1384.05 1544.97 Q1384.05 1540.93 1381.37 1538.73 Q1378.73 1536.5 1373.92 1536.5 Q1370.87 1536.5 1367.97 1537.23 Q1365.08 1537.97 1362.4 1539.43 L1362.4 1534.02 Q1365.62 1532.78 1368.64 1532.17 Q1371.67 1531.54 1374.53 1531.54 Q1382.26 1531.54 1386.08 1535.55 Q1389.9 1539.56 1389.9 1547.71 Z\" fill=\"#000000\" fill-rule=\"evenodd\" fill-opacity=\"1\" /><path clip-path=\"url(#clip900)\" d=\"M1429.72 1539.24 Q1431.92 1535.29 1434.97 1533.41 Q1438.03 1531.54 1442.17 1531.54 Q1447.74 1531.54 1450.76 1535.45 Q1453.78 1539.33 1453.78 1546.53 L1453.78 1568.04 L1447.89 1568.04 L1447.89 1546.72 Q1447.89 1541.59 1446.08 1539.11 Q1444.27 1536.63 1440.54 1536.63 Q1435.99 1536.63 1433.35 1539.65 Q1430.71 1542.68 1430.71 1547.9 L1430.71 1568.04 L1424.82 1568.04 L1424.82 1546.72 Q1424.82 1541.56 1423 1539.11 Q1421.19 1536.63 1417.4 1536.63 Q1412.91 1536.63 1410.27 1539.68 Q1407.63 1542.71 1407.63 1547.9 L1407.63 1568.04 L1401.74 1568.04 L1401.74 1532.4 L1407.63 1532.4 L1407.63 1537.93 Q1409.64 1534.66 1412.44 1533.1 Q1415.24 1531.54 1419.09 1531.54 Q1422.97 1531.54 1425.68 1533.51 Q1428.42 1535.48 1429.72 1539.24 Z\" fill=\"#000000\" fill-rule=\"evenodd\" fill-opacity=\"1\" /><path clip-path=\"url(#clip900)\" d=\"M1471.13 1562.7 L1471.13 1581.6 L1465.24 1581.6 L1465.24 1532.4 L1471.13 1532.4 L1471.13 1537.81 Q1472.98 1534.62 1475.78 1533.1 Q1478.61 1531.54 1482.52 1531.54 Q1489.02 1531.54 1493.06 1536.69 Q1497.13 1541.85 1497.13 1550.25 Q1497.13 1558.65 1493.06 1563.81 Q1489.02 1568.97 1482.52 1568.97 Q1478.61 1568.97 1475.78 1567.44 Q1472.98 1565.88 1471.13 1562.7 M1491.05 1550.25 Q1491.05 1543.79 1488.38 1540.13 Q1485.74 1536.44 1481.09 1536.44 Q1476.44 1536.44 1473.77 1540.13 Q1471.13 1543.79 1471.13 1550.25 Q1471.13 1556.71 1473.77 1560.4 Q1476.44 1564.07 1481.09 1564.07 Q1485.74 1564.07 1488.38 1560.4 Q1491.05 1556.71 1491.05 1550.25 Z\" fill=\"#000000\" fill-rule=\"evenodd\" fill-opacity=\"1\" /><path clip-path=\"url(#clip900)\" d=\"M1506.84 1518.52 L1512.7 1518.52 L1512.7 1568.04 L1506.84 1568.04 L1506.84 1518.52 Z\" fill=\"#000000\" fill-rule=\"evenodd\" fill-opacity=\"1\" /><path clip-path=\"url(#clip900)\" d=\"M1524.95 1532.4 L1530.81 1532.4 L1530.81 1568.04 L1524.95 1568.04 L1524.95 1532.4 M1524.95 1518.52 L1530.81 1518.52 L1530.81 1525.93 L1524.95 1525.93 L1524.95 1518.52 Z\" fill=\"#000000\" fill-rule=\"evenodd\" fill-opacity=\"1\" /><path clip-path=\"url(#clip900)\" d=\"M1548.85 1522.27 L1548.85 1532.4 L1560.92 1532.4 L1560.92 1536.95 L1548.85 1536.95 L1548.85 1556.3 Q1548.85 1560.66 1550.03 1561.9 Q1551.24 1563.14 1554.9 1563.14 L1560.92 1563.14 L1560.92 1568.04 L1554.9 1568.04 Q1548.12 1568.04 1545.54 1565.53 Q1542.97 1562.98 1542.97 1556.3 L1542.97 1536.95 L1538.67 1536.95 L1538.67 1532.4 L1542.97 1532.4 L1542.97 1522.27 L1548.85 1522.27 Z\" fill=\"#000000\" fill-rule=\"evenodd\" fill-opacity=\"1\" /><path clip-path=\"url(#clip900)\" d=\"M1568.02 1553.98 L1568.02 1532.4 L1573.87 1532.4 L1573.87 1553.75 Q1573.87 1558.81 1575.85 1561.36 Q1577.82 1563.87 1581.77 1563.87 Q1586.51 1563.87 1589.24 1560.85 Q1592.01 1557.83 1592.01 1552.61 L1592.01 1532.4 L1597.87 1532.4 L1597.87 1568.04 L1592.01 1568.04 L1592.01 1562.57 Q1589.88 1565.82 1587.05 1567.41 Q1584.25 1568.97 1580.52 1568.97 Q1574.38 1568.97 1571.2 1565.15 Q1568.02 1561.33 1568.02 1553.98 M1582.75 1531.54 L1582.75 1531.54 Z\" fill=\"#000000\" fill-rule=\"evenodd\" fill-opacity=\"1\" /><path clip-path=\"url(#clip900)\" d=\"M1633.39 1537.81 L1633.39 1518.52 L1639.25 1518.52 L1639.25 1568.04 L1633.39 1568.04 L1633.39 1562.7 Q1631.55 1565.88 1628.71 1567.44 Q1625.91 1568.97 1621.96 1568.97 Q1615.5 1568.97 1611.43 1563.81 Q1607.39 1558.65 1607.39 1550.25 Q1607.39 1541.85 1611.43 1536.69 Q1615.5 1531.54 1621.96 1531.54 Q1625.91 1531.54 1628.71 1533.1 Q1631.55 1534.62 1633.39 1537.81 M1613.43 1550.25 Q1613.43 1556.71 1616.08 1560.4 Q1618.75 1564.07 1623.4 1564.07 Q1628.04 1564.07 1630.72 1560.4 Q1633.39 1556.71 1633.39 1550.25 Q1633.39 1543.79 1630.72 1540.13 Q1628.04 1536.44 1623.4 1536.44 Q1618.75 1536.44 1616.08 1540.13 Q1613.43 1543.79 1613.43 1550.25 Z\" fill=\"#000000\" fill-rule=\"evenodd\" fill-opacity=\"1\" /><path clip-path=\"url(#clip900)\" d=\"M1681.8 1548.76 L1681.8 1551.62 L1654.88 1551.62 Q1655.26 1557.67 1658.5 1560.85 Q1661.78 1564 1667.61 1564 Q1670.98 1564 1674.13 1563.17 Q1677.31 1562.35 1680.43 1560.69 L1680.43 1566.23 Q1677.28 1567.57 1673.97 1568.27 Q1670.66 1568.97 1667.26 1568.97 Q1658.73 1568.97 1653.73 1564 Q1648.76 1559.04 1648.76 1550.57 Q1648.76 1541.82 1653.47 1536.69 Q1658.22 1531.54 1666.24 1531.54 Q1673.43 1531.54 1677.6 1536.18 Q1681.8 1540.8 1681.8 1548.76 M1675.95 1547.04 Q1675.88 1542.23 1673.24 1539.37 Q1670.63 1536.5 1666.3 1536.5 Q1661.4 1536.5 1658.44 1539.27 Q1655.51 1542.04 1655.07 1547.07 L1675.95 1547.04 Z\" fill=\"#000000\" fill-rule=\"evenodd\" fill-opacity=\"1\" /><polyline clip-path=\"url(#clip902)\" style=\"stroke:#000000; stroke-linecap:round; stroke-linejoin:round; stroke-width:2; stroke-opacity:0.1; fill:none\" points=\"\n",
       "  249.542,1384.24 2352.76,1384.24 \n",
       "  \"/>\n",
       "<polyline clip-path=\"url(#clip902)\" style=\"stroke:#000000; stroke-linecap:round; stroke-linejoin:round; stroke-width:2; stroke-opacity:0.1; fill:none\" points=\"\n",
       "  249.542,1059.73 2352.76,1059.73 \n",
       "  \"/>\n",
       "<polyline clip-path=\"url(#clip902)\" style=\"stroke:#000000; stroke-linecap:round; stroke-linejoin:round; stroke-width:2; stroke-opacity:0.1; fill:none\" points=\"\n",
       "  249.542,735.212 2352.76,735.212 \n",
       "  \"/>\n",
       "<polyline clip-path=\"url(#clip902)\" style=\"stroke:#000000; stroke-linecap:round; stroke-linejoin:round; stroke-width:2; stroke-opacity:0.1; fill:none\" points=\"\n",
       "  249.542,410.699 2352.76,410.699 \n",
       "  \"/>\n",
       "<polyline clip-path=\"url(#clip902)\" style=\"stroke:#000000; stroke-linecap:round; stroke-linejoin:round; stroke-width:2; stroke-opacity:0.1; fill:none\" points=\"\n",
       "  249.542,86.1857 2352.76,86.1857 \n",
       "  \"/>\n",
       "<polyline clip-path=\"url(#clip900)\" style=\"stroke:#000000; stroke-linecap:round; stroke-linejoin:round; stroke-width:4; stroke-opacity:1; fill:none\" points=\"\n",
       "  249.542,1423.18 249.542,47.2441 \n",
       "  \"/>\n",
       "<polyline clip-path=\"url(#clip900)\" style=\"stroke:#000000; stroke-linecap:round; stroke-linejoin:round; stroke-width:4; stroke-opacity:1; fill:none\" points=\"\n",
       "  249.542,1384.24 268.44,1384.24 \n",
       "  \"/>\n",
       "<polyline clip-path=\"url(#clip900)\" style=\"stroke:#000000; stroke-linecap:round; stroke-linejoin:round; stroke-width:4; stroke-opacity:1; fill:none\" points=\"\n",
       "  249.542,1059.73 268.44,1059.73 \n",
       "  \"/>\n",
       "<polyline clip-path=\"url(#clip900)\" style=\"stroke:#000000; stroke-linecap:round; stroke-linejoin:round; stroke-width:4; stroke-opacity:1; fill:none\" points=\"\n",
       "  249.542,735.212 268.44,735.212 \n",
       "  \"/>\n",
       "<polyline clip-path=\"url(#clip900)\" style=\"stroke:#000000; stroke-linecap:round; stroke-linejoin:round; stroke-width:4; stroke-opacity:1; fill:none\" points=\"\n",
       "  249.542,410.699 268.44,410.699 \n",
       "  \"/>\n",
       "<polyline clip-path=\"url(#clip900)\" style=\"stroke:#000000; stroke-linecap:round; stroke-linejoin:round; stroke-width:4; stroke-opacity:1; fill:none\" points=\"\n",
       "  249.542,86.1857 268.44,86.1857 \n",
       "  \"/>\n",
       "<path clip-path=\"url(#clip900)\" d=\"M126.205 1370.04 Q122.593 1370.04 120.765 1373.6 Q118.959 1377.14 118.959 1384.27 Q118.959 1391.38 120.765 1394.94 Q122.593 1398.49 126.205 1398.49 Q129.839 1398.49 131.644 1394.94 Q133.473 1391.38 133.473 1384.27 Q133.473 1377.14 131.644 1373.6 Q129.839 1370.04 126.205 1370.04 M126.205 1366.33 Q132.015 1366.33 135.07 1370.94 Q138.149 1375.52 138.149 1384.27 Q138.149 1393 135.07 1397.61 Q132.015 1402.19 126.205 1402.19 Q120.394 1402.19 117.316 1397.61 Q114.26 1393 114.26 1384.27 Q114.26 1375.52 117.316 1370.94 Q120.394 1366.33 126.205 1366.33 Z\" fill=\"#000000\" fill-rule=\"evenodd\" fill-opacity=\"1\" /><path clip-path=\"url(#clip900)\" d=\"M146.366 1395.64 L151.251 1395.64 L151.251 1401.52 L146.366 1401.52 L146.366 1395.64 Z\" fill=\"#000000\" fill-rule=\"evenodd\" fill-opacity=\"1\" /><path clip-path=\"url(#clip900)\" d=\"M171.436 1370.04 Q167.825 1370.04 165.996 1373.6 Q164.19 1377.14 164.19 1384.27 Q164.19 1391.38 165.996 1394.94 Q167.825 1398.49 171.436 1398.49 Q175.07 1398.49 176.876 1394.94 Q178.704 1391.38 178.704 1384.27 Q178.704 1377.14 176.876 1373.6 Q175.07 1370.04 171.436 1370.04 M171.436 1366.33 Q177.246 1366.33 180.301 1370.94 Q183.38 1375.52 183.38 1384.27 Q183.38 1393 180.301 1397.61 Q177.246 1402.19 171.436 1402.19 Q165.626 1402.19 162.547 1397.61 Q159.491 1393 159.491 1384.27 Q159.491 1375.52 162.547 1370.94 Q165.626 1366.33 171.436 1366.33 Z\" fill=\"#000000\" fill-rule=\"evenodd\" fill-opacity=\"1\" /><path clip-path=\"url(#clip900)\" d=\"M201.598 1370.04 Q197.987 1370.04 196.158 1373.6 Q194.352 1377.14 194.352 1384.27 Q194.352 1391.38 196.158 1394.94 Q197.987 1398.49 201.598 1398.49 Q205.232 1398.49 207.037 1394.94 Q208.866 1391.38 208.866 1384.27 Q208.866 1377.14 207.037 1373.6 Q205.232 1370.04 201.598 1370.04 M201.598 1366.33 Q207.408 1366.33 210.463 1370.94 Q213.542 1375.52 213.542 1384.27 Q213.542 1393 210.463 1397.61 Q207.408 1402.19 201.598 1402.19 Q195.787 1402.19 192.709 1397.61 Q189.653 1393 189.653 1384.27 Q189.653 1375.52 192.709 1370.94 Q195.787 1366.33 201.598 1366.33 Z\" fill=\"#000000\" fill-rule=\"evenodd\" fill-opacity=\"1\" /><path clip-path=\"url(#clip900)\" d=\"M127.2 1045.52 Q123.589 1045.52 121.76 1049.09 Q119.955 1052.63 119.955 1059.76 Q119.955 1066.87 121.76 1070.43 Q123.589 1073.97 127.2 1073.97 Q130.834 1073.97 132.64 1070.43 Q134.468 1066.87 134.468 1059.76 Q134.468 1052.63 132.64 1049.09 Q130.834 1045.52 127.2 1045.52 M127.2 1041.82 Q133.01 1041.82 136.066 1046.43 Q139.144 1051.01 139.144 1059.76 Q139.144 1068.49 136.066 1073.09 Q133.01 1077.68 127.2 1077.68 Q121.39 1077.68 118.311 1073.09 Q115.256 1068.49 115.256 1059.76 Q115.256 1051.01 118.311 1046.43 Q121.39 1041.82 127.2 1041.82 Z\" fill=\"#000000\" fill-rule=\"evenodd\" fill-opacity=\"1\" /><path clip-path=\"url(#clip900)\" d=\"M147.362 1071.13 L152.246 1071.13 L152.246 1077.01 L147.362 1077.01 L147.362 1071.13 Z\" fill=\"#000000\" fill-rule=\"evenodd\" fill-opacity=\"1\" /><path clip-path=\"url(#clip900)\" d=\"M166.459 1073.07 L182.778 1073.07 L182.778 1077.01 L160.834 1077.01 L160.834 1073.07 Q163.496 1070.32 168.079 1065.69 Q172.686 1061.03 173.866 1059.69 Q176.112 1057.17 176.991 1055.43 Q177.894 1053.67 177.894 1051.98 Q177.894 1049.23 175.95 1047.49 Q174.028 1045.76 170.927 1045.76 Q168.727 1045.76 166.274 1046.52 Q163.843 1047.28 161.065 1048.83 L161.065 1044.11 Q163.89 1042.98 166.343 1042.4 Q168.797 1041.82 170.834 1041.82 Q176.204 1041.82 179.399 1044.51 Q182.593 1047.19 182.593 1051.68 Q182.593 1053.81 181.783 1055.73 Q180.996 1057.63 178.889 1060.22 Q178.311 1060.89 175.209 1064.11 Q172.107 1067.31 166.459 1073.07 Z\" fill=\"#000000\" fill-rule=\"evenodd\" fill-opacity=\"1\" /><path clip-path=\"url(#clip900)\" d=\"M192.639 1042.45 L210.996 1042.45 L210.996 1046.38 L196.922 1046.38 L196.922 1054.85 Q197.94 1054.51 198.959 1054.34 Q199.977 1054.16 200.996 1054.16 Q206.783 1054.16 210.162 1057.33 Q213.542 1060.5 213.542 1065.92 Q213.542 1071.5 210.07 1074.6 Q206.598 1077.68 200.278 1077.68 Q198.102 1077.68 195.834 1077.31 Q193.588 1076.94 191.181 1076.19 L191.181 1071.5 Q193.264 1072.63 195.487 1073.19 Q197.709 1073.74 200.186 1073.74 Q204.19 1073.74 206.528 1071.63 Q208.866 1069.53 208.866 1065.92 Q208.866 1062.31 206.528 1060.2 Q204.19 1058.09 200.186 1058.09 Q198.311 1058.09 196.436 1058.51 Q194.584 1058.93 192.639 1059.81 L192.639 1042.45 Z\" fill=\"#000000\" fill-rule=\"evenodd\" fill-opacity=\"1\" /><path clip-path=\"url(#clip900)\" d=\"M126.205 721.011 Q122.593 721.011 120.765 724.575 Q118.959 728.117 118.959 735.247 Q118.959 742.353 120.765 745.918 Q122.593 749.46 126.205 749.46 Q129.839 749.46 131.644 745.918 Q133.473 742.353 133.473 735.247 Q133.473 728.117 131.644 724.575 Q129.839 721.011 126.205 721.011 M126.205 717.307 Q132.015 717.307 135.07 721.913 Q138.149 726.497 138.149 735.247 Q138.149 743.973 135.07 748.58 Q132.015 753.163 126.205 753.163 Q120.394 753.163 117.316 748.58 Q114.26 743.973 114.26 735.247 Q114.26 726.497 117.316 721.913 Q120.394 717.307 126.205 717.307 Z\" fill=\"#000000\" fill-rule=\"evenodd\" fill-opacity=\"1\" /><path clip-path=\"url(#clip900)\" d=\"M146.366 746.612 L151.251 746.612 L151.251 752.492 L146.366 752.492 L146.366 746.612 Z\" fill=\"#000000\" fill-rule=\"evenodd\" fill-opacity=\"1\" /><path clip-path=\"url(#clip900)\" d=\"M161.482 717.932 L179.839 717.932 L179.839 721.867 L165.765 721.867 L165.765 730.339 Q166.783 729.992 167.802 729.83 Q168.82 729.645 169.839 729.645 Q175.626 729.645 179.005 732.816 Q182.385 735.987 182.385 741.404 Q182.385 746.983 178.913 750.085 Q175.44 753.163 169.121 753.163 Q166.945 753.163 164.677 752.793 Q162.431 752.423 160.024 751.682 L160.024 746.983 Q162.107 748.117 164.329 748.673 Q166.552 749.228 169.028 749.228 Q173.033 749.228 175.371 747.122 Q177.709 745.015 177.709 741.404 Q177.709 737.793 175.371 735.687 Q173.033 733.58 169.028 733.58 Q167.153 733.58 165.278 733.997 Q163.427 734.413 161.482 735.293 L161.482 717.932 Z\" fill=\"#000000\" fill-rule=\"evenodd\" fill-opacity=\"1\" /><path clip-path=\"url(#clip900)\" d=\"M201.598 721.011 Q197.987 721.011 196.158 724.575 Q194.352 728.117 194.352 735.247 Q194.352 742.353 196.158 745.918 Q197.987 749.46 201.598 749.46 Q205.232 749.46 207.037 745.918 Q208.866 742.353 208.866 735.247 Q208.866 728.117 207.037 724.575 Q205.232 721.011 201.598 721.011 M201.598 717.307 Q207.408 717.307 210.463 721.913 Q213.542 726.497 213.542 735.247 Q213.542 743.973 210.463 748.58 Q207.408 753.163 201.598 753.163 Q195.787 753.163 192.709 748.58 Q189.653 743.973 189.653 735.247 Q189.653 726.497 192.709 721.913 Q195.787 717.307 201.598 717.307 Z\" fill=\"#000000\" fill-rule=\"evenodd\" fill-opacity=\"1\" /><path clip-path=\"url(#clip900)\" d=\"M127.2 396.498 Q123.589 396.498 121.76 400.062 Q119.955 403.604 119.955 410.734 Q119.955 417.84 121.76 421.405 Q123.589 424.946 127.2 424.946 Q130.834 424.946 132.64 421.405 Q134.468 417.84 134.468 410.734 Q134.468 403.604 132.64 400.062 Q130.834 396.498 127.2 396.498 M127.2 392.794 Q133.01 392.794 136.066 397.4 Q139.144 401.984 139.144 410.734 Q139.144 419.46 136.066 424.067 Q133.01 428.65 127.2 428.65 Q121.39 428.65 118.311 424.067 Q115.256 419.46 115.256 410.734 Q115.256 401.984 118.311 397.4 Q121.39 392.794 127.2 392.794 Z\" fill=\"#000000\" fill-rule=\"evenodd\" fill-opacity=\"1\" /><path clip-path=\"url(#clip900)\" d=\"M147.362 422.099 L152.246 422.099 L152.246 427.979 L147.362 427.979 L147.362 422.099 Z\" fill=\"#000000\" fill-rule=\"evenodd\" fill-opacity=\"1\" /><path clip-path=\"url(#clip900)\" d=\"M161.251 393.419 L183.473 393.419 L183.473 395.41 L170.927 427.979 L166.042 427.979 L177.848 397.354 L161.251 397.354 L161.251 393.419 Z\" fill=\"#000000\" fill-rule=\"evenodd\" fill-opacity=\"1\" /><path clip-path=\"url(#clip900)\" d=\"M192.639 393.419 L210.996 393.419 L210.996 397.354 L196.922 397.354 L196.922 405.826 Q197.94 405.479 198.959 405.317 Q199.977 405.132 200.996 405.132 Q206.783 405.132 210.162 408.303 Q213.542 411.474 213.542 416.891 Q213.542 422.47 210.07 425.571 Q206.598 428.65 200.278 428.65 Q198.102 428.65 195.834 428.28 Q193.588 427.909 191.181 427.169 L191.181 422.47 Q193.264 423.604 195.487 424.159 Q197.709 424.715 200.186 424.715 Q204.19 424.715 206.528 422.608 Q208.866 420.502 208.866 416.891 Q208.866 413.28 206.528 411.173 Q204.19 409.067 200.186 409.067 Q198.311 409.067 196.436 409.484 Q194.584 409.9 192.639 410.78 L192.639 393.419 Z\" fill=\"#000000\" fill-rule=\"evenodd\" fill-opacity=\"1\" /><path clip-path=\"url(#clip900)\" d=\"M117.015 99.5305 L124.654 99.5305 L124.654 73.1649 L116.343 74.8316 L116.343 70.5723 L124.607 68.9057 L129.283 68.9057 L129.283 99.5305 L136.922 99.5305 L136.922 103.466 L117.015 103.466 L117.015 99.5305 Z\" fill=\"#000000\" fill-rule=\"evenodd\" fill-opacity=\"1\" /><path clip-path=\"url(#clip900)\" d=\"M146.366 97.5861 L151.251 97.5861 L151.251 103.466 L146.366 103.466 L146.366 97.5861 Z\" fill=\"#000000\" fill-rule=\"evenodd\" fill-opacity=\"1\" /><path clip-path=\"url(#clip900)\" d=\"M171.436 71.9844 Q167.825 71.9844 165.996 75.5492 Q164.19 79.0908 164.19 86.2204 Q164.19 93.3268 165.996 96.8916 Q167.825 100.433 171.436 100.433 Q175.07 100.433 176.876 96.8916 Q178.704 93.3268 178.704 86.2204 Q178.704 79.0908 176.876 75.5492 Q175.07 71.9844 171.436 71.9844 M171.436 68.2807 Q177.246 68.2807 180.301 72.8871 Q183.38 77.4704 183.38 86.2204 Q183.38 94.9472 180.301 99.5537 Q177.246 104.137 171.436 104.137 Q165.626 104.137 162.547 99.5537 Q159.491 94.9472 159.491 86.2204 Q159.491 77.4704 162.547 72.8871 Q165.626 68.2807 171.436 68.2807 Z\" fill=\"#000000\" fill-rule=\"evenodd\" fill-opacity=\"1\" /><path clip-path=\"url(#clip900)\" d=\"M201.598 71.9844 Q197.987 71.9844 196.158 75.5492 Q194.352 79.0908 194.352 86.2204 Q194.352 93.3268 196.158 96.8916 Q197.987 100.433 201.598 100.433 Q205.232 100.433 207.037 96.8916 Q208.866 93.3268 208.866 86.2204 Q208.866 79.0908 207.037 75.5492 Q205.232 71.9844 201.598 71.9844 M201.598 68.2807 Q207.408 68.2807 210.463 72.8871 Q213.542 77.4704 213.542 86.2204 Q213.542 94.9472 210.463 99.5537 Q207.408 104.137 201.598 104.137 Q195.787 104.137 192.709 99.5537 Q189.653 94.9472 189.653 86.2204 Q189.653 77.4704 192.709 72.8871 Q195.787 68.2807 201.598 68.2807 Z\" fill=\"#000000\" fill-rule=\"evenodd\" fill-opacity=\"1\" /><path clip-path=\"url(#clip900)\" d=\"M58.657 866.346 L77.5631 866.346 L77.5631 872.234 L28.3562 872.234 L28.3562 866.346 L33.7671 866.346 Q30.5842 864.499 29.0564 861.699 Q27.4968 858.866 27.4968 854.951 Q27.4968 848.458 32.6531 844.416 Q37.8093 840.342 46.212 840.342 Q54.6147 840.342 59.771 844.416 Q64.9272 848.458 64.9272 854.951 Q64.9272 858.866 63.3994 861.699 Q61.8398 864.499 58.657 866.346 M46.212 846.421 Q39.7508 846.421 36.0905 849.094 Q32.3984 851.736 32.3984 856.383 Q32.3984 861.03 36.0905 863.704 Q39.7508 866.346 46.212 866.346 Q52.6732 866.346 56.3653 863.704 Q60.0256 861.03 60.0256 856.383 Q60.0256 851.736 56.3653 849.094 Q52.6732 846.421 46.212 846.421 Z\" fill=\"#000000\" fill-rule=\"evenodd\" fill-opacity=\"1\" /><path clip-path=\"url(#clip900)\" d=\"M42.4881 780.281 L64.0042 780.281 L64.0042 786.138 L42.679 786.138 Q37.6183 786.138 35.1038 788.111 Q32.5894 790.084 32.5894 794.031 Q32.5894 798.774 35.6131 801.511 Q38.6368 804.248 43.8567 804.248 L64.0042 804.248 L64.0042 810.136 L28.3562 810.136 L28.3562 804.248 L33.8944 804.248 Q30.6797 802.147 29.0883 799.315 Q27.4968 796.45 27.4968 792.726 Q27.4968 786.583 31.3163 783.432 Q35.1038 780.281 42.4881 780.281 Z\" fill=\"#000000\" fill-rule=\"evenodd\" fill-opacity=\"1\" /><path clip-path=\"url(#clip900)\" d=\"M32.4621 754.787 Q32.4621 759.497 36.1542 762.234 Q39.8145 764.972 46.212 764.972 Q52.6095 764.972 56.3017 762.266 Q59.9619 759.529 59.9619 754.787 Q59.9619 750.108 56.2698 747.37 Q52.5777 744.633 46.212 744.633 Q39.8781 744.633 36.186 747.37 Q32.4621 750.108 32.4621 754.787 M27.4968 754.787 Q27.4968 747.148 32.4621 742.787 Q37.4273 738.427 46.212 738.427 Q54.9649 738.427 59.9619 742.787 Q64.9272 747.148 64.9272 754.787 Q64.9272 762.457 59.9619 766.818 Q54.9649 771.146 46.212 771.146 Q37.4273 771.146 32.4621 766.818 Q27.4968 762.457 27.4968 754.787 Z\" fill=\"#000000\" fill-rule=\"evenodd\" fill-opacity=\"1\" /><path clip-path=\"url(#clip900)\" d=\"M14.479 707.999 L14.479 702.142 L64.0042 702.142 L64.0042 707.999 L14.479 707.999 Z\" fill=\"#000000\" fill-rule=\"evenodd\" fill-opacity=\"1\" /><path clip-path=\"url(#clip900)\" d=\"M32.4621 676.075 Q32.4621 680.785 36.1542 683.522 Q39.8145 686.26 46.212 686.26 Q52.6095 686.26 56.3017 683.554 Q59.9619 680.817 59.9619 676.075 Q59.9619 671.396 56.2698 668.659 Q52.5777 665.921 46.212 665.921 Q39.8781 665.921 36.186 668.659 Q32.4621 671.396 32.4621 676.075 M27.4968 676.075 Q27.4968 668.436 32.4621 664.075 Q37.4273 659.715 46.212 659.715 Q54.9649 659.715 59.9619 664.075 Q64.9272 668.436 64.9272 676.075 Q64.9272 683.745 59.9619 688.106 Q54.9649 692.434 46.212 692.434 Q37.4273 692.434 32.4621 688.106 Q27.4968 683.745 27.4968 676.075 Z\" fill=\"#000000\" fill-rule=\"evenodd\" fill-opacity=\"1\" /><path clip-path=\"url(#clip900)\" d=\"M29.4065 627.281 L34.9447 627.281 Q33.6716 629.764 33.035 632.438 Q32.3984 635.111 32.3984 637.976 Q32.3984 642.336 33.7352 644.532 Q35.072 646.697 37.7456 646.697 Q39.7826 646.697 40.9603 645.137 Q42.1061 643.578 43.1565 638.867 L43.6021 636.862 Q44.9389 630.623 47.3897 628.013 Q49.8086 625.372 54.1691 625.372 Q59.1344 625.372 62.0308 629.318 Q64.9272 633.233 64.9272 640.108 Q64.9272 642.973 64.3543 646.092 Q63.8132 649.179 62.6992 652.617 L56.6518 652.617 Q58.3387 649.37 59.198 646.219 Q60.0256 643.068 60.0256 639.981 Q60.0256 635.843 58.6251 633.615 Q57.1929 631.387 54.6147 631.387 Q52.2276 631.387 50.9545 633.011 Q49.6813 634.602 48.5037 640.045 L48.0262 642.082 Q46.8804 647.524 44.5251 649.943 Q42.138 652.362 38.0002 652.362 Q32.9713 652.362 30.2341 648.798 Q27.4968 645.233 27.4968 638.676 Q27.4968 635.43 27.9743 632.565 Q28.4517 629.7 29.4065 627.281 Z\" fill=\"#000000\" fill-rule=\"evenodd\" fill-opacity=\"1\" /><path clip-path=\"url(#clip900)\" d=\"M18.2347 610.253 L28.3562 610.253 L28.3562 598.19 L32.9077 598.19 L32.9077 610.253 L52.2594 610.253 Q56.6199 610.253 57.8613 609.075 Q59.1026 607.866 59.1026 604.206 L59.1026 598.19 L64.0042 598.19 L64.0042 604.206 Q64.0042 610.985 61.4897 613.563 Q58.9434 616.141 52.2594 616.141 L32.9077 616.141 L32.9077 620.438 L28.3562 620.438 L28.3562 616.141 L18.2347 616.141 L18.2347 610.253 Z\" fill=\"#000000\" fill-rule=\"evenodd\" fill-opacity=\"1\" /><polyline clip-path=\"url(#clip902)\" style=\"stroke:#009af9; stroke-linecap:round; stroke-linejoin:round; stroke-width:4; stroke-opacity:1; fill:none\" points=\"\n",
       "  309.067,1384.24 507.483,1371.26 705.9,1332.32 904.316,1267.41 1102.73,1176.55 1301.15,1059.73 1499.57,916.939 1697.98,748.192 1896.4,553.485 2094.81,332.816 \n",
       "  2293.23,86.1857 \n",
       "  \"/>\n",
       "<path clip-path=\"url(#clip900)\" d=\"\n",
       "M1996.53 196.789 L2282.65 196.789 L2282.65 93.1086 L1996.53 93.1086  Z\n",
       "  \" fill=\"#ffffff\" fill-rule=\"evenodd\" fill-opacity=\"1\"/>\n",
       "<polyline clip-path=\"url(#clip900)\" style=\"stroke:#000000; stroke-linecap:round; stroke-linejoin:round; stroke-width:4; stroke-opacity:1; fill:none\" points=\"\n",
       "  1996.53,196.789 2282.65,196.789 2282.65,93.1086 1996.53,93.1086 1996.53,196.789 \n",
       "  \"/>\n",
       "<polyline clip-path=\"url(#clip900)\" style=\"stroke:#009af9; stroke-linecap:round; stroke-linejoin:round; stroke-width:4; stroke-opacity:1; fill:none\" points=\"\n",
       "  2019.9,144.949 2160.11,144.949 \n",
       "  \"/>\n",
       "<path clip-path=\"url(#clip900)\" d=\"M2197.32 164.636 Q2195.52 169.266 2193.8 170.678 Q2192.09 172.09 2189.22 172.09 L2185.82 172.09 L2185.82 168.525 L2188.32 168.525 Q2190.08 168.525 2191.05 167.692 Q2192.02 166.858 2193.2 163.756 L2193.97 161.812 L2183.48 136.303 L2187.99 136.303 L2196.1 156.581 L2204.2 136.303 L2208.71 136.303 L2197.32 164.636 Z\" fill=\"#000000\" fill-rule=\"evenodd\" fill-opacity=\"1\" /><path clip-path=\"url(#clip900)\" d=\"M2216 158.293 L2223.64 158.293 L2223.64 131.928 L2215.33 133.595 L2215.33 129.335 L2223.6 127.669 L2228.27 127.669 L2228.27 158.293 L2235.91 158.293 L2235.91 162.229 L2216 162.229 L2216 158.293 Z\" fill=\"#000000\" fill-rule=\"evenodd\" fill-opacity=\"1\" /></svg>\n"
      ]
     },
     "execution_count": 36,
     "metadata": {},
     "output_type": "execute_result"
    }
   ],
   "source": [
    "\n",
    "n = 1\n",
    "m = 1\n",
    "\n",
    "function lossy_line_example(η_loss)\n",
    "\n",
    "    circuit = LossyCircuit(1)\n",
    "    interf = LossyLine(η_loss)\n",
    "    target_modes = [1]\n",
    "\n",
    "    add_element_lossy!(circuit, interf, target_modes = target_modes)\n",
    "    circuit\n",
    "\n",
    "end\n",
    "\n",
    "lossy_line_example(0.9)\n",
    "\n",
    "transmission_amplitude_loss_array = 0:0.1:1\n",
    "output_proba = []\n",
    "\n",
    "i = Input{Bosonic}(to_lossy(first_modes(n,m)))\n",
    "o = FockDetection(to_lossy(first_modes(n,m)))\n",
    "\n",
    "for transmission in transmission_amplitude_loss_array\n",
    "\n",
    "    ev = Event(i,o, lossy_line_example(transmission))\n",
    "    compute_probability!(ev)\n",
    "    push!(output_proba, ev.proba_params.probability)\n",
    "end\n",
    "\n",
    "plot(transmission_amplitude_loss_array, output_proba)\n",
    "ylabel!(\"p no lost\")\n",
    "xlabel!(\"transmission amplitude\")"
   ]
  },
  {
   "cell_type": "code",
   "execution_count": 37,
   "id": "10b632ba",
   "metadata": {},
   "outputs": [
    {
     "name": "stdout",
     "output_type": "stream",
     "text": [
      "converting Input to lossy\n",
      "converting Output to lossy\n",
      "converting Input to lossy\n",
      "converting Output to lossy\n",
      "converting Input to lossy\n",
      "converting Output to lossy\n",
      "converting Input to lossy\n",
      "converting Output to lossy\n",
      "converting Input to lossy\n",
      "converting Output to lossy\n",
      "converting Input to lossy\n",
      "converting Output to lossy\n",
      "converting Input to lossy\n",
      "converting Output to lossy\n",
      "converting Input to lossy\n",
      "converting Output to lossy\n",
      "converting Input to lossy\n",
      "converting Output to lossy\n",
      "converting Input to lossy\n",
      "converting Output to lossy\n",
      "converting Input to lossy\n",
      "converting Output to lossy\n"
     ]
    },
    {
     "data": {
      "image/svg+xml": [
       "<?xml version=\"1.0\" encoding=\"utf-8\"?>\n",
       "<svg xmlns=\"http://www.w3.org/2000/svg\" xmlns:xlink=\"http://www.w3.org/1999/xlink\" width=\"600\" height=\"400\" viewBox=\"0 0 2400 1600\">\n",
       "<defs>\n",
       "  <clipPath id=\"clip940\">\n",
       "    <rect x=\"0\" y=\"0\" width=\"2400\" height=\"1600\"/>\n",
       "  </clipPath>\n",
       "</defs>\n",
       "<path clip-path=\"url(#clip940)\" d=\"\n",
       "M0 1600 L2400 1600 L2400 0 L0 0  Z\n",
       "  \" fill=\"#ffffff\" fill-rule=\"evenodd\" fill-opacity=\"1\"/>\n",
       "<defs>\n",
       "  <clipPath id=\"clip941\">\n",
       "    <rect x=\"480\" y=\"0\" width=\"1681\" height=\"1600\"/>\n",
       "  </clipPath>\n",
       "</defs>\n",
       "<path clip-path=\"url(#clip940)\" d=\"\n",
       "M219.866 1423.18 L2352.76 1423.18 L2352.76 47.2441 L219.866 47.2441  Z\n",
       "  \" fill=\"#ffffff\" fill-rule=\"evenodd\" fill-opacity=\"1\"/>\n",
       "<defs>\n",
       "  <clipPath id=\"clip942\">\n",
       "    <rect x=\"219\" y=\"47\" width=\"2134\" height=\"1377\"/>\n",
       "  </clipPath>\n",
       "</defs>\n",
       "<polyline clip-path=\"url(#clip942)\" style=\"stroke:#000000; stroke-linecap:round; stroke-linejoin:round; stroke-width:2; stroke-opacity:0.1; fill:none\" points=\"\n",
       "  280.231,1423.18 280.231,47.2441 \n",
       "  \"/>\n",
       "<polyline clip-path=\"url(#clip942)\" style=\"stroke:#000000; stroke-linecap:round; stroke-linejoin:round; stroke-width:2; stroke-opacity:0.1; fill:none\" points=\"\n",
       "  783.271,1423.18 783.271,47.2441 \n",
       "  \"/>\n",
       "<polyline clip-path=\"url(#clip942)\" style=\"stroke:#000000; stroke-linecap:round; stroke-linejoin:round; stroke-width:2; stroke-opacity:0.1; fill:none\" points=\"\n",
       "  1286.31,1423.18 1286.31,47.2441 \n",
       "  \"/>\n",
       "<polyline clip-path=\"url(#clip942)\" style=\"stroke:#000000; stroke-linecap:round; stroke-linejoin:round; stroke-width:2; stroke-opacity:0.1; fill:none\" points=\"\n",
       "  1789.35,1423.18 1789.35,47.2441 \n",
       "  \"/>\n",
       "<polyline clip-path=\"url(#clip942)\" style=\"stroke:#000000; stroke-linecap:round; stroke-linejoin:round; stroke-width:2; stroke-opacity:0.1; fill:none\" points=\"\n",
       "  2292.39,1423.18 2292.39,47.2441 \n",
       "  \"/>\n",
       "<polyline clip-path=\"url(#clip940)\" style=\"stroke:#000000; stroke-linecap:round; stroke-linejoin:round; stroke-width:4; stroke-opacity:1; fill:none\" points=\"\n",
       "  219.866,1423.18 2352.76,1423.18 \n",
       "  \"/>\n",
       "<polyline clip-path=\"url(#clip940)\" style=\"stroke:#000000; stroke-linecap:round; stroke-linejoin:round; stroke-width:4; stroke-opacity:1; fill:none\" points=\"\n",
       "  280.231,1423.18 280.231,1404.28 \n",
       "  \"/>\n",
       "<polyline clip-path=\"url(#clip940)\" style=\"stroke:#000000; stroke-linecap:round; stroke-linejoin:round; stroke-width:4; stroke-opacity:1; fill:none\" points=\"\n",
       "  783.271,1423.18 783.271,1404.28 \n",
       "  \"/>\n",
       "<polyline clip-path=\"url(#clip940)\" style=\"stroke:#000000; stroke-linecap:round; stroke-linejoin:round; stroke-width:4; stroke-opacity:1; fill:none\" points=\"\n",
       "  1286.31,1423.18 1286.31,1404.28 \n",
       "  \"/>\n",
       "<polyline clip-path=\"url(#clip940)\" style=\"stroke:#000000; stroke-linecap:round; stroke-linejoin:round; stroke-width:4; stroke-opacity:1; fill:none\" points=\"\n",
       "  1789.35,1423.18 1789.35,1404.28 \n",
       "  \"/>\n",
       "<polyline clip-path=\"url(#clip940)\" style=\"stroke:#000000; stroke-linecap:round; stroke-linejoin:round; stroke-width:4; stroke-opacity:1; fill:none\" points=\"\n",
       "  2292.39,1423.18 2292.39,1404.28 \n",
       "  \"/>\n",
       "<path clip-path=\"url(#clip940)\" d=\"M242.535 1454.1 Q238.923 1454.1 237.095 1457.66 Q235.289 1461.2 235.289 1468.33 Q235.289 1475.44 237.095 1479.01 Q238.923 1482.55 242.535 1482.55 Q246.169 1482.55 247.974 1479.01 Q249.803 1475.44 249.803 1468.33 Q249.803 1461.2 247.974 1457.66 Q246.169 1454.1 242.535 1454.1 M242.535 1450.39 Q248.345 1450.39 251.4 1455 Q254.479 1459.58 254.479 1468.33 Q254.479 1477.06 251.4 1481.67 Q248.345 1486.25 242.535 1486.25 Q236.724 1486.25 233.646 1481.67 Q230.59 1477.06 230.59 1468.33 Q230.59 1459.58 233.646 1455 Q236.724 1450.39 242.535 1450.39 Z\" fill=\"#000000\" fill-rule=\"evenodd\" fill-opacity=\"1\" /><path clip-path=\"url(#clip940)\" d=\"M262.696 1479.7 L267.581 1479.7 L267.581 1485.58 L262.696 1485.58 L262.696 1479.7 Z\" fill=\"#000000\" fill-rule=\"evenodd\" fill-opacity=\"1\" /><path clip-path=\"url(#clip940)\" d=\"M287.766 1454.1 Q284.155 1454.1 282.326 1457.66 Q280.52 1461.2 280.52 1468.33 Q280.52 1475.44 282.326 1479.01 Q284.155 1482.55 287.766 1482.55 Q291.4 1482.55 293.206 1479.01 Q295.034 1475.44 295.034 1468.33 Q295.034 1461.2 293.206 1457.66 Q291.4 1454.1 287.766 1454.1 M287.766 1450.39 Q293.576 1450.39 296.631 1455 Q299.71 1459.58 299.71 1468.33 Q299.71 1477.06 296.631 1481.67 Q293.576 1486.25 287.766 1486.25 Q281.956 1486.25 278.877 1481.67 Q275.821 1477.06 275.821 1468.33 Q275.821 1459.58 278.877 1455 Q281.956 1450.39 287.766 1450.39 Z\" fill=\"#000000\" fill-rule=\"evenodd\" fill-opacity=\"1\" /><path clip-path=\"url(#clip940)\" d=\"M317.928 1454.1 Q314.317 1454.1 312.488 1457.66 Q310.682 1461.2 310.682 1468.33 Q310.682 1475.44 312.488 1479.01 Q314.317 1482.55 317.928 1482.55 Q321.562 1482.55 323.367 1479.01 Q325.196 1475.44 325.196 1468.33 Q325.196 1461.2 323.367 1457.66 Q321.562 1454.1 317.928 1454.1 M317.928 1450.39 Q323.738 1450.39 326.793 1455 Q329.872 1459.58 329.872 1468.33 Q329.872 1477.06 326.793 1481.67 Q323.738 1486.25 317.928 1486.25 Q312.117 1486.25 309.039 1481.67 Q305.983 1477.06 305.983 1468.33 Q305.983 1459.58 309.039 1455 Q312.117 1450.39 317.928 1450.39 Z\" fill=\"#000000\" fill-rule=\"evenodd\" fill-opacity=\"1\" /><path clip-path=\"url(#clip940)\" d=\"M746.072 1454.1 Q742.461 1454.1 740.632 1457.66 Q738.827 1461.2 738.827 1468.33 Q738.827 1475.44 740.632 1479.01 Q742.461 1482.55 746.072 1482.55 Q749.706 1482.55 751.512 1479.01 Q753.341 1475.44 753.341 1468.33 Q753.341 1461.2 751.512 1457.66 Q749.706 1454.1 746.072 1454.1 M746.072 1450.39 Q751.882 1450.39 754.938 1455 Q758.017 1459.58 758.017 1468.33 Q758.017 1477.06 754.938 1481.67 Q751.882 1486.25 746.072 1486.25 Q740.262 1486.25 737.183 1481.67 Q734.128 1477.06 734.128 1468.33 Q734.128 1459.58 737.183 1455 Q740.262 1450.39 746.072 1450.39 Z\" fill=\"#000000\" fill-rule=\"evenodd\" fill-opacity=\"1\" /><path clip-path=\"url(#clip940)\" d=\"M766.234 1479.7 L771.118 1479.7 L771.118 1485.58 L766.234 1485.58 L766.234 1479.7 Z\" fill=\"#000000\" fill-rule=\"evenodd\" fill-opacity=\"1\" /><path clip-path=\"url(#clip940)\" d=\"M785.331 1481.64 L801.651 1481.64 L801.651 1485.58 L779.706 1485.58 L779.706 1481.64 Q782.368 1478.89 786.952 1474.26 Q791.558 1469.61 792.739 1468.27 Q794.984 1465.74 795.864 1464.01 Q796.766 1462.25 796.766 1460.56 Q796.766 1457.8 794.822 1456.07 Q792.901 1454.33 789.799 1454.33 Q787.6 1454.33 785.146 1455.09 Q782.716 1455.86 779.938 1457.41 L779.938 1452.69 Q782.762 1451.55 785.216 1450.97 Q787.669 1450.39 789.706 1450.39 Q795.077 1450.39 798.271 1453.08 Q801.465 1455.77 801.465 1460.26 Q801.465 1462.39 800.655 1464.31 Q799.868 1466.2 797.762 1468.8 Q797.183 1469.47 794.081 1472.69 Q790.979 1475.88 785.331 1481.64 Z\" fill=\"#000000\" fill-rule=\"evenodd\" fill-opacity=\"1\" /><path clip-path=\"url(#clip940)\" d=\"M811.512 1451.02 L829.868 1451.02 L829.868 1454.96 L815.794 1454.96 L815.794 1463.43 Q816.813 1463.08 817.831 1462.92 Q818.85 1462.73 819.868 1462.73 Q825.655 1462.73 829.035 1465.9 Q832.414 1469.08 832.414 1474.49 Q832.414 1480.07 828.942 1483.17 Q825.47 1486.25 819.151 1486.25 Q816.975 1486.25 814.706 1485.88 Q812.461 1485.51 810.053 1484.77 L810.053 1480.07 Q812.137 1481.2 814.359 1481.76 Q816.581 1482.32 819.058 1482.32 Q823.063 1482.32 825.4 1480.21 Q827.738 1478.1 827.738 1474.49 Q827.738 1470.88 825.4 1468.77 Q823.063 1466.67 819.058 1466.67 Q817.183 1466.67 815.308 1467.08 Q813.456 1467.5 811.512 1468.38 L811.512 1451.02 Z\" fill=\"#000000\" fill-rule=\"evenodd\" fill-opacity=\"1\" /><path clip-path=\"url(#clip940)\" d=\"M1248.61 1454.1 Q1245 1454.1 1243.17 1457.66 Q1241.37 1461.2 1241.37 1468.33 Q1241.37 1475.44 1243.17 1479.01 Q1245 1482.55 1248.61 1482.55 Q1252.25 1482.55 1254.05 1479.01 Q1255.88 1475.44 1255.88 1468.33 Q1255.88 1461.2 1254.05 1457.66 Q1252.25 1454.1 1248.61 1454.1 M1248.61 1450.39 Q1254.42 1450.39 1257.48 1455 Q1260.56 1459.58 1260.56 1468.33 Q1260.56 1477.06 1257.48 1481.67 Q1254.42 1486.25 1248.61 1486.25 Q1242.8 1486.25 1239.73 1481.67 Q1236.67 1477.06 1236.67 1468.33 Q1236.67 1459.58 1239.73 1455 Q1242.8 1450.39 1248.61 1450.39 Z\" fill=\"#000000\" fill-rule=\"evenodd\" fill-opacity=\"1\" /><path clip-path=\"url(#clip940)\" d=\"M1268.78 1479.7 L1273.66 1479.7 L1273.66 1485.58 L1268.78 1485.58 L1268.78 1479.7 Z\" fill=\"#000000\" fill-rule=\"evenodd\" fill-opacity=\"1\" /><path clip-path=\"url(#clip940)\" d=\"M1283.89 1451.02 L1302.25 1451.02 L1302.25 1454.96 L1288.17 1454.96 L1288.17 1463.43 Q1289.19 1463.08 1290.21 1462.92 Q1291.23 1462.73 1292.25 1462.73 Q1298.04 1462.73 1301.42 1465.9 Q1304.79 1469.08 1304.79 1474.49 Q1304.79 1480.07 1301.32 1483.17 Q1297.85 1486.25 1291.53 1486.25 Q1289.36 1486.25 1287.09 1485.88 Q1284.84 1485.51 1282.43 1484.77 L1282.43 1480.07 Q1284.52 1481.2 1286.74 1481.76 Q1288.96 1482.32 1291.44 1482.32 Q1295.44 1482.32 1297.78 1480.21 Q1300.12 1478.1 1300.12 1474.49 Q1300.12 1470.88 1297.78 1468.77 Q1295.44 1466.67 1291.44 1466.67 Q1289.56 1466.67 1287.69 1467.08 Q1285.84 1467.5 1283.89 1468.38 L1283.89 1451.02 Z\" fill=\"#000000\" fill-rule=\"evenodd\" fill-opacity=\"1\" /><path clip-path=\"url(#clip940)\" d=\"M1324.01 1454.1 Q1320.4 1454.1 1318.57 1457.66 Q1316.76 1461.2 1316.76 1468.33 Q1316.76 1475.44 1318.57 1479.01 Q1320.4 1482.55 1324.01 1482.55 Q1327.64 1482.55 1329.45 1479.01 Q1331.28 1475.44 1331.28 1468.33 Q1331.28 1461.2 1329.45 1457.66 Q1327.64 1454.1 1324.01 1454.1 M1324.01 1450.39 Q1329.82 1450.39 1332.87 1455 Q1335.95 1459.58 1335.95 1468.33 Q1335.95 1477.06 1332.87 1481.67 Q1329.82 1486.25 1324.01 1486.25 Q1318.2 1486.25 1315.12 1481.67 Q1312.06 1477.06 1312.06 1468.33 Q1312.06 1459.58 1315.12 1455 Q1318.2 1450.39 1324.01 1450.39 Z\" fill=\"#000000\" fill-rule=\"evenodd\" fill-opacity=\"1\" /><path clip-path=\"url(#clip940)\" d=\"M1752.15 1454.1 Q1748.54 1454.1 1746.71 1457.66 Q1744.91 1461.2 1744.91 1468.33 Q1744.91 1475.44 1746.71 1479.01 Q1748.54 1482.55 1752.15 1482.55 Q1755.79 1482.55 1757.59 1479.01 Q1759.42 1475.44 1759.42 1468.33 Q1759.42 1461.2 1757.59 1457.66 Q1755.79 1454.1 1752.15 1454.1 M1752.15 1450.39 Q1757.96 1450.39 1761.02 1455 Q1764.1 1459.58 1764.1 1468.33 Q1764.1 1477.06 1761.02 1481.67 Q1757.96 1486.25 1752.15 1486.25 Q1746.34 1486.25 1743.26 1481.67 Q1740.21 1477.06 1740.21 1468.33 Q1740.21 1459.58 1743.26 1455 Q1746.34 1450.39 1752.15 1450.39 Z\" fill=\"#000000\" fill-rule=\"evenodd\" fill-opacity=\"1\" /><path clip-path=\"url(#clip940)\" d=\"M1772.31 1479.7 L1777.2 1479.7 L1777.2 1485.58 L1772.31 1485.58 L1772.31 1479.7 Z\" fill=\"#000000\" fill-rule=\"evenodd\" fill-opacity=\"1\" /><path clip-path=\"url(#clip940)\" d=\"M1786.2 1451.02 L1808.43 1451.02 L1808.43 1453.01 L1795.88 1485.58 L1790.99 1485.58 L1802.8 1454.96 L1786.2 1454.96 L1786.2 1451.02 Z\" fill=\"#000000\" fill-rule=\"evenodd\" fill-opacity=\"1\" /><path clip-path=\"url(#clip940)\" d=\"M1817.59 1451.02 L1835.95 1451.02 L1835.95 1454.96 L1821.87 1454.96 L1821.87 1463.43 Q1822.89 1463.08 1823.91 1462.92 Q1824.93 1462.73 1825.95 1462.73 Q1831.74 1462.73 1835.11 1465.9 Q1838.49 1469.08 1838.49 1474.49 Q1838.49 1480.07 1835.02 1483.17 Q1831.55 1486.25 1825.23 1486.25 Q1823.05 1486.25 1820.79 1485.88 Q1818.54 1485.51 1816.13 1484.77 L1816.13 1480.07 Q1818.22 1481.2 1820.44 1481.76 Q1822.66 1482.32 1825.14 1482.32 Q1829.14 1482.32 1831.48 1480.21 Q1833.82 1478.1 1833.82 1474.49 Q1833.82 1470.88 1831.48 1468.77 Q1829.14 1466.67 1825.14 1466.67 Q1823.26 1466.67 1821.39 1467.08 Q1819.54 1467.5 1817.59 1468.38 L1817.59 1451.02 Z\" fill=\"#000000\" fill-rule=\"evenodd\" fill-opacity=\"1\" /><path clip-path=\"url(#clip940)\" d=\"M2244.46 1481.64 L2252.1 1481.64 L2252.1 1455.28 L2243.79 1456.95 L2243.79 1452.69 L2252.06 1451.02 L2256.73 1451.02 L2256.73 1481.64 L2264.37 1481.64 L2264.37 1485.58 L2244.46 1485.58 L2244.46 1481.64 Z\" fill=\"#000000\" fill-rule=\"evenodd\" fill-opacity=\"1\" /><path clip-path=\"url(#clip940)\" d=\"M2273.81 1479.7 L2278.7 1479.7 L2278.7 1485.58 L2273.81 1485.58 L2273.81 1479.7 Z\" fill=\"#000000\" fill-rule=\"evenodd\" fill-opacity=\"1\" /><path clip-path=\"url(#clip940)\" d=\"M2298.88 1454.1 Q2295.27 1454.1 2293.44 1457.66 Q2291.64 1461.2 2291.64 1468.33 Q2291.64 1475.44 2293.44 1479.01 Q2295.27 1482.55 2298.88 1482.55 Q2302.52 1482.55 2304.32 1479.01 Q2306.15 1475.44 2306.15 1468.33 Q2306.15 1461.2 2304.32 1457.66 Q2302.52 1454.1 2298.88 1454.1 M2298.88 1450.39 Q2304.69 1450.39 2307.75 1455 Q2310.83 1459.58 2310.83 1468.33 Q2310.83 1477.06 2307.75 1481.67 Q2304.69 1486.25 2298.88 1486.25 Q2293.07 1486.25 2290 1481.67 Q2286.94 1477.06 2286.94 1468.33 Q2286.94 1459.58 2290 1455 Q2293.07 1450.39 2298.88 1450.39 Z\" fill=\"#000000\" fill-rule=\"evenodd\" fill-opacity=\"1\" /><path clip-path=\"url(#clip940)\" d=\"M2329.05 1454.1 Q2325.43 1454.1 2323.61 1457.66 Q2321.8 1461.2 2321.8 1468.33 Q2321.8 1475.44 2323.61 1479.01 Q2325.43 1482.55 2329.05 1482.55 Q2332.68 1482.55 2334.49 1479.01 Q2336.31 1475.44 2336.31 1468.33 Q2336.31 1461.2 2334.49 1457.66 Q2332.68 1454.1 2329.05 1454.1 M2329.05 1450.39 Q2334.86 1450.39 2337.91 1455 Q2340.99 1459.58 2340.99 1468.33 Q2340.99 1477.06 2337.91 1481.67 Q2334.86 1486.25 2329.05 1486.25 Q2323.24 1486.25 2320.16 1481.67 Q2317.1 1477.06 2317.1 1468.33 Q2317.1 1459.58 2320.16 1455 Q2323.24 1450.39 2329.05 1450.39 Z\" fill=\"#000000\" fill-rule=\"evenodd\" fill-opacity=\"1\" /><path clip-path=\"url(#clip940)\" d=\"M915.843 1522.27 L915.843 1532.4 L927.906 1532.4 L927.906 1536.95 L915.843 1536.95 L915.843 1556.3 Q915.843 1560.66 917.021 1561.9 Q918.23 1563.14 921.89 1563.14 L927.906 1563.14 L927.906 1568.04 L921.89 1568.04 Q915.111 1568.04 912.533 1565.53 Q909.955 1562.98 909.955 1556.3 L909.955 1536.95 L905.658 1536.95 L905.658 1532.4 L909.955 1532.4 L909.955 1522.27 L915.843 1522.27 Z\" fill=\"#000000\" fill-rule=\"evenodd\" fill-opacity=\"1\" /><path clip-path=\"url(#clip940)\" d=\"M956.265 1537.87 Q955.278 1537.3 954.101 1537.04 Q952.955 1536.76 951.554 1536.76 Q946.589 1536.76 943.916 1540 Q941.274 1543.22 941.274 1549.27 L941.274 1568.04 L935.386 1568.04 L935.386 1532.4 L941.274 1532.4 L941.274 1537.93 Q943.12 1534.69 946.08 1533.13 Q949.04 1531.54 953.273 1531.54 Q953.878 1531.54 954.61 1531.63 Q955.342 1531.7 956.233 1531.85 L956.265 1537.87 Z\" fill=\"#000000\" fill-rule=\"evenodd\" fill-opacity=\"1\" /><path clip-path=\"url(#clip940)\" d=\"M978.609 1550.12 Q971.511 1550.12 968.774 1551.75 Q966.036 1553.37 966.036 1557.29 Q966.036 1560.4 968.073 1562.25 Q970.142 1564.07 973.675 1564.07 Q978.545 1564.07 981.473 1560.63 Q984.433 1557.16 984.433 1551.43 L984.433 1550.12 L978.609 1550.12 M990.29 1547.71 L990.29 1568.04 L984.433 1568.04 L984.433 1562.63 Q982.428 1565.88 979.436 1567.44 Q976.444 1568.97 972.116 1568.97 Q966.641 1568.97 963.395 1565.91 Q960.18 1562.82 960.18 1557.67 Q960.18 1551.65 964.19 1548.6 Q968.233 1545.54 976.222 1545.54 L984.433 1545.54 L984.433 1544.97 Q984.433 1540.93 981.76 1538.73 Q979.118 1536.5 974.312 1536.5 Q971.256 1536.5 968.36 1537.23 Q965.464 1537.97 962.79 1539.43 L962.79 1534.02 Q966.005 1532.78 969.028 1532.17 Q972.052 1531.54 974.917 1531.54 Q982.651 1531.54 986.47 1535.55 Q990.29 1539.56 990.29 1547.71 Z\" fill=\"#000000\" fill-rule=\"evenodd\" fill-opacity=\"1\" /><path clip-path=\"url(#clip940)\" d=\"M1031.99 1546.53 L1031.99 1568.04 L1026.13 1568.04 L1026.13 1546.72 Q1026.13 1541.66 1024.16 1539.14 Q1022.18 1536.63 1018.24 1536.63 Q1013.49 1536.63 1010.76 1539.65 Q1008.02 1542.68 1008.02 1547.9 L1008.02 1568.04 L1002.13 1568.04 L1002.13 1532.4 L1008.02 1532.4 L1008.02 1537.93 Q1010.12 1534.72 1012.95 1533.13 Q1015.82 1531.54 1019.54 1531.54 Q1025.68 1531.54 1028.83 1535.36 Q1031.99 1539.14 1031.99 1546.53 Z\" fill=\"#000000\" fill-rule=\"evenodd\" fill-opacity=\"1\" /><path clip-path=\"url(#clip940)\" d=\"M1066.39 1533.45 L1066.39 1538.98 Q1063.91 1537.71 1061.24 1537.07 Q1058.56 1536.44 1055.7 1536.44 Q1051.34 1536.44 1049.14 1537.77 Q1046.98 1539.11 1046.98 1541.79 Q1046.98 1543.82 1048.54 1545 Q1050.1 1546.15 1054.81 1547.2 L1056.81 1547.64 Q1063.05 1548.98 1065.66 1551.43 Q1068.3 1553.85 1068.3 1558.21 Q1068.3 1563.17 1064.35 1566.07 Q1060.44 1568.97 1053.56 1568.97 Q1050.7 1568.97 1047.58 1568.39 Q1044.49 1567.85 1041.06 1566.74 L1041.06 1560.69 Q1044.3 1562.38 1047.45 1563.24 Q1050.6 1564.07 1053.69 1564.07 Q1057.83 1564.07 1060.06 1562.66 Q1062.29 1561.23 1062.29 1558.65 Q1062.29 1556.27 1060.66 1554.99 Q1059.07 1553.72 1053.63 1552.54 L1051.59 1552.07 Q1046.15 1550.92 1043.73 1548.56 Q1041.31 1546.18 1041.31 1542.04 Q1041.31 1537.01 1044.88 1534.27 Q1048.44 1531.54 1055 1531.54 Q1058.24 1531.54 1061.11 1532.01 Q1063.97 1532.49 1066.39 1533.45 Z\" fill=\"#000000\" fill-rule=\"evenodd\" fill-opacity=\"1\" /><path clip-path=\"url(#clip940)\" d=\"M1105.38 1539.24 Q1107.58 1535.29 1110.63 1533.41 Q1113.69 1531.54 1117.83 1531.54 Q1123.4 1531.54 1126.42 1535.45 Q1129.44 1539.33 1129.44 1546.53 L1129.44 1568.04 L1123.56 1568.04 L1123.56 1546.72 Q1123.56 1541.59 1121.74 1539.11 Q1119.93 1536.63 1116.2 1536.63 Q1111.65 1536.63 1109.01 1539.65 Q1106.37 1542.68 1106.37 1547.9 L1106.37 1568.04 L1100.48 1568.04 L1100.48 1546.72 Q1100.48 1541.56 1098.67 1539.11 Q1096.85 1536.63 1093.06 1536.63 Q1088.58 1536.63 1085.93 1539.68 Q1083.29 1542.71 1083.29 1547.9 L1083.29 1568.04 L1077.4 1568.04 L1077.4 1532.4 L1083.29 1532.4 L1083.29 1537.93 Q1085.3 1534.66 1088.1 1533.1 Q1090.9 1531.54 1094.75 1531.54 Q1098.63 1531.54 1101.34 1533.51 Q1104.08 1535.48 1105.38 1539.24 Z\" fill=\"#000000\" fill-rule=\"evenodd\" fill-opacity=\"1\" /><path clip-path=\"url(#clip940)\" d=\"M1141.13 1532.4 L1146.98 1532.4 L1146.98 1568.04 L1141.13 1568.04 L1141.13 1532.4 M1141.13 1518.52 L1146.98 1518.52 L1146.98 1525.93 L1141.13 1525.93 L1141.13 1518.52 Z\" fill=\"#000000\" fill-rule=\"evenodd\" fill-opacity=\"1\" /><path clip-path=\"url(#clip940)\" d=\"M1181.96 1533.45 L1181.96 1538.98 Q1179.48 1537.71 1176.81 1537.07 Q1174.13 1536.44 1171.27 1536.44 Q1166.91 1536.44 1164.71 1537.77 Q1162.55 1539.11 1162.55 1541.79 Q1162.55 1543.82 1164.11 1545 Q1165.67 1546.15 1170.38 1547.2 L1172.38 1547.64 Q1178.62 1548.98 1181.23 1551.43 Q1183.87 1553.85 1183.87 1558.21 Q1183.87 1563.17 1179.92 1566.07 Q1176.01 1568.97 1169.13 1568.97 Q1166.27 1568.97 1163.15 1568.39 Q1160.06 1567.85 1156.63 1566.74 L1156.63 1560.69 Q1159.87 1562.38 1163.02 1563.24 Q1166.17 1564.07 1169.26 1564.07 Q1173.4 1564.07 1175.63 1562.66 Q1177.86 1561.23 1177.86 1558.65 Q1177.86 1556.27 1176.23 1554.99 Q1174.64 1553.72 1169.2 1552.54 L1167.16 1552.07 Q1161.72 1550.92 1159.3 1548.56 Q1156.88 1546.18 1156.88 1542.04 Q1156.88 1537.01 1160.45 1534.27 Q1164.01 1531.54 1170.57 1531.54 Q1173.81 1531.54 1176.68 1532.01 Q1179.54 1532.49 1181.96 1533.45 Z\" fill=\"#000000\" fill-rule=\"evenodd\" fill-opacity=\"1\" /><path clip-path=\"url(#clip940)\" d=\"M1215.92 1533.45 L1215.92 1538.98 Q1213.44 1537.71 1210.77 1537.07 Q1208.09 1536.44 1205.23 1536.44 Q1200.87 1536.44 1198.67 1537.77 Q1196.51 1539.11 1196.51 1541.79 Q1196.51 1543.82 1198.07 1545 Q1199.63 1546.15 1204.34 1547.2 L1206.34 1547.64 Q1212.58 1548.98 1215.19 1551.43 Q1217.83 1553.85 1217.83 1558.21 Q1217.83 1563.17 1213.89 1566.07 Q1209.97 1568.97 1203.1 1568.97 Q1200.23 1568.97 1197.11 1568.39 Q1194.02 1567.85 1190.59 1566.74 L1190.59 1560.69 Q1193.83 1562.38 1196.98 1563.24 Q1200.14 1564.07 1203.22 1564.07 Q1207.36 1564.07 1209.59 1562.66 Q1211.82 1561.23 1211.82 1558.65 Q1211.82 1556.27 1210.19 1554.99 Q1208.6 1553.72 1203.16 1552.54 L1201.12 1552.07 Q1195.68 1550.92 1193.26 1548.56 Q1190.84 1546.18 1190.84 1542.04 Q1190.84 1537.01 1194.41 1534.27 Q1197.97 1531.54 1204.53 1531.54 Q1207.77 1531.54 1210.64 1532.01 Q1213.5 1532.49 1215.92 1533.45 Z\" fill=\"#000000\" fill-rule=\"evenodd\" fill-opacity=\"1\" /><path clip-path=\"url(#clip940)\" d=\"M1227.16 1532.4 L1233.01 1532.4 L1233.01 1568.04 L1227.16 1568.04 L1227.16 1532.4 M1227.16 1518.52 L1233.01 1518.52 L1233.01 1525.93 L1227.16 1525.93 L1227.16 1518.52 Z\" fill=\"#000000\" fill-rule=\"evenodd\" fill-opacity=\"1\" /><path clip-path=\"url(#clip940)\" d=\"M1259.08 1536.5 Q1254.37 1536.5 1251.63 1540.19 Q1248.9 1543.85 1248.9 1550.25 Q1248.9 1556.65 1251.6 1560.34 Q1254.34 1564 1259.08 1564 Q1263.76 1564 1266.5 1560.31 Q1269.24 1556.62 1269.24 1550.25 Q1269.24 1543.92 1266.5 1540.23 Q1263.76 1536.5 1259.08 1536.5 M1259.08 1531.54 Q1266.72 1531.54 1271.08 1536.5 Q1275.44 1541.47 1275.44 1550.25 Q1275.44 1559 1271.08 1564 Q1266.72 1568.97 1259.08 1568.97 Q1251.41 1568.97 1247.05 1564 Q1242.72 1559 1242.72 1550.25 Q1242.72 1541.47 1247.05 1536.5 Q1251.41 1531.54 1259.08 1531.54 Z\" fill=\"#000000\" fill-rule=\"evenodd\" fill-opacity=\"1\" /><path clip-path=\"url(#clip940)\" d=\"M1314.78 1546.53 L1314.78 1568.04 L1308.93 1568.04 L1308.93 1546.72 Q1308.93 1541.66 1306.95 1539.14 Q1304.98 1536.63 1301.03 1536.63 Q1296.29 1536.63 1293.55 1539.65 Q1290.81 1542.68 1290.81 1547.9 L1290.81 1568.04 L1284.93 1568.04 L1284.93 1532.4 L1290.81 1532.4 L1290.81 1537.93 Q1292.92 1534.72 1295.75 1533.13 Q1298.61 1531.54 1302.34 1531.54 Q1308.48 1531.54 1311.63 1535.36 Q1314.78 1539.14 1314.78 1546.53 Z\" fill=\"#000000\" fill-rule=\"evenodd\" fill-opacity=\"1\" /><path clip-path=\"url(#clip940)\" d=\"M1363.38 1550.12 Q1356.29 1550.12 1353.55 1551.75 Q1350.81 1553.37 1350.81 1557.29 Q1350.81 1560.4 1352.85 1562.25 Q1354.92 1564.07 1358.45 1564.07 Q1363.32 1564.07 1366.25 1560.63 Q1369.21 1557.16 1369.21 1551.43 L1369.21 1550.12 L1363.38 1550.12 M1375.06 1547.71 L1375.06 1568.04 L1369.21 1568.04 L1369.21 1562.63 Q1367.2 1565.88 1364.21 1567.44 Q1361.22 1568.97 1356.89 1568.97 Q1351.42 1568.97 1348.17 1565.91 Q1344.96 1562.82 1344.96 1557.67 Q1344.96 1551.65 1348.97 1548.6 Q1353.01 1545.54 1361 1545.54 L1369.21 1545.54 L1369.21 1544.97 Q1369.21 1540.93 1366.53 1538.73 Q1363.89 1536.5 1359.09 1536.5 Q1356.03 1536.5 1353.14 1537.23 Q1350.24 1537.97 1347.57 1539.43 L1347.57 1534.02 Q1350.78 1532.78 1353.8 1532.17 Q1356.83 1531.54 1359.69 1531.54 Q1367.43 1531.54 1371.25 1535.55 Q1375.06 1539.56 1375.06 1547.71 Z\" fill=\"#000000\" fill-rule=\"evenodd\" fill-opacity=\"1\" /><path clip-path=\"url(#clip940)\" d=\"M1414.88 1539.24 Q1417.08 1535.29 1420.13 1533.41 Q1423.19 1531.54 1427.33 1531.54 Q1432.9 1531.54 1435.92 1535.45 Q1438.94 1539.33 1438.94 1546.53 L1438.94 1568.04 L1433.06 1568.04 L1433.06 1546.72 Q1433.06 1541.59 1431.24 1539.11 Q1429.43 1536.63 1425.7 1536.63 Q1421.15 1536.63 1418.51 1539.65 Q1415.87 1542.68 1415.87 1547.9 L1415.87 1568.04 L1409.98 1568.04 L1409.98 1546.72 Q1409.98 1541.56 1408.17 1539.11 Q1406.35 1536.63 1402.56 1536.63 Q1398.08 1536.63 1395.44 1539.68 Q1392.79 1542.71 1392.79 1547.9 L1392.79 1568.04 L1386.91 1568.04 L1386.91 1532.4 L1392.79 1532.4 L1392.79 1537.93 Q1394.8 1534.66 1397.6 1533.1 Q1400.4 1531.54 1404.25 1531.54 Q1408.13 1531.54 1410.84 1533.51 Q1413.58 1535.48 1414.88 1539.24 Z\" fill=\"#000000\" fill-rule=\"evenodd\" fill-opacity=\"1\" /><path clip-path=\"url(#clip940)\" d=\"M1456.29 1562.7 L1456.29 1581.6 L1450.4 1581.6 L1450.4 1532.4 L1456.29 1532.4 L1456.29 1537.81 Q1458.14 1534.62 1460.94 1533.1 Q1463.77 1531.54 1467.69 1531.54 Q1474.18 1531.54 1478.22 1536.69 Q1482.3 1541.85 1482.3 1550.25 Q1482.3 1558.65 1478.22 1563.81 Q1474.18 1568.97 1467.69 1568.97 Q1463.77 1568.97 1460.94 1567.44 Q1458.14 1565.88 1456.29 1562.7 M1476.22 1550.25 Q1476.22 1543.79 1473.54 1540.13 Q1470.9 1536.44 1466.25 1536.44 Q1461.61 1536.44 1458.93 1540.13 Q1456.29 1543.79 1456.29 1550.25 Q1456.29 1556.71 1458.93 1560.4 Q1461.61 1564.07 1466.25 1564.07 Q1470.9 1564.07 1473.54 1560.4 Q1476.22 1556.71 1476.22 1550.25 Z\" fill=\"#000000\" fill-rule=\"evenodd\" fill-opacity=\"1\" /><path clip-path=\"url(#clip940)\" d=\"M1492 1518.52 L1497.86 1518.52 L1497.86 1568.04 L1492 1568.04 L1492 1518.52 Z\" fill=\"#000000\" fill-rule=\"evenodd\" fill-opacity=\"1\" /><path clip-path=\"url(#clip940)\" d=\"M1510.11 1532.4 L1515.97 1532.4 L1515.97 1568.04 L1510.11 1568.04 L1510.11 1532.4 M1510.11 1518.52 L1515.97 1518.52 L1515.97 1525.93 L1510.11 1525.93 L1510.11 1518.52 Z\" fill=\"#000000\" fill-rule=\"evenodd\" fill-opacity=\"1\" /><path clip-path=\"url(#clip940)\" d=\"M1534.02 1522.27 L1534.02 1532.4 L1546.08 1532.4 L1546.08 1536.95 L1534.02 1536.95 L1534.02 1556.3 Q1534.02 1560.66 1535.19 1561.9 Q1536.4 1563.14 1540.06 1563.14 L1546.08 1563.14 L1546.08 1568.04 L1540.06 1568.04 Q1533.28 1568.04 1530.71 1565.53 Q1528.13 1562.98 1528.13 1556.3 L1528.13 1536.95 L1523.83 1536.95 L1523.83 1532.4 L1528.13 1532.4 L1528.13 1522.27 L1534.02 1522.27 Z\" fill=\"#000000\" fill-rule=\"evenodd\" fill-opacity=\"1\" /><path clip-path=\"url(#clip940)\" d=\"M1553.18 1553.98 L1553.18 1532.4 L1559.03 1532.4 L1559.03 1553.75 Q1559.03 1558.81 1561.01 1561.36 Q1562.98 1563.87 1566.93 1563.87 Q1571.67 1563.87 1574.41 1560.85 Q1577.18 1557.83 1577.18 1552.61 L1577.18 1532.4 L1583.03 1532.4 L1583.03 1568.04 L1577.18 1568.04 L1577.18 1562.57 Q1575.04 1565.82 1572.21 1567.41 Q1569.41 1568.97 1565.69 1568.97 Q1559.54 1568.97 1556.36 1565.15 Q1553.18 1561.33 1553.18 1553.98 M1567.91 1531.54 L1567.91 1531.54 Z\" fill=\"#000000\" fill-rule=\"evenodd\" fill-opacity=\"1\" /><path clip-path=\"url(#clip940)\" d=\"M1618.55 1537.81 L1618.55 1518.52 L1624.41 1518.52 L1624.41 1568.04 L1618.55 1568.04 L1618.55 1562.7 Q1616.71 1565.88 1613.87 1567.44 Q1611.07 1568.97 1607.13 1568.97 Q1600.67 1568.97 1596.59 1563.81 Q1592.55 1558.65 1592.55 1550.25 Q1592.55 1541.85 1596.59 1536.69 Q1600.67 1531.54 1607.13 1531.54 Q1611.07 1531.54 1613.87 1533.1 Q1616.71 1534.62 1618.55 1537.81 M1598.6 1550.25 Q1598.6 1556.71 1601.24 1560.4 Q1603.91 1564.07 1608.56 1564.07 Q1613.21 1564.07 1615.88 1560.4 Q1618.55 1556.71 1618.55 1550.25 Q1618.55 1543.79 1615.88 1540.13 Q1613.21 1536.44 1608.56 1536.44 Q1603.91 1536.44 1601.24 1540.13 Q1598.6 1543.79 1598.6 1550.25 Z\" fill=\"#000000\" fill-rule=\"evenodd\" fill-opacity=\"1\" /><path clip-path=\"url(#clip940)\" d=\"M1666.96 1548.76 L1666.96 1551.62 L1640.04 1551.62 Q1640.42 1557.67 1643.67 1560.85 Q1646.94 1564 1652.77 1564 Q1656.14 1564 1659.29 1563.17 Q1662.48 1562.35 1665.6 1560.69 L1665.6 1566.23 Q1662.44 1567.57 1659.13 1568.27 Q1655.82 1568.97 1652.42 1568.97 Q1643.89 1568.97 1638.89 1564 Q1633.93 1559.04 1633.93 1550.57 Q1633.93 1541.82 1638.64 1536.69 Q1643.38 1531.54 1651.4 1531.54 Q1658.59 1531.54 1662.76 1536.18 Q1666.96 1540.8 1666.96 1548.76 M1661.11 1547.04 Q1661.04 1542.23 1658.4 1539.37 Q1655.79 1536.5 1651.46 1536.5 Q1646.56 1536.5 1643.6 1539.27 Q1640.67 1542.04 1640.23 1547.07 L1661.11 1547.04 Z\" fill=\"#000000\" fill-rule=\"evenodd\" fill-opacity=\"1\" /><polyline clip-path=\"url(#clip942)\" style=\"stroke:#000000; stroke-linecap:round; stroke-linejoin:round; stroke-width:2; stroke-opacity:0.1; fill:none\" points=\"\n",
       "  219.866,1384.24 2352.76,1384.24 \n",
       "  \"/>\n",
       "<polyline clip-path=\"url(#clip942)\" style=\"stroke:#000000; stroke-linecap:round; stroke-linejoin:round; stroke-width:2; stroke-opacity:0.1; fill:none\" points=\"\n",
       "  219.866,1124.63 2352.76,1124.63 \n",
       "  \"/>\n",
       "<polyline clip-path=\"url(#clip942)\" style=\"stroke:#000000; stroke-linecap:round; stroke-linejoin:round; stroke-width:2; stroke-opacity:0.1; fill:none\" points=\"\n",
       "  219.866,865.017 2352.76,865.017 \n",
       "  \"/>\n",
       "<polyline clip-path=\"url(#clip942)\" style=\"stroke:#000000; stroke-linecap:round; stroke-linejoin:round; stroke-width:2; stroke-opacity:0.1; fill:none\" points=\"\n",
       "  219.866,605.407 2352.76,605.407 \n",
       "  \"/>\n",
       "<polyline clip-path=\"url(#clip942)\" style=\"stroke:#000000; stroke-linecap:round; stroke-linejoin:round; stroke-width:2; stroke-opacity:0.1; fill:none\" points=\"\n",
       "  219.866,345.796 2352.76,345.796 \n",
       "  \"/>\n",
       "<polyline clip-path=\"url(#clip942)\" style=\"stroke:#000000; stroke-linecap:round; stroke-linejoin:round; stroke-width:2; stroke-opacity:0.1; fill:none\" points=\"\n",
       "  219.866,86.1857 2352.76,86.1857 \n",
       "  \"/>\n",
       "<polyline clip-path=\"url(#clip940)\" style=\"stroke:#000000; stroke-linecap:round; stroke-linejoin:round; stroke-width:4; stroke-opacity:1; fill:none\" points=\"\n",
       "  219.866,1423.18 219.866,47.2441 \n",
       "  \"/>\n",
       "<polyline clip-path=\"url(#clip940)\" style=\"stroke:#000000; stroke-linecap:round; stroke-linejoin:round; stroke-width:4; stroke-opacity:1; fill:none\" points=\"\n",
       "  219.866,1384.24 238.764,1384.24 \n",
       "  \"/>\n",
       "<polyline clip-path=\"url(#clip940)\" style=\"stroke:#000000; stroke-linecap:round; stroke-linejoin:round; stroke-width:4; stroke-opacity:1; fill:none\" points=\"\n",
       "  219.866,1124.63 238.764,1124.63 \n",
       "  \"/>\n",
       "<polyline clip-path=\"url(#clip940)\" style=\"stroke:#000000; stroke-linecap:round; stroke-linejoin:round; stroke-width:4; stroke-opacity:1; fill:none\" points=\"\n",
       "  219.866,865.017 238.764,865.017 \n",
       "  \"/>\n",
       "<polyline clip-path=\"url(#clip940)\" style=\"stroke:#000000; stroke-linecap:round; stroke-linejoin:round; stroke-width:4; stroke-opacity:1; fill:none\" points=\"\n",
       "  219.866,605.407 238.764,605.407 \n",
       "  \"/>\n",
       "<polyline clip-path=\"url(#clip940)\" style=\"stroke:#000000; stroke-linecap:round; stroke-linejoin:round; stroke-width:4; stroke-opacity:1; fill:none\" points=\"\n",
       "  219.866,345.796 238.764,345.796 \n",
       "  \"/>\n",
       "<polyline clip-path=\"url(#clip940)\" style=\"stroke:#000000; stroke-linecap:round; stroke-linejoin:round; stroke-width:4; stroke-opacity:1; fill:none\" points=\"\n",
       "  219.866,86.1857 238.764,86.1857 \n",
       "  \"/>\n",
       "<path clip-path=\"url(#clip940)\" d=\"M126.691 1370.04 Q123.08 1370.04 121.251 1373.6 Q119.445 1377.14 119.445 1384.27 Q119.445 1391.38 121.251 1394.94 Q123.08 1398.49 126.691 1398.49 Q130.325 1398.49 132.13 1394.94 Q133.959 1391.38 133.959 1384.27 Q133.959 1377.14 132.13 1373.6 Q130.325 1370.04 126.691 1370.04 M126.691 1366.33 Q132.501 1366.33 135.556 1370.94 Q138.635 1375.52 138.635 1384.27 Q138.635 1393 135.556 1397.61 Q132.501 1402.19 126.691 1402.19 Q120.88 1402.19 117.802 1397.61 Q114.746 1393 114.746 1384.27 Q114.746 1375.52 117.802 1370.94 Q120.88 1366.33 126.691 1366.33 Z\" fill=\"#000000\" fill-rule=\"evenodd\" fill-opacity=\"1\" /><path clip-path=\"url(#clip940)\" d=\"M146.853 1395.64 L151.737 1395.64 L151.737 1401.52 L146.853 1401.52 L146.853 1395.64 Z\" fill=\"#000000\" fill-rule=\"evenodd\" fill-opacity=\"1\" /><path clip-path=\"url(#clip940)\" d=\"M171.922 1370.04 Q168.311 1370.04 166.482 1373.6 Q164.677 1377.14 164.677 1384.27 Q164.677 1391.38 166.482 1394.94 Q168.311 1398.49 171.922 1398.49 Q175.556 1398.49 177.362 1394.94 Q179.19 1391.38 179.19 1384.27 Q179.19 1377.14 177.362 1373.6 Q175.556 1370.04 171.922 1370.04 M171.922 1366.33 Q177.732 1366.33 180.788 1370.94 Q183.866 1375.52 183.866 1384.27 Q183.866 1393 180.788 1397.61 Q177.732 1402.19 171.922 1402.19 Q166.112 1402.19 163.033 1397.61 Q159.978 1393 159.978 1384.27 Q159.978 1375.52 163.033 1370.94 Q166.112 1366.33 171.922 1366.33 Z\" fill=\"#000000\" fill-rule=\"evenodd\" fill-opacity=\"1\" /><path clip-path=\"url(#clip940)\" d=\"M127.917 1110.43 Q124.306 1110.43 122.478 1113.99 Q120.672 1117.53 120.672 1124.66 Q120.672 1131.77 122.478 1135.33 Q124.306 1138.88 127.917 1138.88 Q131.552 1138.88 133.357 1135.33 Q135.186 1131.77 135.186 1124.66 Q135.186 1117.53 133.357 1113.99 Q131.552 1110.43 127.917 1110.43 M127.917 1106.72 Q133.728 1106.72 136.783 1111.33 Q139.862 1115.91 139.862 1124.66 Q139.862 1133.39 136.783 1138 Q133.728 1142.58 127.917 1142.58 Q122.107 1142.58 119.029 1138 Q115.973 1133.39 115.973 1124.66 Q115.973 1115.91 119.029 1111.33 Q122.107 1106.72 127.917 1106.72 Z\" fill=\"#000000\" fill-rule=\"evenodd\" fill-opacity=\"1\" /><path clip-path=\"url(#clip940)\" d=\"M148.079 1136.03 L152.964 1136.03 L152.964 1141.91 L148.079 1141.91 L148.079 1136.03 Z\" fill=\"#000000\" fill-rule=\"evenodd\" fill-opacity=\"1\" /><path clip-path=\"url(#clip940)\" d=\"M163.959 1137.97 L171.598 1137.97 L171.598 1111.61 L163.288 1113.27 L163.288 1109.01 L171.552 1107.35 L176.227 1107.35 L176.227 1137.97 L183.866 1137.97 L183.866 1141.91 L163.959 1141.91 L163.959 1137.97 Z\" fill=\"#000000\" fill-rule=\"evenodd\" fill-opacity=\"1\" /><path clip-path=\"url(#clip940)\" d=\"M128.288 850.816 Q124.677 850.816 122.848 854.381 Q121.043 857.922 121.043 865.052 Q121.043 872.158 122.848 875.723 Q124.677 879.265 128.288 879.265 Q131.922 879.265 133.728 875.723 Q135.556 872.158 135.556 865.052 Q135.556 857.922 133.728 854.381 Q131.922 850.816 128.288 850.816 M128.288 847.112 Q134.098 847.112 137.154 851.719 Q140.232 856.302 140.232 865.052 Q140.232 873.779 137.154 878.385 Q134.098 882.969 128.288 882.969 Q122.478 882.969 119.399 878.385 Q116.343 873.779 116.343 865.052 Q116.343 856.302 119.399 851.719 Q122.478 847.112 128.288 847.112 Z\" fill=\"#000000\" fill-rule=\"evenodd\" fill-opacity=\"1\" /><path clip-path=\"url(#clip940)\" d=\"M148.45 876.418 L153.334 876.418 L153.334 882.297 L148.45 882.297 L148.45 876.418 Z\" fill=\"#000000\" fill-rule=\"evenodd\" fill-opacity=\"1\" /><path clip-path=\"url(#clip940)\" d=\"M167.547 878.362 L183.866 878.362 L183.866 882.297 L161.922 882.297 L161.922 878.362 Q164.584 875.607 169.167 870.978 Q173.774 866.325 174.954 864.983 Q177.2 862.459 178.079 860.723 Q178.982 858.964 178.982 857.274 Q178.982 854.52 177.038 852.783 Q175.116 851.047 172.014 851.047 Q169.815 851.047 167.362 851.811 Q164.931 852.575 162.153 854.126 L162.153 849.404 Q164.977 848.27 167.431 847.691 Q169.885 847.112 171.922 847.112 Q177.292 847.112 180.487 849.797 Q183.681 852.483 183.681 856.973 Q183.681 859.103 182.871 861.024 Q182.084 862.922 179.977 865.515 Q179.399 866.186 176.297 869.404 Q173.195 872.598 167.547 878.362 Z\" fill=\"#000000\" fill-rule=\"evenodd\" fill-opacity=\"1\" /><path clip-path=\"url(#clip940)\" d=\"M127.339 591.205 Q123.728 591.205 121.899 594.77 Q120.093 598.312 120.093 605.441 Q120.093 612.548 121.899 616.113 Q123.728 619.654 127.339 619.654 Q130.973 619.654 132.779 616.113 Q134.607 612.548 134.607 605.441 Q134.607 598.312 132.779 594.77 Q130.973 591.205 127.339 591.205 M127.339 587.502 Q133.149 587.502 136.204 592.108 Q139.283 596.691 139.283 605.441 Q139.283 614.168 136.204 618.775 Q133.149 623.358 127.339 623.358 Q121.529 623.358 118.45 618.775 Q115.394 614.168 115.394 605.441 Q115.394 596.691 118.45 592.108 Q121.529 587.502 127.339 587.502 Z\" fill=\"#000000\" fill-rule=\"evenodd\" fill-opacity=\"1\" /><path clip-path=\"url(#clip940)\" d=\"M147.501 616.807 L152.385 616.807 L152.385 622.687 L147.501 622.687 L147.501 616.807 Z\" fill=\"#000000\" fill-rule=\"evenodd\" fill-opacity=\"1\" /><path clip-path=\"url(#clip940)\" d=\"M176.737 604.053 Q180.093 604.77 181.968 607.039 Q183.866 609.307 183.866 612.64 Q183.866 617.756 180.348 620.557 Q176.829 623.358 170.348 623.358 Q168.172 623.358 165.857 622.918 Q163.565 622.502 161.112 621.645 L161.112 617.131 Q163.056 618.265 165.371 618.844 Q167.686 619.423 170.209 619.423 Q174.607 619.423 176.899 617.687 Q179.214 615.951 179.214 612.64 Q179.214 609.585 177.061 607.872 Q174.931 606.136 171.112 606.136 L167.084 606.136 L167.084 602.293 L171.297 602.293 Q174.746 602.293 176.575 600.928 Q178.403 599.539 178.403 596.946 Q178.403 594.284 176.505 592.872 Q174.63 591.437 171.112 591.437 Q169.19 591.437 166.991 591.854 Q164.792 592.27 162.153 593.15 L162.153 588.983 Q164.815 588.242 167.13 587.872 Q169.468 587.502 171.528 587.502 Q176.852 587.502 179.954 589.932 Q183.056 592.34 183.056 596.46 Q183.056 599.33 181.413 601.321 Q179.769 603.289 176.737 604.053 Z\" fill=\"#000000\" fill-rule=\"evenodd\" fill-opacity=\"1\" /><path clip-path=\"url(#clip940)\" d=\"M126.205 331.595 Q122.593 331.595 120.765 335.16 Q118.959 338.701 118.959 345.831 Q118.959 352.937 120.765 356.502 Q122.593 360.044 126.205 360.044 Q129.839 360.044 131.644 356.502 Q133.473 352.937 133.473 345.831 Q133.473 338.701 131.644 335.16 Q129.839 331.595 126.205 331.595 M126.205 327.891 Q132.015 327.891 135.07 332.498 Q138.149 337.081 138.149 345.831 Q138.149 354.558 135.07 359.164 Q132.015 363.747 126.205 363.747 Q120.394 363.747 117.316 359.164 Q114.26 354.558 114.26 345.831 Q114.26 337.081 117.316 332.498 Q120.394 327.891 126.205 327.891 Z\" fill=\"#000000\" fill-rule=\"evenodd\" fill-opacity=\"1\" /><path clip-path=\"url(#clip940)\" d=\"M146.366 357.197 L151.251 357.197 L151.251 363.076 L146.366 363.076 L146.366 357.197 Z\" fill=\"#000000\" fill-rule=\"evenodd\" fill-opacity=\"1\" /><path clip-path=\"url(#clip940)\" d=\"M174.283 332.59 L162.477 351.039 L174.283 351.039 L174.283 332.59 M173.056 328.516 L178.936 328.516 L178.936 351.039 L183.866 351.039 L183.866 354.928 L178.936 354.928 L178.936 363.076 L174.283 363.076 L174.283 354.928 L158.681 354.928 L158.681 350.414 L173.056 328.516 Z\" fill=\"#000000\" fill-rule=\"evenodd\" fill-opacity=\"1\" /><path clip-path=\"url(#clip940)\" d=\"M127.686 71.9844 Q124.075 71.9844 122.246 75.5492 Q120.441 79.0908 120.441 86.2204 Q120.441 93.3268 122.246 96.8916 Q124.075 100.433 127.686 100.433 Q131.32 100.433 133.126 96.8916 Q134.954 93.3268 134.954 86.2204 Q134.954 79.0908 133.126 75.5492 Q131.32 71.9844 127.686 71.9844 M127.686 68.2807 Q133.496 68.2807 136.552 72.8871 Q139.63 77.4704 139.63 86.2204 Q139.63 94.9472 136.552 99.5537 Q133.496 104.137 127.686 104.137 Q121.876 104.137 118.797 99.5537 Q115.742 94.9472 115.742 86.2204 Q115.742 77.4704 118.797 72.8871 Q121.876 68.2807 127.686 68.2807 Z\" fill=\"#000000\" fill-rule=\"evenodd\" fill-opacity=\"1\" /><path clip-path=\"url(#clip940)\" d=\"M147.848 97.5861 L152.732 97.5861 L152.732 103.466 L147.848 103.466 L147.848 97.5861 Z\" fill=\"#000000\" fill-rule=\"evenodd\" fill-opacity=\"1\" /><path clip-path=\"url(#clip940)\" d=\"M162.964 68.9057 L181.32 68.9057 L181.32 72.8408 L167.246 72.8408 L167.246 81.313 Q168.264 80.9658 169.283 80.8038 Q170.302 80.6186 171.32 80.6186 Q177.107 80.6186 180.487 83.7899 Q183.866 86.9611 183.866 92.3778 Q183.866 97.9564 180.394 101.058 Q176.922 104.137 170.602 104.137 Q168.427 104.137 166.158 103.767 Q163.913 103.396 161.505 102.655 L161.505 97.9564 Q163.589 99.0907 165.811 99.6462 Q168.033 100.202 170.51 100.202 Q174.514 100.202 176.852 98.0953 Q179.19 95.9889 179.19 92.3778 Q179.19 88.7667 176.852 86.6602 Q174.514 84.5537 170.51 84.5537 Q168.635 84.5537 166.76 84.9704 Q164.908 85.3871 162.964 86.2667 L162.964 68.9057 Z\" fill=\"#000000\" fill-rule=\"evenodd\" fill-opacity=\"1\" /><path clip-path=\"url(#clip940)\" d=\"M58.657 1073.22 L77.5631 1073.22 L77.5631 1079.1 L28.3562 1079.1 L28.3562 1073.22 L33.7671 1073.22 Q30.5842 1071.37 29.0564 1068.57 Q27.4968 1065.74 27.4968 1061.82 Q27.4968 1055.33 32.6531 1051.29 Q37.8093 1047.21 46.212 1047.21 Q54.6147 1047.21 59.771 1051.29 Q64.9272 1055.33 64.9272 1061.82 Q64.9272 1065.74 63.3994 1068.57 Q61.8398 1071.37 58.657 1073.22 M46.212 1053.29 Q39.7508 1053.29 36.0905 1055.96 Q32.3984 1058.61 32.3984 1063.25 Q32.3984 1067.9 36.0905 1070.57 Q39.7508 1073.22 46.212 1073.22 Q52.6732 1073.22 56.3653 1070.57 Q60.0256 1067.9 60.0256 1063.25 Q60.0256 1058.61 56.3653 1055.96 Q52.6732 1053.29 46.212 1053.29 Z\" fill=\"#000000\" fill-rule=\"evenodd\" fill-opacity=\"1\" /><path clip-path=\"url(#clip940)\" d=\"M46.212 991.193 Q39.7508 991.193 36.0905 993.867 Q32.3984 996.508 32.3984 1001.16 Q32.3984 1005.8 36.0905 1008.48 Q39.7508 1011.12 46.212 1011.12 Q52.6732 1011.12 56.3653 1008.48 Q60.0256 1005.8 60.0256 1001.16 Q60.0256 996.508 56.3653 993.867 Q52.6732 991.193 46.212 991.193 M33.7671 1011.12 Q30.5842 1009.27 29.0564 1006.47 Q27.4968 1003.64 27.4968 999.723 Q27.4968 993.23 32.6531 989.188 Q37.8093 985.114 46.212 985.114 Q54.6147 985.114 59.771 989.188 Q64.9272 993.23 64.9272 999.723 Q64.9272 1003.64 63.3994 1006.47 Q61.8398 1009.27 58.657 1011.12 L64.0042 1011.12 L64.0042 1017.01 L14.479 1017.01 L14.479 1011.12 L33.7671 1011.12 Z\" fill=\"#000000\" fill-rule=\"evenodd\" fill-opacity=\"1\" /><path clip-path=\"url(#clip940)\" d=\"M49.9359 976.011 L28.3562 976.011 L28.3562 970.154 L49.7131 970.154 Q54.7739 970.154 57.3202 968.181 Q59.8346 966.208 59.8346 962.261 Q59.8346 957.518 56.8109 954.781 Q53.7872 952.012 48.5673 952.012 L28.3562 952.012 L28.3562 946.156 L64.0042 946.156 L64.0042 952.012 L58.5296 952.012 Q61.7762 954.145 63.3676 956.977 Q64.9272 959.778 64.9272 963.502 Q64.9272 969.645 61.1078 972.828 Q57.2883 976.011 49.9359 976.011 M27.4968 961.274 L27.4968 961.274 Z\" fill=\"#000000\" fill-rule=\"evenodd\" fill-opacity=\"1\" /><path clip-path=\"url(#clip940)\" d=\"M42.4881 904.46 L64.0042 904.46 L64.0042 910.317 L42.679 910.317 Q37.6183 910.317 35.1038 912.29 Q32.5894 914.263 32.5894 918.21 Q32.5894 922.953 35.6131 925.69 Q38.6368 928.427 43.8567 928.427 L64.0042 928.427 L64.0042 934.315 L28.3562 934.315 L28.3562 928.427 L33.8944 928.427 Q30.6797 926.326 29.0883 923.494 Q27.4968 920.629 27.4968 916.905 Q27.4968 910.762 31.3163 907.611 Q35.1038 904.46 42.4881 904.46 Z\" fill=\"#000000\" fill-rule=\"evenodd\" fill-opacity=\"1\" /><path clip-path=\"url(#clip940)\" d=\"M29.7248 867.125 L35.1993 867.125 Q33.8307 869.608 33.1623 872.122 Q32.4621 874.605 32.4621 877.151 Q32.4621 882.849 36.0905 886 Q39.6872 889.151 46.212 889.151 Q52.7369 889.151 56.3653 886 Q59.9619 882.849 59.9619 877.151 Q59.9619 874.605 59.2935 872.122 Q58.5933 869.608 57.2247 867.125 L62.6355 867.125 Q63.7814 869.576 64.3543 872.218 Q64.9272 874.828 64.9272 877.788 Q64.9272 885.841 59.8664 890.583 Q54.8057 895.325 46.212 895.325 Q37.491 895.325 32.4939 890.551 Q27.4968 885.745 27.4968 877.406 Q27.4968 874.701 28.0697 872.122 Q28.6108 869.544 29.7248 867.125 Z\" fill=\"#000000\" fill-rule=\"evenodd\" fill-opacity=\"1\" /><path clip-path=\"url(#clip940)\" d=\"M42.4881 827.308 L64.0042 827.308 L64.0042 833.164 L42.679 833.164 Q37.6183 833.164 35.1038 835.138 Q32.5894 837.111 32.5894 841.058 Q32.5894 845.8 35.6131 848.537 Q38.6368 851.275 43.8567 851.275 L64.0042 851.275 L64.0042 857.163 L14.479 857.163 L14.479 851.275 L33.8944 851.275 Q30.6797 849.174 29.0883 846.341 Q27.4968 843.477 27.4968 839.753 Q27.4968 833.61 31.3163 830.459 Q35.1038 827.308 42.4881 827.308 Z\" fill=\"#000000\" fill-rule=\"evenodd\" fill-opacity=\"1\" /><path clip-path=\"url(#clip940)\" d=\"M28.3562 815.627 L28.3562 809.77 L64.0042 809.77 L64.0042 815.627 L28.3562 815.627 M14.479 815.627 L14.479 809.77 L21.895 809.77 L21.895 815.627 L14.479 815.627 Z\" fill=\"#000000\" fill-rule=\"evenodd\" fill-opacity=\"1\" /><path clip-path=\"url(#clip940)\" d=\"M42.4881 767.884 L64.0042 767.884 L64.0042 773.74 L42.679 773.74 Q37.6183 773.74 35.1038 775.714 Q32.5894 777.687 32.5894 781.634 Q32.5894 786.376 35.6131 789.114 Q38.6368 791.851 43.8567 791.851 L64.0042 791.851 L64.0042 797.739 L28.3562 797.739 L28.3562 791.851 L33.8944 791.851 Q30.6797 789.75 29.0883 786.917 Q27.4968 784.053 27.4968 780.329 Q27.4968 774.186 31.3163 771.035 Q35.1038 767.884 42.4881 767.884 Z\" fill=\"#000000\" fill-rule=\"evenodd\" fill-opacity=\"1\" /><path clip-path=\"url(#clip940)\" d=\"M45.7664 732.745 Q39.4007 732.745 35.8996 735.387 Q32.3984 737.997 32.3984 742.739 Q32.3984 747.45 35.8996 750.092 Q39.4007 752.702 45.7664 752.702 Q52.1003 752.702 55.6014 750.092 Q59.1026 747.45 59.1026 742.739 Q59.1026 737.997 55.6014 735.387 Q52.1003 732.745 45.7664 732.745 M59.58 726.889 Q68.683 726.889 73.1071 730.931 Q77.5631 734.973 77.5631 743.312 Q77.5631 746.4 77.0857 749.137 Q76.6401 751.874 75.6852 754.452 L69.9879 754.452 Q71.3884 751.874 72.0568 749.36 Q72.7252 746.845 72.7252 744.235 Q72.7252 738.474 69.7015 735.61 Q66.7096 732.745 60.6303 732.745 L57.7339 732.745 Q60.885 734.559 62.4446 737.392 Q64.0042 740.225 64.0042 744.172 Q64.0042 750.728 59.0071 754.739 Q54.01 758.749 45.7664 758.749 Q37.491 758.749 32.4939 754.739 Q27.4968 750.728 27.4968 744.172 Q27.4968 740.225 29.0564 737.392 Q30.616 734.559 33.7671 732.745 L28.3562 732.745 L28.3562 726.889 L59.58 726.889 Z\" fill=\"#000000\" fill-rule=\"evenodd\" fill-opacity=\"1\" /><path clip-path=\"url(#clip940)\" d=\"M18.2347 688.313 L28.3562 688.313 L28.3562 676.25 L32.9077 676.25 L32.9077 688.313 L52.2594 688.313 Q56.6199 688.313 57.8613 687.135 Q59.1026 685.925 59.1026 682.265 L59.1026 676.25 L64.0042 676.25 L64.0042 682.265 Q64.0042 689.045 61.4897 691.623 Q58.9434 694.201 52.2594 694.201 L32.9077 694.201 L32.9077 698.498 L28.3562 698.498 L28.3562 694.201 L18.2347 694.201 L18.2347 688.313 Z\" fill=\"#000000\" fill-rule=\"evenodd\" fill-opacity=\"1\" /><path clip-path=\"url(#clip940)\" d=\"M32.4621 654.734 Q32.4621 659.444 36.1542 662.181 Q39.8145 664.919 46.212 664.919 Q52.6095 664.919 56.3017 662.213 Q59.9619 659.476 59.9619 654.734 Q59.9619 650.055 56.2698 647.317 Q52.5777 644.58 46.212 644.58 Q39.8781 644.58 36.186 647.317 Q32.4621 650.055 32.4621 654.734 M27.4968 654.734 Q27.4968 647.095 32.4621 642.734 Q37.4273 638.374 46.212 638.374 Q54.9649 638.374 59.9619 642.734 Q64.9272 647.095 64.9272 654.734 Q64.9272 662.404 59.9619 666.765 Q54.9649 671.093 46.212 671.093 Q37.4273 671.093 32.4621 666.765 Q27.4968 662.404 27.4968 654.734 Z\" fill=\"#000000\" fill-rule=\"evenodd\" fill-opacity=\"1\" /><path clip-path=\"url(#clip940)\" d=\"M58.657 623 L77.5631 623 L77.5631 628.889 L28.3562 628.889 L28.3562 623 L33.7671 623 Q30.5842 621.154 29.0564 618.354 Q27.4968 615.521 27.4968 611.606 Q27.4968 605.113 32.6531 601.071 Q37.8093 596.997 46.212 596.997 Q54.6147 596.997 59.771 601.071 Q64.9272 605.113 64.9272 611.606 Q64.9272 615.521 63.3994 618.354 Q61.8398 621.154 58.657 623 M46.212 603.076 Q39.7508 603.076 36.0905 605.749 Q32.3984 608.391 32.3984 613.038 Q32.3984 617.685 36.0905 620.359 Q39.7508 623 46.212 623 Q52.6732 623 56.3653 620.359 Q60.0256 617.685 60.0256 613.038 Q60.0256 608.391 56.3653 605.749 Q52.6732 603.076 46.212 603.076 Z\" fill=\"#000000\" fill-rule=\"evenodd\" fill-opacity=\"1\" /><path clip-path=\"url(#clip940)\" d=\"M35.1993 538.814 Q31.2526 536.618 29.3747 533.562 Q27.4968 530.507 27.4968 526.369 Q27.4968 520.799 31.4117 517.775 Q35.2948 514.752 42.4881 514.752 L64.0042 514.752 L64.0042 520.64 L42.679 520.64 Q37.5546 520.64 35.072 522.454 Q32.5894 524.268 32.5894 527.992 Q32.5894 532.544 35.6131 535.186 Q38.6368 537.827 43.8567 537.827 L64.0042 537.827 L64.0042 543.716 L42.679 543.716 Q37.5228 543.716 35.072 545.53 Q32.5894 547.344 32.5894 551.132 Q32.5894 555.619 35.6449 558.261 Q38.6686 560.903 43.8567 560.903 L64.0042 560.903 L64.0042 566.791 L28.3562 566.791 L28.3562 560.903 L33.8944 560.903 Q30.616 558.898 29.0564 556.097 Q27.4968 553.296 27.4968 549.445 Q27.4968 545.562 29.4702 542.856 Q31.4436 540.119 35.1993 538.814 Z\" fill=\"#000000\" fill-rule=\"evenodd\" fill-opacity=\"1\" /><path clip-path=\"url(#clip940)\" d=\"M32.4621 489.257 Q32.4621 493.968 36.1542 496.705 Q39.8145 499.442 46.212 499.442 Q52.6095 499.442 56.3017 496.737 Q59.9619 493.999 59.9619 489.257 Q59.9619 484.578 56.2698 481.841 Q52.5777 479.104 46.212 479.104 Q39.8781 479.104 36.186 481.841 Q32.4621 484.578 32.4621 489.257 M27.4968 489.257 Q27.4968 481.618 32.4621 477.258 Q37.4273 472.897 46.212 472.897 Q54.9649 472.897 59.9619 477.258 Q64.9272 481.618 64.9272 489.257 Q64.9272 496.928 59.9619 501.288 Q54.9649 505.617 46.212 505.617 Q37.4273 505.617 32.4621 501.288 Q27.4968 496.928 27.4968 489.257 Z\" fill=\"#000000\" fill-rule=\"evenodd\" fill-opacity=\"1\" /><path clip-path=\"url(#clip940)\" d=\"M33.7671 439.732 L14.479 439.732 L14.479 433.875 L64.0042 433.875 L64.0042 439.732 L58.657 439.732 Q61.8398 441.578 63.3994 444.411 Q64.9272 447.211 64.9272 451.158 Q64.9272 457.619 59.771 461.693 Q54.6147 465.736 46.212 465.736 Q37.8093 465.736 32.6531 461.693 Q27.4968 457.619 27.4968 451.158 Q27.4968 447.211 29.0564 444.411 Q30.5842 441.578 33.7671 439.732 M46.212 459.688 Q52.6732 459.688 56.3653 457.047 Q60.0256 454.373 60.0256 449.726 Q60.0256 445.079 56.3653 442.405 Q52.6732 439.732 46.212 439.732 Q39.7508 439.732 36.0905 442.405 Q32.3984 445.079 32.3984 449.726 Q32.3984 454.373 36.0905 457.047 Q39.7508 459.688 46.212 459.688 Z\" fill=\"#000000\" fill-rule=\"evenodd\" fill-opacity=\"1\" /><path clip-path=\"url(#clip940)\" d=\"M44.7161 391.321 L47.5806 391.321 L47.5806 418.248 Q53.6281 417.866 56.8109 414.619 Q59.9619 411.341 59.9619 405.516 Q59.9619 402.142 59.1344 398.991 Q58.3069 395.808 56.6518 392.689 L62.1899 392.689 Q63.5267 395.84 64.227 399.15 Q64.9272 402.461 64.9272 405.866 Q64.9272 414.396 59.9619 419.393 Q54.9967 424.359 46.5303 424.359 Q37.7774 424.359 32.6531 419.648 Q27.4968 414.906 27.4968 406.885 Q27.4968 399.691 32.1438 395.522 Q36.7589 391.321 44.7161 391.321 M42.9973 397.177 Q38.1912 397.241 35.3266 399.882 Q32.4621 402.492 32.4621 406.821 Q32.4621 411.723 35.2312 414.683 Q38.0002 417.611 43.0292 418.057 L42.9973 397.177 Z\" fill=\"#000000\" fill-rule=\"evenodd\" fill-opacity=\"1\" /><polyline clip-path=\"url(#clip942)\" style=\"stroke:#009af9; stroke-linecap:round; stroke-linejoin:round; stroke-width:4; stroke-opacity:1; fill:none\" points=\"\n",
       "  280.231,1384.24 481.447,1384.11 682.663,1382.16 883.879,1373.72 1085.1,1351.01 1286.31,1303.11 1487.53,1216.01 1688.74,1072.58 1889.96,852.556 2091.18,532.586 \n",
       "  2292.39,86.1857 \n",
       "  \"/>\n",
       "<path clip-path=\"url(#clip940)\" d=\"\n",
       "M1992.24 196.789 L2281.66 196.789 L2281.66 93.1086 L1992.24 93.1086  Z\n",
       "  \" fill=\"#ffffff\" fill-rule=\"evenodd\" fill-opacity=\"1\"/>\n",
       "<polyline clip-path=\"url(#clip940)\" style=\"stroke:#000000; stroke-linecap:round; stroke-linejoin:round; stroke-width:4; stroke-opacity:1; fill:none\" points=\"\n",
       "  1992.24,196.789 2281.66,196.789 2281.66,93.1086 1992.24,93.1086 1992.24,196.789 \n",
       "  \"/>\n",
       "<polyline clip-path=\"url(#clip940)\" style=\"stroke:#009af9; stroke-linecap:round; stroke-linejoin:round; stroke-width:4; stroke-opacity:1; fill:none\" points=\"\n",
       "  2015.94,144.949 2158.13,144.949 \n",
       "  \"/>\n",
       "<path clip-path=\"url(#clip940)\" d=\"M2195.67 164.636 Q2193.87 169.266 2192.16 170.678 Q2190.44 172.09 2187.57 172.09 L2184.17 172.09 L2184.17 168.525 L2186.67 168.525 Q2188.43 168.525 2189.4 167.692 Q2190.37 166.858 2191.55 163.756 L2192.32 161.812 L2181.83 136.303 L2186.35 136.303 L2194.45 156.581 L2202.55 136.303 L2207.06 136.303 L2195.67 164.636 Z\" fill=\"#000000\" fill-rule=\"evenodd\" fill-opacity=\"1\" /><path clip-path=\"url(#clip940)\" d=\"M2214.35 158.293 L2221.99 158.293 L2221.99 131.928 L2213.68 133.595 L2213.68 129.335 L2221.95 127.669 L2226.62 127.669 L2226.62 158.293 L2234.26 158.293 L2234.26 162.229 L2214.35 162.229 L2214.35 158.293 Z\" fill=\"#000000\" fill-rule=\"evenodd\" fill-opacity=\"1\" /></svg>\n"
      ]
     },
     "execution_count": 37,
     "metadata": {},
     "output_type": "execute_result"
    }
   ],
   "source": [
    "n = 2\n",
    "m = 2\n",
    "i = Input{Bosonic}(first_modes(n,m))\n",
    "o = FockDetection(ModeOccupation([2,0])) # detecting bunching, should be 0.5 in probability if there was no loss\n",
    "transmission_amplitude_loss_array = 0:0.1:1\n",
    "output_proba = []\n",
    "\n",
    "function lossy_bs_example(η_loss)\n",
    "\n",
    "    circuit = LossyCircuit(2)\n",
    "    interf = LossyBeamSplitter(1/sqrt(2), η_loss)\n",
    "    target_modes = [1,2]\n",
    "\n",
    "    add_element_lossy!(circuit, interf, target_modes = target_modes)\n",
    "    circuit\n",
    "\n",
    "end\n",
    "\n",
    "for transmission in transmission_amplitude_loss_array\n",
    "\n",
    "    ev = Event(i,o, lossy_bs_example(transmission))\n",
    "    compute_probability!(ev)\n",
    "    push!(output_proba, ev.proba_params.probability)\n",
    "end\n",
    "\n",
    "plot(transmission_amplitude_loss_array, output_proba)\n",
    "ylabel!(\"p bunching top mode\")\n",
    "xlabel!(\"transmission amplitude\")"
   ]
  },
  {
   "cell_type": "code",
   "execution_count": null,
   "id": "ac2b7210",
   "metadata": {},
   "outputs": [],
   "source": []
  }
 ],
 "metadata": {
  "kernelspec": {
   "display_name": "Julia 1.7.3",
   "language": "julia",
   "name": "julia-1.7"
  },
  "language_info": {
   "file_extension": ".jl",
   "mimetype": "application/julia",
   "name": "julia",
   "version": "1.8.1"
  }
 },
 "nbformat": 4,
 "nbformat_minor": 5
}
